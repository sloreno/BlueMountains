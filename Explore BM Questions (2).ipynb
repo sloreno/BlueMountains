{
 "cells": [
  {
   "cell_type": "markdown",
   "metadata": {},
   "source": [
    "# Blue Mountains Analysis"
   ]
  },
  {
   "cell_type": "markdown",
   "metadata": {},
   "source": [
    "## Prepatory work"
   ]
  },
  {
   "cell_type": "code",
   "execution_count": 4,
   "metadata": {
    "ExecuteTime": {
     "end_time": "2017-06-14T22:55:41.972348Z",
     "start_time": "2017-06-14T22:55:27.699107Z"
    },
    "collapsed": false,
    "scrolled": true
   },
   "outputs": [],
   "source": [
    "import warnings\n",
    "warnings.filterwarnings('ignore')\n",
    "\n",
    "%matplotlib inline\n",
    "%config InlineBackend.figure_format='retina'\n",
    "\n",
    "\n",
    "from __future__ import absolute_import, division, print_function\n",
    "import matplotlib as mpl\n",
    "from matplotlib import pyplot as plt\n",
    "from matplotlib.pyplot import GridSpec\n",
    "import seaborn as sns\n",
    "import mpld3\n",
    "import numpy as np\n",
    "import pandas as pd\n",
    "import os, sys\n",
    "from tqdm import tqdm\n",
    "import warnings\n",
    "warnings.filterwarnings('ignore')\n",
    "sns.set_context(\"poster\", font_scale=1.3)\n",
    "\n",
    "from IPython.display import Image\n",
    "\n",
    "\n",
    "#import hdbscan\n",
    "from sklearn.datasets import make_blobs\n",
    "import time\n",
    "\n",
    "#import bokeh\n",
    "from bokeh.plotting import figure, show, output_notebook\n"
   ]
  },
  {
   "cell_type": "code",
   "execution_count": 5,
   "metadata": {
    "ExecuteTime": {
     "end_time": "2017-06-14T22:55:42.751933Z",
     "start_time": "2017-06-14T22:55:41.975832Z"
    },
    "collapsed": false
   },
   "outputs": [],
   "source": [
    "#bring in table containing initial values (cond table)\n",
    "initial = pd.read_excel(open('data/initial.xlsx', 'rb'), sheetname='combo')"
   ]
  },
  {
   "cell_type": "code",
   "execution_count": 6,
   "metadata": {
    "ExecuteTime": {
     "end_time": "2017-06-14T22:55:42.797925Z",
     "start_time": "2017-06-14T22:55:42.754898Z"
    },
    "collapsed": false
   },
   "outputs": [
    {
     "data": {
      "text/html": [
       "<div>\n",
       "<table border=\"1\" class=\"dataframe\">\n",
       "  <thead>\n",
       "    <tr style=\"text-align: right;\">\n",
       "      <th></th>\n",
       "      <th>biosum_cond_id</th>\n",
       "      <th>biosum_plot_id</th>\n",
       "      <th>invyr</th>\n",
       "      <th>condid</th>\n",
       "      <th>condprop</th>\n",
       "      <th>landclcd</th>\n",
       "      <th>fortypcd</th>\n",
       "      <th>ground_land_class_pnw</th>\n",
       "      <th>owncd</th>\n",
       "      <th>owngrpcd</th>\n",
       "      <th>...</th>\n",
       "      <th>fvs_filename</th>\n",
       "      <th>idb_cond_id</th>\n",
       "      <th>idb_plot_id</th>\n",
       "      <th>cn</th>\n",
       "      <th>biosum_status_cd</th>\n",
       "      <th>Hazard</th>\n",
       "      <th>Surface_Flame_Height</th>\n",
       "      <th>PTorch</th>\n",
       "      <th>TorchIndex</th>\n",
       "      <th>MorVolPer</th>\n",
       "    </tr>\n",
       "  </thead>\n",
       "  <tbody>\n",
       "    <tr>\n",
       "      <th>0</th>\n",
       "      <td>1200741010706100863620001</td>\n",
       "      <td>120074101070610086362000</td>\n",
       "      <td>2007</td>\n",
       "      <td>1</td>\n",
       "      <td>1.017708</td>\n",
       "      <td>1</td>\n",
       "      <td>321</td>\n",
       "      <td>120</td>\n",
       "      <td>11</td>\n",
       "      <td>10</td>\n",
       "      <td>...</td>\n",
       "      <td>41863621.fvs</td>\n",
       "      <td>NaN</td>\n",
       "      <td>NaN</td>\n",
       "      <td>171243552020004</td>\n",
       "      <td>1</td>\n",
       "      <td>2</td>\n",
       "      <td>3.430332</td>\n",
       "      <td>0.364541</td>\n",
       "      <td>29.663570</td>\n",
       "      <td>40.428998</td>\n",
       "    </tr>\n",
       "    <tr>\n",
       "      <th>1</th>\n",
       "      <td>1200741010706100873630001</td>\n",
       "      <td>120074101070610087363000</td>\n",
       "      <td>2007</td>\n",
       "      <td>1</td>\n",
       "      <td>1.017708</td>\n",
       "      <td>1</td>\n",
       "      <td>201</td>\n",
       "      <td>120</td>\n",
       "      <td>11</td>\n",
       "      <td>10</td>\n",
       "      <td>...</td>\n",
       "      <td>41873631.fvs</td>\n",
       "      <td>NaN</td>\n",
       "      <td>NaN</td>\n",
       "      <td>171243758020004</td>\n",
       "      <td>1</td>\n",
       "      <td>3</td>\n",
       "      <td>3.815775</td>\n",
       "      <td>0.999502</td>\n",
       "      <td>18.385487</td>\n",
       "      <td>84.297243</td>\n",
       "    </tr>\n",
       "    <tr>\n",
       "      <th>2</th>\n",
       "      <td>1200741010706100892580001</td>\n",
       "      <td>120074101070610089258000</td>\n",
       "      <td>2007</td>\n",
       "      <td>1</td>\n",
       "      <td>1.017708</td>\n",
       "      <td>1</td>\n",
       "      <td>321</td>\n",
       "      <td>120</td>\n",
       "      <td>11</td>\n",
       "      <td>10</td>\n",
       "      <td>...</td>\n",
       "      <td>41892581.fvs</td>\n",
       "      <td>NaN</td>\n",
       "      <td>NaN</td>\n",
       "      <td>171243740020004</td>\n",
       "      <td>1</td>\n",
       "      <td>1</td>\n",
       "      <td>1.906024</td>\n",
       "      <td>0.000000</td>\n",
       "      <td>210.137131</td>\n",
       "      <td>99.987517</td>\n",
       "    </tr>\n",
       "    <tr>\n",
       "      <th>3</th>\n",
       "      <td>1200741010706100968720001</td>\n",
       "      <td>120074101070610096872000</td>\n",
       "      <td>2007</td>\n",
       "      <td>1</td>\n",
       "      <td>0.915437</td>\n",
       "      <td>1</td>\n",
       "      <td>221</td>\n",
       "      <td>120</td>\n",
       "      <td>11</td>\n",
       "      <td>10</td>\n",
       "      <td>...</td>\n",
       "      <td>41968721.fvs</td>\n",
       "      <td>NaN</td>\n",
       "      <td>NaN</td>\n",
       "      <td>171243766020004</td>\n",
       "      <td>1</td>\n",
       "      <td>4</td>\n",
       "      <td>4.744007</td>\n",
       "      <td>0.912882</td>\n",
       "      <td>0.000000</td>\n",
       "      <td>90.182055</td>\n",
       "    </tr>\n",
       "    <tr>\n",
       "      <th>4</th>\n",
       "      <td>1200741010706300564370001</td>\n",
       "      <td>120074101070630056437000</td>\n",
       "      <td>2007</td>\n",
       "      <td>1</td>\n",
       "      <td>0.618935</td>\n",
       "      <td>1</td>\n",
       "      <td>201</td>\n",
       "      <td>120</td>\n",
       "      <td>11</td>\n",
       "      <td>10</td>\n",
       "      <td>...</td>\n",
       "      <td>41564371.fvs</td>\n",
       "      <td>NaN</td>\n",
       "      <td>NaN</td>\n",
       "      <td>171243948020004</td>\n",
       "      <td>1</td>\n",
       "      <td>1</td>\n",
       "      <td>5.206946</td>\n",
       "      <td>0.156523</td>\n",
       "      <td>107.447495</td>\n",
       "      <td>20.555877</td>\n",
       "    </tr>\n",
       "  </tbody>\n",
       "</table>\n",
       "<p>5 rows × 64 columns</p>\n",
       "</div>"
      ],
      "text/plain": [
       "              biosum_cond_id            biosum_plot_id  invyr  condid  \\\n",
       "0  1200741010706100863620001  120074101070610086362000   2007       1   \n",
       "1  1200741010706100873630001  120074101070610087363000   2007       1   \n",
       "2  1200741010706100892580001  120074101070610089258000   2007       1   \n",
       "3  1200741010706100968720001  120074101070610096872000   2007       1   \n",
       "4  1200741010706300564370001  120074101070630056437000   2007       1   \n",
       "\n",
       "   condprop  landclcd  fortypcd  ground_land_class_pnw  owncd  owngrpcd  \\\n",
       "0  1.017708         1       321                    120     11        10   \n",
       "1  1.017708         1       201                    120     11        10   \n",
       "2  1.017708         1       321                    120     11        10   \n",
       "3  0.915437         1       221                    120     11        10   \n",
       "4  0.618935         1       201                    120     11        10   \n",
       "\n",
       "     ...      fvs_filename  idb_cond_id  idb_plot_id               cn  \\\n",
       "0    ...      41863621.fvs          NaN          NaN  171243552020004   \n",
       "1    ...      41873631.fvs          NaN          NaN  171243758020004   \n",
       "2    ...      41892581.fvs          NaN          NaN  171243740020004   \n",
       "3    ...      41968721.fvs          NaN          NaN  171243766020004   \n",
       "4    ...      41564371.fvs          NaN          NaN  171243948020004   \n",
       "\n",
       "   biosum_status_cd  Hazard  Surface_Flame_Height    PTorch  TorchIndex  \\\n",
       "0                 1       2              3.430332  0.364541   29.663570   \n",
       "1                 1       3              3.815775  0.999502   18.385487   \n",
       "2                 1       1              1.906024  0.000000  210.137131   \n",
       "3                 1       4              4.744007  0.912882    0.000000   \n",
       "4                 1       1              5.206946  0.156523  107.447495   \n",
       "\n",
       "   MorVolPer  \n",
       "0  40.428998  \n",
       "1  84.297243  \n",
       "2  99.987517  \n",
       "3  90.182055  \n",
       "4  20.555877  \n",
       "\n",
       "[5 rows x 64 columns]"
      ]
     },
     "execution_count": 6,
     "metadata": {},
     "output_type": "execute_result"
    }
   ],
   "source": [
    "#show first 5 lines of dataframe\n",
    "initial.to_csv('outputs/initial.csv')\n",
    "initial.head(n=5)"
   ]
  },
  {
   "cell_type": "markdown",
   "metadata": {},
   "source": [
    "# How many forested acres are currently at high fire risk (by landowner class)?"
   ]
  },
  {
   "cell_type": "code",
   "execution_count": 7,
   "metadata": {
    "ExecuteTime": {
     "end_time": "2017-06-14T22:55:42.812934Z",
     "start_time": "2017-06-14T22:55:42.801428Z"
    },
    "collapsed": true
   },
   "outputs": [],
   "source": [
    "#group by owner and hazard score, display acres\n",
    "groupby_object = initial[['owngrpcd', 'Hazard', 'acres']].groupby(['owngrpcd', 'Hazard'])"
   ]
  },
  {
   "cell_type": "code",
   "execution_count": 8,
   "metadata": {
    "ExecuteTime": {
     "end_time": "2017-06-14T22:55:42.852961Z",
     "start_time": "2017-06-14T22:55:42.817437Z"
    },
    "collapsed": false
   },
   "outputs": [
    {
     "name": "stdout",
     "output_type": "stream",
     "text": [
      "   owngrpcd  Hazard      acres sum  counts\n",
      "0        10       0  349403.040186     214\n",
      "1        10       1  580876.140878     356\n",
      "2        10       2  546552.250725     329\n",
      "3        10       3  407742.751668     234\n",
      "4        10       4  269700.550173     147\n",
      "5        40       0  103009.316626      19\n",
      "6        40       1  248283.002003      46\n",
      "7        40       2  242613.253318      40\n",
      "8        40       3  135544.030100      23\n",
      "9        40       4  104257.392476      19\n"
     ]
    }
   ],
   "source": [
    "#calculate the sum of acres, by ownergroup and hazard score, for intial conditions, also provide a count. \n",
    "initial_sum = groupby_object.agg('sum')\\\n",
    "                .rename(columns = lambda x: x + ' sum')\\\n",
    "                .join(pd.DataFrame(groupby_object.size(), \n",
    "                                      columns=['counts']))\\\n",
    "                .reset_index()\n",
    "                \n",
    "print(initial_sum)"
   ]
  },
  {
   "cell_type": "markdown",
   "metadata": {},
   "source": [
    "Above table: by owner group, the number and percentage of acres in for each Hazard score. \n",
    "\n",
    "Notes: Similiar percentage of acres in each class between owner groups, surprisingly. Would have suspected that federal lands would have a higher percentage of acres in the higher hazard score groups. "
   ]
  },
  {
   "cell_type": "code",
   "execution_count": 9,
   "metadata": {
    "ExecuteTime": {
     "end_time": "2017-06-14T22:55:42.883483Z",
     "start_time": "2017-06-14T22:55:42.856463Z"
    },
    "collapsed": false
   },
   "outputs": [
    {
     "name": "stdout",
     "output_type": "stream",
     "text": [
      "2154274.73363\n",
      "833706.994523\n",
      "2987981.72815\n"
     ]
    }
   ],
   "source": [
    "#sum up acres by owner group\n",
    "fed=initial_sum[initial_sum[\"owngrpcd\"]==10].sum()[\"acres sum\"]\n",
    "private=initial_sum[initial_sum[\"owngrpcd\"]==40].sum()[\"acres sum\"]\n",
    "total_acres=fed + private\n",
    "\n",
    "print(fed)\n",
    "print(private)\n",
    "print(total_acres)"
   ]
  },
  {
   "cell_type": "markdown",
   "metadata": {},
   "source": [
    "Acre totals (no filtering) by owner group:\n",
    "* **Fed:** 2,154,274\n",
    "* **Private:** 833,706\n",
    "* **Total acres:** 2,987,981"
   ]
  },
  {
   "cell_type": "code",
   "execution_count": 10,
   "metadata": {
    "ExecuteTime": {
     "end_time": "2017-06-14T22:55:43.273537Z",
     "start_time": "2017-06-14T22:55:42.887484Z"
    },
    "collapsed": false
   },
   "outputs": [
    {
     "name": "stdout",
     "output_type": "stream",
     "text": [
      "   owngrpcd  Hazard      acres sum  counts    percent\n",
      "0        10       0  349403.040186     214  16.219057\n",
      "1        10       1  580876.140878     356  26.963884\n",
      "2        10       2  546552.250725     329  25.370592\n",
      "3        10       3  407742.751668     234  18.927147\n",
      "4        10       4  269700.550173     147  12.519320\n",
      "5        40       0  103009.316626      19  12.355578\n",
      "6        40       1  248283.002003      46  29.780607\n",
      "7        40       2  242613.253318      40  29.100542\n",
      "8        40       3  135544.030100      23  16.257994\n",
      "9        40       4  104257.392476      19  12.505280\n"
     ]
    }
   ],
   "source": [
    "#find percentage of acres in each hazard class by owner group\n",
    "initial_sum['percent']=np.NaN\n",
    "initial_sum['percent'][initial_sum.owngrpcd==10]=(initial_sum['acres sum']/fed)*100\n",
    "initial_sum['percent'][initial_sum.owngrpcd==40]=(initial_sum['acres sum']/private)*100\n",
    "print(initial_sum)"
   ]
  },
  {
   "cell_type": "code",
   "execution_count": 11,
   "metadata": {
    "ExecuteTime": {
     "end_time": "2017-06-14T22:55:43.975509Z",
     "start_time": "2017-06-14T22:55:43.276539Z"
    },
    "collapsed": false
   },
   "outputs": [],
   "source": [
    "#export to graph in R - see graphs created below\n",
    "initial.to_csv('outputs/initial.csv')\n",
    "\n",
    "initial_sum.to_csv('outputs/initial_sum.csv')"
   ]
  },
  {
   "cell_type": "markdown",
   "metadata": {},
   "source": [
    "\n",
    "<img src=\"graphs/initialHazard_byOwnerGroup.jpg\",width=500,height=600>"
   ]
  },
  {
   "cell_type": "markdown",
   "metadata": {},
   "source": [
    "<img src=\"graphs/initialHazard_byOwnerGroup_p.jpg\",width=500,height=600>"
   ]
  },
  {
   "cell_type": "markdown",
   "metadata": {},
   "source": [
    "![](.graphs/initialHazard_byOwnerGroup.png =100x20)"
   ]
  },
  {
   "cell_type": "markdown",
   "metadata": {},
   "source": [
    "# What was the change in effectiveness after 'best' treatment?"
   ]
  },
  {
   "cell_type": "markdown",
   "metadata": {},
   "source": [
    "This SQL query was used to create the table \"weighted_no_NR_opt\" based on the core analysis scenario \"weighted_nNR\""
   ]
  },
  {
   "cell_type": "markdown",
   "metadata": {},
   "source": [
    "``` mysql\n",
    "SELECT cycle1_best_rx_summary.biosum_cond_id, cycle1_best_rx_summary.optimization_value, cycle1_best_rx_summary.acres, cycle1_best_rx_summary.owngrpcd, cycle1_effective.pre_variable1_value AS preHazard\n",
    "FROM cycle1_effective INNER JOIN (cycle1_best_rx_summary INNER JOIN cycle1_optimization ON (cycle1_best_rx_summary.biosum_cond_id = cycle1_optimization.biosum_cond_id) AND (cycle1_best_rx_summary.rx = cycle1_optimization.rx)) ON (cycle1_effective.rx = cycle1_best_rx_summary.rx) AND (cycle1_effective.biosum_cond_id = cycle1_best_rx_summary.biosum_cond_id)\n",
    "WHERE (((cycle1_effective.rxcycle)=\"1\"));\n",
    "\n",
    "```"
   ]
  },
  {
   "cell_type": "code",
   "execution_count": 12,
   "metadata": {
    "ExecuteTime": {
     "end_time": "2017-06-14T22:55:51.560052Z",
     "start_time": "2017-06-14T22:55:49.856419Z"
    },
    "collapsed": false
   },
   "outputs": [
    {
     "data": {
      "text/html": [
       "<div>\n",
       "<table border=\"1\" class=\"dataframe\">\n",
       "  <thead>\n",
       "    <tr style=\"text-align: right;\">\n",
       "      <th></th>\n",
       "      <th>biosum_cond_id</th>\n",
       "      <th>optimization_value</th>\n",
       "      <th>acres</th>\n",
       "      <th>owngrpcd</th>\n",
       "      <th>preHazard</th>\n",
       "      <th>rxpackage</th>\n",
       "    </tr>\n",
       "  </thead>\n",
       "  <tbody>\n",
       "    <tr>\n",
       "      <th>0</th>\n",
       "      <td>1200741010700100571330001</td>\n",
       "      <td>-1.475</td>\n",
       "      <td>1998.090515</td>\n",
       "      <td>10</td>\n",
       "      <td>2.525</td>\n",
       "      <td>3</td>\n",
       "    </tr>\n",
       "    <tr>\n",
       "      <th>1</th>\n",
       "      <td>1200741010700100600620001</td>\n",
       "      <td>-0.225</td>\n",
       "      <td>1820.489084</td>\n",
       "      <td>10</td>\n",
       "      <td>1.750</td>\n",
       "      <td>34</td>\n",
       "    </tr>\n",
       "    <tr>\n",
       "      <th>2</th>\n",
       "      <td>1200741010700100714590001</td>\n",
       "      <td>-0.925</td>\n",
       "      <td>1711.995996</td>\n",
       "      <td>10</td>\n",
       "      <td>4.000</td>\n",
       "      <td>27</td>\n",
       "    </tr>\n",
       "  </tbody>\n",
       "</table>\n",
       "</div>"
      ],
      "text/plain": [
       "              biosum_cond_id  optimization_value        acres  owngrpcd  \\\n",
       "0  1200741010700100571330001              -1.475  1998.090515        10   \n",
       "1  1200741010700100600620001              -0.225  1820.489084        10   \n",
       "2  1200741010700100714590001              -0.925  1711.995996        10   \n",
       "\n",
       "   preHazard  rxpackage  \n",
       "0      2.525          3  \n",
       "1      1.750         34  \n",
       "2      4.000         27  "
      ]
     },
     "execution_count": 12,
     "metadata": {},
     "output_type": "execute_result"
    }
   ],
   "source": [
    "#read in the cycle1_optimization created by SQL above from tables in core analysis\n",
    "w_nNR_change = pd.read_excel(open('data/weighted_no_NR_opt.xlsx', 'rb'), sheetname='opt', lowmemory=False)\n",
    "\n",
    "w_nNR_change.biosum_cond_id = w_nNR_change.biosum_cond_id.astype(str)\n",
    "w_nNR_change.head(n=3)"
   ]
  },
  {
   "cell_type": "code",
   "execution_count": 13,
   "metadata": {
    "collapsed": false
   },
   "outputs": [
    {
     "data": {
      "text/html": [
       "<div>\n",
       "<table border=\"1\" class=\"dataframe\">\n",
       "  <thead>\n",
       "    <tr style=\"text-align: right;\">\n",
       "      <th></th>\n",
       "      <th>biosum_cond_id</th>\n",
       "      <th>optimization_value</th>\n",
       "      <th>acres</th>\n",
       "      <th>owngrpcd</th>\n",
       "      <th>preHazard</th>\n",
       "      <th>rxpackage</th>\n",
       "      <th>bin</th>\n",
       "      <th>pre_bin</th>\n",
       "    </tr>\n",
       "  </thead>\n",
       "  <tbody>\n",
       "    <tr>\n",
       "      <th>0</th>\n",
       "      <td>1200741010700100571330001</td>\n",
       "      <td>-1.475</td>\n",
       "      <td>1998.090515</td>\n",
       "      <td>10</td>\n",
       "      <td>2.525</td>\n",
       "      <td>3</td>\n",
       "      <td>(-2, -1]</td>\n",
       "      <td>(2, 3]</td>\n",
       "    </tr>\n",
       "    <tr>\n",
       "      <th>1</th>\n",
       "      <td>1200741010700100600620001</td>\n",
       "      <td>-0.225</td>\n",
       "      <td>1820.489084</td>\n",
       "      <td>10</td>\n",
       "      <td>1.750</td>\n",
       "      <td>34</td>\n",
       "      <td>(-1, 0]</td>\n",
       "      <td>(1, 2]</td>\n",
       "    </tr>\n",
       "    <tr>\n",
       "      <th>2</th>\n",
       "      <td>1200741010700100714590001</td>\n",
       "      <td>-0.925</td>\n",
       "      <td>1711.995996</td>\n",
       "      <td>10</td>\n",
       "      <td>4.000</td>\n",
       "      <td>27</td>\n",
       "      <td>(-1, 0]</td>\n",
       "      <td>(3, 4]</td>\n",
       "    </tr>\n",
       "    <tr>\n",
       "      <th>3</th>\n",
       "      <td>1200741010700100717720001</td>\n",
       "      <td>-0.225</td>\n",
       "      <td>1711.995996</td>\n",
       "      <td>10</td>\n",
       "      <td>2.775</td>\n",
       "      <td>25</td>\n",
       "      <td>(-1, 0]</td>\n",
       "      <td>(2, 3]</td>\n",
       "    </tr>\n",
       "    <tr>\n",
       "      <th>4</th>\n",
       "      <td>1200741010700100736160001</td>\n",
       "      <td>-0.025</td>\n",
       "      <td>2001.387821</td>\n",
       "      <td>10</td>\n",
       "      <td>1.000</td>\n",
       "      <td>6</td>\n",
       "      <td>(-1, 0]</td>\n",
       "      <td>(0, 1]</td>\n",
       "    </tr>\n",
       "  </tbody>\n",
       "</table>\n",
       "</div>"
      ],
      "text/plain": [
       "              biosum_cond_id  optimization_value        acres  owngrpcd  \\\n",
       "0  1200741010700100571330001              -1.475  1998.090515        10   \n",
       "1  1200741010700100600620001              -0.225  1820.489084        10   \n",
       "2  1200741010700100714590001              -0.925  1711.995996        10   \n",
       "3  1200741010700100717720001              -0.225  1711.995996        10   \n",
       "4  1200741010700100736160001              -0.025  2001.387821        10   \n",
       "\n",
       "   preHazard  rxpackage       bin pre_bin  \n",
       "0      2.525          3  (-2, -1]  (2, 3]  \n",
       "1      1.750         34   (-1, 0]  (1, 2]  \n",
       "2      4.000         27   (-1, 0]  (3, 4]  \n",
       "3      2.775         25   (-1, 0]  (2, 3]  \n",
       "4      1.000          6   (-1, 0]  (0, 1]  "
      ]
     },
     "execution_count": 13,
     "metadata": {},
     "output_type": "execute_result"
    }
   ],
   "source": [
    "#create a bin column and assign based on change in optimiation value\n",
    "w_nNR_change['bin'] = pd.cut(w_nNR_change['optimization_value'], [-4, -3, -2, -1, 0])\n",
    "#create a pre_bin column and assign based on initial hazard score\n",
    "w_nNR_change['pre_bin'] = pd.cut(w_nNR_change['preHazard'], [0,1,2,3,4])\n",
    "\n",
    "w_nNR_change.head(n=5)"
   ]
  },
  {
   "cell_type": "code",
   "execution_count": 14,
   "metadata": {
    "collapsed": false
   },
   "outputs": [
    {
     "data": {
      "text/html": [
       "<div>\n",
       "<table border=\"1\" class=\"dataframe\">\n",
       "  <thead>\n",
       "    <tr style=\"text-align: right;\">\n",
       "      <th></th>\n",
       "      <th>biosum_cond_id</th>\n",
       "      <th>optimization_value</th>\n",
       "      <th>acres</th>\n",
       "      <th>owngrpcd</th>\n",
       "      <th>preHazard</th>\n",
       "      <th>rxpackage</th>\n",
       "      <th>bin</th>\n",
       "      <th>pre_bin</th>\n",
       "    </tr>\n",
       "  </thead>\n",
       "  <tbody>\n",
       "    <tr>\n",
       "      <th>0</th>\n",
       "      <td>1200741010700100571330001</td>\n",
       "      <td>-1.475</td>\n",
       "      <td>1998.090515</td>\n",
       "      <td>10</td>\n",
       "      <td>2.525</td>\n",
       "      <td>3</td>\n",
       "      <td>(-2, -1]</td>\n",
       "      <td>(2, 3]</td>\n",
       "    </tr>\n",
       "    <tr>\n",
       "      <th>1</th>\n",
       "      <td>1200741010700100600620001</td>\n",
       "      <td>-0.225</td>\n",
       "      <td>1820.489084</td>\n",
       "      <td>10</td>\n",
       "      <td>1.750</td>\n",
       "      <td>34</td>\n",
       "      <td>(-1, 0]</td>\n",
       "      <td>(1, 2]</td>\n",
       "    </tr>\n",
       "  </tbody>\n",
       "</table>\n",
       "</div>"
      ],
      "text/plain": [
       "              biosum_cond_id  optimization_value        acres  owngrpcd  \\\n",
       "0  1200741010700100571330001              -1.475  1998.090515        10   \n",
       "1  1200741010700100600620001              -0.225  1820.489084        10   \n",
       "\n",
       "   preHazard  rxpackage       bin pre_bin  \n",
       "0      2.525          3  (-2, -1]  (2, 3]  \n",
       "1      1.750         34   (-1, 0]  (1, 2]  "
      ]
     },
     "execution_count": 14,
     "metadata": {},
     "output_type": "execute_result"
    }
   ],
   "source": [
    "#group by pre_bin, bin, and ownergroup and sum the number of acres\n",
    "w_nNR_change.groupby(['pre_bin', 'bin', 'owngrpcd'], as_index=False)['acres'].sum()\n",
    "\n",
    "#this table was used to create the change in hazard score table \n",
    "w_nNR_change.head(n=2)"
   ]
  },
  {
   "cell_type": "markdown",
   "metadata": {},
   "source": [
    "#  What is treatment popularity [acres picked for each treatment] (when cost is no object, and only seeking to maximize the multi-point score described below, or the multi-point score difference from grow only)?"
   ]
  },
  {
   "cell_type": "code",
   "execution_count": 15,
   "metadata": {
    "ExecuteTime": {
     "end_time": "2017-06-14T22:55:44.413800Z",
     "start_time": "2017-06-14T22:55:44.362266Z"
    },
    "collapsed": true
   },
   "outputs": [],
   "source": [
    "#read in the compile_Effective table (which is the cycle1_best_rx_summary from CORE ANALYSIS scenario weighted_nNR)\n",
    "w_nNR = pd.read_excel(open('data/weighted_noNR.xlsx', 'rb'), sheetname='cycle1_best_rx_summary', lowmemory=False)\n"
   ]
  },
  {
   "cell_type": "code",
   "execution_count": 16,
   "metadata": {
    "ExecuteTime": {
     "end_time": "2017-06-14T22:55:44.439318Z",
     "start_time": "2017-06-14T22:55:44.416302Z"
    },
    "collapsed": false
   },
   "outputs": [
    {
     "data": {
      "text/html": [
       "<div>\n",
       "<table border=\"1\" class=\"dataframe\">\n",
       "  <thead>\n",
       "    <tr style=\"text-align: right;\">\n",
       "      <th></th>\n",
       "      <th>biosum_cond_id</th>\n",
       "      <th>rx</th>\n",
       "      <th>acres</th>\n",
       "      <th>owngrpcd</th>\n",
       "      <th>optimization_value</th>\n",
       "      <th>tiebreaker_value</th>\n",
       "      <th>rx_intensity</th>\n",
       "    </tr>\n",
       "  </thead>\n",
       "  <tbody>\n",
       "    <tr>\n",
       "      <th>0</th>\n",
       "      <td>1200741010700100571330001</td>\n",
       "      <td>102</td>\n",
       "      <td>1998.090515</td>\n",
       "      <td>10</td>\n",
       "      <td>-1.475</td>\n",
       "      <td>84.491959</td>\n",
       "      <td>NaN</td>\n",
       "    </tr>\n",
       "    <tr>\n",
       "      <th>1</th>\n",
       "      <td>1200741010700100600620001</td>\n",
       "      <td>305</td>\n",
       "      <td>1820.489084</td>\n",
       "      <td>10</td>\n",
       "      <td>-0.225</td>\n",
       "      <td>83.301268</td>\n",
       "      <td>NaN</td>\n",
       "    </tr>\n",
       "    <tr>\n",
       "      <th>2</th>\n",
       "      <td>1200741010700100714590001</td>\n",
       "      <td>208</td>\n",
       "      <td>1711.995996</td>\n",
       "      <td>10</td>\n",
       "      <td>-0.925</td>\n",
       "      <td>67.847637</td>\n",
       "      <td>NaN</td>\n",
       "    </tr>\n",
       "    <tr>\n",
       "      <th>3</th>\n",
       "      <td>1200741010700100717720001</td>\n",
       "      <td>206</td>\n",
       "      <td>1711.995996</td>\n",
       "      <td>10</td>\n",
       "      <td>-0.225</td>\n",
       "      <td>79.823242</td>\n",
       "      <td>NaN</td>\n",
       "    </tr>\n",
       "    <tr>\n",
       "      <th>4</th>\n",
       "      <td>1200741010700100736160001</td>\n",
       "      <td>115</td>\n",
       "      <td>2001.387821</td>\n",
       "      <td>10</td>\n",
       "      <td>-0.025</td>\n",
       "      <td>23.657479</td>\n",
       "      <td>NaN</td>\n",
       "    </tr>\n",
       "  </tbody>\n",
       "</table>\n",
       "</div>"
      ],
      "text/plain": [
       "              biosum_cond_id   rx        acres  owngrpcd  optimization_value  \\\n",
       "0  1200741010700100571330001  102  1998.090515        10              -1.475   \n",
       "1  1200741010700100600620001  305  1820.489084        10              -0.225   \n",
       "2  1200741010700100714590001  208  1711.995996        10              -0.925   \n",
       "3  1200741010700100717720001  206  1711.995996        10              -0.225   \n",
       "4  1200741010700100736160001  115  2001.387821        10              -0.025   \n",
       "\n",
       "   tiebreaker_value  rx_intensity  \n",
       "0         84.491959           NaN  \n",
       "1         83.301268           NaN  \n",
       "2         67.847637           NaN  \n",
       "3         79.823242           NaN  \n",
       "4         23.657479           NaN  "
      ]
     },
     "execution_count": 16,
     "metadata": {},
     "output_type": "execute_result"
    }
   ],
   "source": [
    "#display top 5 lines of table\n",
    "w_nNR.head(n=5)"
   ]
  },
  {
   "cell_type": "code",
   "execution_count": 17,
   "metadata": {
    "ExecuteTime": {
     "end_time": "2017-06-14T22:55:44.455829Z",
     "start_time": "2017-06-14T22:55:44.446822Z"
    },
    "collapsed": true
   },
   "outputs": [],
   "source": [
    "#group by owner and hazard score, display acres\n",
    "groupby_w = w_nNR[['owngrpcd', 'rx', 'acres']].groupby(['owngrpcd', 'rx'])\n"
   ]
  },
  {
   "cell_type": "code",
   "execution_count": 18,
   "metadata": {
    "ExecuteTime": {
     "end_time": "2017-06-14T22:55:44.497356Z",
     "start_time": "2017-06-14T22:55:44.459331Z"
    },
    "collapsed": false,
    "scrolled": true
   },
   "outputs": [
    {
     "data": {
      "text/html": [
       "<div>\n",
       "<table border=\"1\" class=\"dataframe\">\n",
       "  <thead>\n",
       "    <tr style=\"text-align: right;\">\n",
       "      <th></th>\n",
       "      <th>owngrpcd</th>\n",
       "      <th>rx</th>\n",
       "      <th>acres sum</th>\n",
       "      <th>counts</th>\n",
       "    </tr>\n",
       "  </thead>\n",
       "  <tbody>\n",
       "    <tr>\n",
       "      <th>0</th>\n",
       "      <td>10</td>\n",
       "      <td>100</td>\n",
       "      <td>31202.900491</td>\n",
       "      <td>17</td>\n",
       "    </tr>\n",
       "    <tr>\n",
       "      <th>1</th>\n",
       "      <td>10</td>\n",
       "      <td>101</td>\n",
       "      <td>7755.767716</td>\n",
       "      <td>5</td>\n",
       "    </tr>\n",
       "    <tr>\n",
       "      <th>2</th>\n",
       "      <td>10</td>\n",
       "      <td>102</td>\n",
       "      <td>13252.221828</td>\n",
       "      <td>8</td>\n",
       "    </tr>\n",
       "    <tr>\n",
       "      <th>3</th>\n",
       "      <td>10</td>\n",
       "      <td>103</td>\n",
       "      <td>5867.229996</td>\n",
       "      <td>4</td>\n",
       "    </tr>\n",
       "    <tr>\n",
       "      <th>4</th>\n",
       "      <td>10</td>\n",
       "      <td>104</td>\n",
       "      <td>79343.566174</td>\n",
       "      <td>44</td>\n",
       "    </tr>\n",
       "  </tbody>\n",
       "</table>\n",
       "</div>"
      ],
      "text/plain": [
       "   owngrpcd   rx     acres sum  counts\n",
       "0        10  100  31202.900491      17\n",
       "1        10  101   7755.767716       5\n",
       "2        10  102  13252.221828       8\n",
       "3        10  103   5867.229996       4\n",
       "4        10  104  79343.566174      44"
      ]
     },
     "execution_count": 18,
     "metadata": {},
     "output_type": "execute_result"
    }
   ],
   "source": [
    "#calculate the sum of acres, by ownergroup and hazard score, for intial conditions, also provide a count. \n",
    "w_nNR_sum = groupby_w.agg('sum')\\\n",
    "                .rename(columns = lambda x: x + ' sum')\\\n",
    "                .join(pd.DataFrame(groupby_w.size(), \n",
    "                                      columns=['counts']))\\\n",
    "                .reset_index()\n",
    "\n",
    "#print the first five lines of the new table\n",
    "w_nNR_sum.head(n=5)"
   ]
  },
  {
   "cell_type": "code",
   "execution_count": 19,
   "metadata": {
    "ExecuteTime": {
     "end_time": "2017-06-14T22:55:44.729510Z",
     "start_time": "2017-06-14T22:55:44.500359Z"
    },
    "collapsed": false
   },
   "outputs": [
    {
     "data": {
      "text/html": [
       "<div>\n",
       "<table border=\"1\" class=\"dataframe\">\n",
       "  <thead>\n",
       "    <tr style=\"text-align: right;\">\n",
       "      <th></th>\n",
       "      <th>owngrpcd</th>\n",
       "      <th>rx</th>\n",
       "      <th>acres sum</th>\n",
       "      <th>counts</th>\n",
       "      <th>percent</th>\n",
       "    </tr>\n",
       "  </thead>\n",
       "  <tbody>\n",
       "    <tr>\n",
       "      <th>0</th>\n",
       "      <td>10</td>\n",
       "      <td>100</td>\n",
       "      <td>31202.900491</td>\n",
       "      <td>17</td>\n",
       "      <td>1.448418</td>\n",
       "    </tr>\n",
       "    <tr>\n",
       "      <th>1</th>\n",
       "      <td>10</td>\n",
       "      <td>101</td>\n",
       "      <td>7755.767716</td>\n",
       "      <td>5</td>\n",
       "      <td>0.360018</td>\n",
       "    </tr>\n",
       "    <tr>\n",
       "      <th>2</th>\n",
       "      <td>10</td>\n",
       "      <td>102</td>\n",
       "      <td>13252.221828</td>\n",
       "      <td>8</td>\n",
       "      <td>0.615159</td>\n",
       "    </tr>\n",
       "    <tr>\n",
       "      <th>3</th>\n",
       "      <td>10</td>\n",
       "      <td>103</td>\n",
       "      <td>5867.229996</td>\n",
       "      <td>4</td>\n",
       "      <td>0.272353</td>\n",
       "    </tr>\n",
       "    <tr>\n",
       "      <th>4</th>\n",
       "      <td>10</td>\n",
       "      <td>104</td>\n",
       "      <td>79343.566174</td>\n",
       "      <td>44</td>\n",
       "      <td>3.683076</td>\n",
       "    </tr>\n",
       "  </tbody>\n",
       "</table>\n",
       "</div>"
      ],
      "text/plain": [
       "   owngrpcd   rx     acres sum  counts   percent\n",
       "0        10  100  31202.900491      17  1.448418\n",
       "1        10  101   7755.767716       5  0.360018\n",
       "2        10  102  13252.221828       8  0.615159\n",
       "3        10  103   5867.229996       4  0.272353\n",
       "4        10  104  79343.566174      44  3.683076"
      ]
     },
     "execution_count": 19,
     "metadata": {},
     "output_type": "execute_result"
    }
   ],
   "source": [
    "#find percentage of acres treated by each rx by owner group\n",
    "#NOTE: percentages are of owner group acre totals, NOT of combined total acres\n",
    "w_nNR_sum['percent']=np.NaN\n",
    "w_nNR_sum['percent'][w_nNR_sum.owngrpcd==10]=(w_nNR_sum['acres sum']/fed)*100\n",
    "w_nNR_sum['percent'][w_nNR_sum.owngrpcd==40]=(w_nNR_sum['acres sum']/private)*100\n",
    "w_nNR_sum.head(n=5)"
   ]
  },
  {
   "cell_type": "markdown",
   "metadata": {},
   "source": [
    "Dataframe **w_nNR_sum**: ownergroup, rx, sum of acres, counts, and percent of subgroup total acres, that COULD be treated effectively by at least one treatment. "
   ]
  },
  {
   "cell_type": "code",
   "execution_count": 20,
   "metadata": {
    "ExecuteTime": {
     "end_time": "2017-06-14T22:55:44.742018Z",
     "start_time": "2017-06-14T22:55:44.732512Z"
    },
    "collapsed": true
   },
   "outputs": [],
   "source": [
    "#total up acres that are able to be treated by an rx by ownertype\n",
    "fed_treat=w_nNR_sum[w_nNR_sum[\"owngrpcd\"]==10].sum()[\"acres sum\"]\n",
    "private_treat=w_nNR_sum[w_nNR_sum[\"owngrpcd\"]==40].sum()[\"acres sum\"]"
   ]
  },
  {
   "cell_type": "code",
   "execution_count": 21,
   "metadata": {
    "ExecuteTime": {
     "end_time": "2017-06-14T22:55:44.762033Z",
     "start_time": "2017-06-14T22:55:44.747022Z"
    },
    "collapsed": false
   },
   "outputs": [
    {
     "name": "stdout",
     "output_type": "stream",
     "text": [
      "1236856.41436\n",
      "396177.719668\n"
     ]
    }
   ],
   "source": [
    "print(fed_treat)\n",
    "print(private_treat)"
   ]
  },
  {
   "cell_type": "markdown",
   "metadata": {},
   "source": [
    "Total acres that could be treated by any rx:\n",
    "* **Federal**: 1,236,856\n",
    "* **Private**: 396,178"
   ]
  },
  {
   "cell_type": "code",
   "execution_count": 22,
   "metadata": {
    "ExecuteTime": {
     "end_time": "2017-06-14T22:55:44.776542Z",
     "start_time": "2017-06-14T22:55:44.765535Z"
    },
    "collapsed": true
   },
   "outputs": [],
   "source": [
    "#total up percent of acres that are able to be treated by an rx by ownertype\n",
    "fed_treatP=w_nNR_sum[w_nNR_sum[\"owngrpcd\"]==10].sum()[\"percent\"]\n",
    "private_treatP=w_nNR_sum[w_nNR_sum[\"owngrpcd\"]==40].sum()[\"percent\"]"
   ]
  },
  {
   "cell_type": "code",
   "execution_count": 23,
   "metadata": {
    "ExecuteTime": {
     "end_time": "2017-06-14T22:55:44.795055Z",
     "start_time": "2017-06-14T22:55:44.780044Z"
    },
    "collapsed": false,
    "scrolled": true
   },
   "outputs": [
    {
     "name": "stdout",
     "output_type": "stream",
     "text": [
      "57.4140519336\n",
      "47.5200186961\n"
     ]
    }
   ],
   "source": [
    "print(fed_treatP)\n",
    "print(private_treatP)"
   ]
  },
  {
   "cell_type": "markdown",
   "metadata": {},
   "source": [
    "**57% of federal acres** could be effectively treated by one or more of the treatment packages. \n",
    "\n",
    "**48% of private acres** coule be effectively treated by one or more of the treatment packages.  \n",
    "\n",
    "This is not considering net revenue.  "
   ]
  },
  {
   "cell_type": "code",
   "execution_count": 24,
   "metadata": {
    "ExecuteTime": {
     "end_time": "2017-06-14T22:55:44.842587Z",
     "start_time": "2017-06-14T22:55:44.799056Z"
    },
    "collapsed": false
   },
   "outputs": [
    {
     "name": "stdout",
     "output_type": "stream",
     "text": [
      "917418.319272\n",
      "42.5859480664\n",
      "437529.274855\n",
      "52.4799813039\n"
     ]
    }
   ],
   "source": [
    "#calculate fed acres not treated\n",
    "fed_notTreated=fed-fed_treat\n",
    "\n",
    "#calculate private acres not treated\n",
    "private_notTreated=private-private_treat\n",
    "\n",
    "#calculate fed acres not treated PERCENT\n",
    "fed_notTreatedP=100-fed_treatP\n",
    "\n",
    "#calculate private acres not treated PERCENT\n",
    "private_notTreatedP=100-private_treatP\n",
    "\n",
    "#append to fed and private NON TREATED acres to the dataframe\n",
    "#fedrow = [10, \"000\", fed_notTreated, 0, fed_notTreatedP]\n",
    "\n",
    "#w_nNR_sum.loc[len(w_nNR_sum)] = fedrow\n",
    "\n",
    "# print values\n",
    "print(fed_notTreated)\n",
    "print(fed_notTreatedP)\n",
    "print(private_notTreated)\n",
    "print(private_notTreatedP)"
   ]
  },
  {
   "cell_type": "markdown",
   "metadata": {},
   "source": [
    "Total acres that could **NOT** be treated by any rx:\n",
    "* **Federal**: 917,418 (43%)\n",
    "* **Private**: 437,529 (52%)\n",
    "\n",
    "Notes: Quite a large majority.  Remember, this is looking at the weighted average over 40 years.  \n",
    "To do: Look into how different this looks when only considering First Entry Hazard Scores. "
   ]
  },
  {
   "cell_type": "markdown",
   "metadata": {},
   "source": [
    "## Quick aside, how many acres can be effectively treated using the only First Entry pre/post values, rather than weighted average vs. grow only.  "
   ]
  },
  {
   "cell_type": "code",
   "execution_count": 25,
   "metadata": {
    "ExecuteTime": {
     "end_time": "2017-06-14T22:55:44.929643Z",
     "start_time": "2017-06-14T22:55:44.846589Z"
    },
    "collapsed": true
   },
   "outputs": [],
   "source": [
    "#read in the compile_Effective_FE table (which is the cycle1_best_rx_summary from CORE ANALYSIS First Entry scenario, not based on NET REV)\n",
    "fe_nNR = pd.read_excel(open('data/compile_Effective_FE.xlsx', 'rb'), sheetname='cycle1_best_rx_summary', lowmemory=False)\n"
   ]
  },
  {
   "cell_type": "code",
   "execution_count": 26,
   "metadata": {
    "ExecuteTime": {
     "end_time": "2017-06-14T22:55:44.954160Z",
     "start_time": "2017-06-14T22:55:44.932646Z"
    },
    "collapsed": false
   },
   "outputs": [
    {
     "data": {
      "text/html": [
       "<div>\n",
       "<table border=\"1\" class=\"dataframe\">\n",
       "  <thead>\n",
       "    <tr style=\"text-align: right;\">\n",
       "      <th></th>\n",
       "      <th>biosum_cond_id</th>\n",
       "      <th>rx</th>\n",
       "      <th>acres</th>\n",
       "      <th>owngrpcd</th>\n",
       "      <th>optimization_value</th>\n",
       "      <th>tiebreaker_value</th>\n",
       "      <th>rx_intensity</th>\n",
       "    </tr>\n",
       "  </thead>\n",
       "  <tbody>\n",
       "    <tr>\n",
       "      <th>0</th>\n",
       "      <td>1200741010700100571330001</td>\n",
       "      <td>105</td>\n",
       "      <td>1998.090515</td>\n",
       "      <td>10</td>\n",
       "      <td>-3</td>\n",
       "      <td>9.604044</td>\n",
       "      <td>NaN</td>\n",
       "    </tr>\n",
       "    <tr>\n",
       "      <th>1</th>\n",
       "      <td>1200741010700100600620001</td>\n",
       "      <td>304</td>\n",
       "      <td>1820.489084</td>\n",
       "      <td>10</td>\n",
       "      <td>-2</td>\n",
       "      <td>11.027757</td>\n",
       "      <td>NaN</td>\n",
       "    </tr>\n",
       "    <tr>\n",
       "      <th>2</th>\n",
       "      <td>1200741010700100639370001</td>\n",
       "      <td>211</td>\n",
       "      <td>2002.540123</td>\n",
       "      <td>10</td>\n",
       "      <td>-1</td>\n",
       "      <td>11.642599</td>\n",
       "      <td>NaN</td>\n",
       "    </tr>\n",
       "    <tr>\n",
       "      <th>3</th>\n",
       "      <td>1200741010700100712680001</td>\n",
       "      <td>107</td>\n",
       "      <td>2099.998873</td>\n",
       "      <td>10</td>\n",
       "      <td>-1</td>\n",
       "      <td>13.215190</td>\n",
       "      <td>NaN</td>\n",
       "    </tr>\n",
       "    <tr>\n",
       "      <th>4</th>\n",
       "      <td>1200741010700100714590001</td>\n",
       "      <td>208</td>\n",
       "      <td>1711.995996</td>\n",
       "      <td>10</td>\n",
       "      <td>-4</td>\n",
       "      <td>26.586103</td>\n",
       "      <td>NaN</td>\n",
       "    </tr>\n",
       "  </tbody>\n",
       "</table>\n",
       "</div>"
      ],
      "text/plain": [
       "              biosum_cond_id   rx        acres  owngrpcd  optimization_value  \\\n",
       "0  1200741010700100571330001  105  1998.090515        10                  -3   \n",
       "1  1200741010700100600620001  304  1820.489084        10                  -2   \n",
       "2  1200741010700100639370001  211  2002.540123        10                  -1   \n",
       "3  1200741010700100712680001  107  2099.998873        10                  -1   \n",
       "4  1200741010700100714590001  208  1711.995996        10                  -4   \n",
       "\n",
       "   tiebreaker_value  rx_intensity  \n",
       "0          9.604044           NaN  \n",
       "1         11.027757           NaN  \n",
       "2         11.642599           NaN  \n",
       "3         13.215190           NaN  \n",
       "4         26.586103           NaN  "
      ]
     },
     "execution_count": 26,
     "metadata": {},
     "output_type": "execute_result"
    }
   ],
   "source": [
    "#display top 5 lines of table\n",
    "fe_nNR.head(n=5)"
   ]
  },
  {
   "cell_type": "code",
   "execution_count": 27,
   "metadata": {
    "ExecuteTime": {
     "end_time": "2017-06-14T22:55:44.967669Z",
     "start_time": "2017-06-14T22:55:44.959163Z"
    },
    "collapsed": true
   },
   "outputs": [],
   "source": [
    "#group by owner and hazard score, display acres\n",
    "groupby_w = fe_nNR[['owngrpcd', 'rx', 'acres']].groupby(['owngrpcd', 'rx'])\n"
   ]
  },
  {
   "cell_type": "code",
   "execution_count": 28,
   "metadata": {
    "ExecuteTime": {
     "end_time": "2017-06-14T22:55:45.007195Z",
     "start_time": "2017-06-14T22:55:44.971672Z"
    },
    "collapsed": false,
    "scrolled": true
   },
   "outputs": [
    {
     "data": {
      "text/html": [
       "<div>\n",
       "<table border=\"1\" class=\"dataframe\">\n",
       "  <thead>\n",
       "    <tr style=\"text-align: right;\">\n",
       "      <th></th>\n",
       "      <th>owngrpcd</th>\n",
       "      <th>rx</th>\n",
       "      <th>acres sum</th>\n",
       "      <th>counts</th>\n",
       "    </tr>\n",
       "  </thead>\n",
       "  <tbody>\n",
       "    <tr>\n",
       "      <th>0</th>\n",
       "      <td>10</td>\n",
       "      <td>100</td>\n",
       "      <td>11673.975677</td>\n",
       "      <td>9</td>\n",
       "    </tr>\n",
       "    <tr>\n",
       "      <th>1</th>\n",
       "      <td>10</td>\n",
       "      <td>101</td>\n",
       "      <td>5974.139375</td>\n",
       "      <td>4</td>\n",
       "    </tr>\n",
       "    <tr>\n",
       "      <th>2</th>\n",
       "      <td>10</td>\n",
       "      <td>102</td>\n",
       "      <td>8918.095113</td>\n",
       "      <td>6</td>\n",
       "    </tr>\n",
       "    <tr>\n",
       "      <th>3</th>\n",
       "      <td>10</td>\n",
       "      <td>103</td>\n",
       "      <td>13506.207104</td>\n",
       "      <td>7</td>\n",
       "    </tr>\n",
       "    <tr>\n",
       "      <th>4</th>\n",
       "      <td>10</td>\n",
       "      <td>104</td>\n",
       "      <td>77155.435738</td>\n",
       "      <td>42</td>\n",
       "    </tr>\n",
       "  </tbody>\n",
       "</table>\n",
       "</div>"
      ],
      "text/plain": [
       "   owngrpcd   rx     acres sum  counts\n",
       "0        10  100  11673.975677       9\n",
       "1        10  101   5974.139375       4\n",
       "2        10  102   8918.095113       6\n",
       "3        10  103  13506.207104       7\n",
       "4        10  104  77155.435738      42"
      ]
     },
     "execution_count": 28,
     "metadata": {},
     "output_type": "execute_result"
    }
   ],
   "source": [
    "#calculate the sum of acres, by ownergroup and hazard score, for intial conditions, also provide a count. \n",
    "fe_nNR = groupby_w.agg('sum')\\\n",
    "                .rename(columns = lambda x: x + ' sum')\\\n",
    "                .join(pd.DataFrame(groupby_w.size(), \n",
    "                                      columns=['counts']))\\\n",
    "                .reset_index()\n",
    "\n",
    "#print the first five lines of the new table\n",
    "fe_nNR.head(n=5)"
   ]
  },
  {
   "cell_type": "code",
   "execution_count": 29,
   "metadata": {
    "ExecuteTime": {
     "end_time": "2017-06-14T22:55:45.261866Z",
     "start_time": "2017-06-14T22:55:45.010197Z"
    },
    "collapsed": false
   },
   "outputs": [
    {
     "data": {
      "text/html": [
       "<div>\n",
       "<table border=\"1\" class=\"dataframe\">\n",
       "  <thead>\n",
       "    <tr style=\"text-align: right;\">\n",
       "      <th></th>\n",
       "      <th>owngrpcd</th>\n",
       "      <th>rx</th>\n",
       "      <th>acres sum</th>\n",
       "      <th>counts</th>\n",
       "      <th>percent</th>\n",
       "    </tr>\n",
       "  </thead>\n",
       "  <tbody>\n",
       "    <tr>\n",
       "      <th>0</th>\n",
       "      <td>10</td>\n",
       "      <td>100</td>\n",
       "      <td>11673.975677</td>\n",
       "      <td>9</td>\n",
       "      <td>0.541898</td>\n",
       "    </tr>\n",
       "    <tr>\n",
       "      <th>1</th>\n",
       "      <td>10</td>\n",
       "      <td>101</td>\n",
       "      <td>5974.139375</td>\n",
       "      <td>4</td>\n",
       "      <td>0.277316</td>\n",
       "    </tr>\n",
       "    <tr>\n",
       "      <th>2</th>\n",
       "      <td>10</td>\n",
       "      <td>102</td>\n",
       "      <td>8918.095113</td>\n",
       "      <td>6</td>\n",
       "      <td>0.413972</td>\n",
       "    </tr>\n",
       "    <tr>\n",
       "      <th>3</th>\n",
       "      <td>10</td>\n",
       "      <td>103</td>\n",
       "      <td>13506.207104</td>\n",
       "      <td>7</td>\n",
       "      <td>0.626949</td>\n",
       "    </tr>\n",
       "    <tr>\n",
       "      <th>4</th>\n",
       "      <td>10</td>\n",
       "      <td>104</td>\n",
       "      <td>77155.435738</td>\n",
       "      <td>42</td>\n",
       "      <td>3.581504</td>\n",
       "    </tr>\n",
       "  </tbody>\n",
       "</table>\n",
       "</div>"
      ],
      "text/plain": [
       "   owngrpcd   rx     acres sum  counts   percent\n",
       "0        10  100  11673.975677       9  0.541898\n",
       "1        10  101   5974.139375       4  0.277316\n",
       "2        10  102   8918.095113       6  0.413972\n",
       "3        10  103  13506.207104       7  0.626949\n",
       "4        10  104  77155.435738      42  3.581504"
      ]
     },
     "execution_count": 29,
     "metadata": {},
     "output_type": "execute_result"
    }
   ],
   "source": [
    "#find percentage of acres treated by each rx by owner group\n",
    "#NOTE: percentages are of owner group acre totals, NOT of combined total acres\n",
    "fe_nNR['percent']=np.NaN\n",
    "fe_nNR['percent'][fe_nNR.owngrpcd==10]=(fe_nNR['acres sum']/fed)*100\n",
    "fe_nNR['percent'][fe_nNR.owngrpcd==40]=(fe_nNR['acres sum']/private)*100\n",
    "fe_nNR.head(n=5)"
   ]
  },
  {
   "cell_type": "markdown",
   "metadata": {},
   "source": [
    "Dataframe **fe_nNR**: ownergroup, rx, sum of acres, counts, and percent of subgroup total acres, that COULD be treated effectively by at least one treatment. "
   ]
  },
  {
   "cell_type": "code",
   "execution_count": 30,
   "metadata": {
    "ExecuteTime": {
     "end_time": "2017-06-14T22:55:45.274374Z",
     "start_time": "2017-06-14T22:55:45.265367Z"
    },
    "collapsed": true
   },
   "outputs": [],
   "source": [
    "#total up acres that are able to be treated by an rx by ownertype\n",
    "fed_treat2=fe_nNR[fe_nNR[\"owngrpcd\"]==10].sum()[\"acres sum\"]\n",
    "private_treat2=fe_nNR[fe_nNR[\"owngrpcd\"]==40].sum()[\"acres sum\"]"
   ]
  },
  {
   "cell_type": "code",
   "execution_count": 31,
   "metadata": {
    "ExecuteTime": {
     "end_time": "2017-06-14T22:55:45.296388Z",
     "start_time": "2017-06-14T22:55:45.279377Z"
    },
    "collapsed": false
   },
   "outputs": [
    {
     "name": "stdout",
     "output_type": "stream",
     "text": [
      "1505322.99661\n",
      "486313.19848\n"
     ]
    }
   ],
   "source": [
    "print(fed_treat2)\n",
    "print(private_treat2)"
   ]
  },
  {
   "cell_type": "markdown",
   "metadata": {},
   "source": [
    "Total acres that could be treated by any rx in First Entry scenario:\n",
    "* **Federal**: 1,505,323\n",
    "* **Private**: 486,313"
   ]
  },
  {
   "cell_type": "code",
   "execution_count": 32,
   "metadata": {
    "ExecuteTime": {
     "end_time": "2017-06-14T22:55:45.310397Z",
     "start_time": "2017-06-14T22:55:45.300390Z"
    },
    "collapsed": true
   },
   "outputs": [],
   "source": [
    "#total up percent of acres that are able to be treated by an rx by ownertype\n",
    "fed_treat2P=fe_nNR[fe_nNR[\"owngrpcd\"]==10].sum()[\"percent\"]\n",
    "private_treat2P=fe_nNR[fe_nNR[\"owngrpcd\"]==40].sum()[\"percent\"]"
   ]
  },
  {
   "cell_type": "code",
   "execution_count": 33,
   "metadata": {
    "ExecuteTime": {
     "end_time": "2017-06-14T22:55:45.328909Z",
     "start_time": "2017-06-14T22:55:45.313900Z"
    },
    "collapsed": false,
    "scrolled": true
   },
   "outputs": [
    {
     "name": "stdout",
     "output_type": "stream",
     "text": [
      "69.8760920839\n",
      "58.3314283885\n"
     ]
    }
   ],
   "source": [
    "print(fed_treat2P)\n",
    "print(private_treat2P)"
   ]
  },
  {
   "cell_type": "markdown",
   "metadata": {},
   "source": [
    "**70% of federal acres** could be effectively treated by one or more of the treatment packages. \n",
    "\n",
    "**58% of private acres** coule be effectively treated by one or more of the treatment packages.  \n"
   ]
  },
  {
   "cell_type": "code",
   "execution_count": 34,
   "metadata": {
    "ExecuteTime": {
     "end_time": "2017-06-14T23:03:17.147639Z",
     "start_time": "2017-06-14T23:03:17.119119Z"
    },
    "collapsed": false
   },
   "outputs": [],
   "source": [
    "#what is the treatment popularity when NR is not considered\n",
    "#export to csv to graph in R\n",
    "w_nNR_sum.to_csv(\"outputs/w_nNR_sum.csv\")"
   ]
  },
  {
   "cell_type": "markdown",
   "metadata": {},
   "source": [
    "<img src=\"treatPopAcres.png\" style=\"width: 1000px;\"/>"
   ]
  },
  {
   "cell_type": "markdown",
   "metadata": {
    "collapsed": true
   },
   "source": [
    "#  What is treatment popularity when NR must be positive? "
   ]
  },
  {
   "cell_type": "code",
   "execution_count": 75,
   "metadata": {
    "ExecuteTime": {
     "end_time": "2017-06-14T23:05:37.891139Z",
     "start_time": "2017-06-14T23:05:37.748047Z"
    },
    "collapsed": false
   },
   "outputs": [],
   "source": [
    "#read in the compile_Effective when NR must be greater than 0.\n",
    "w_NR = pd.read_excel(open('data/weighted_NR.xlsx', 'rb'), sheetname='cycle1_best_rx_summary', lowmemory=False)"
   ]
  },
  {
   "cell_type": "code",
   "execution_count": 76,
   "metadata": {
    "ExecuteTime": {
     "end_time": "2017-06-14T23:05:38.478886Z",
     "start_time": "2017-06-14T23:05:38.460894Z"
    },
    "collapsed": false
   },
   "outputs": [
    {
     "data": {
      "text/html": [
       "<div>\n",
       "<table border=\"1\" class=\"dataframe\">\n",
       "  <thead>\n",
       "    <tr style=\"text-align: right;\">\n",
       "      <th></th>\n",
       "      <th>biosum_cond_id</th>\n",
       "      <th>rx</th>\n",
       "      <th>acres</th>\n",
       "      <th>owngrpcd</th>\n",
       "      <th>optimization_value</th>\n",
       "      <th>tiebreaker_value</th>\n",
       "      <th>rx_intensity</th>\n",
       "    </tr>\n",
       "  </thead>\n",
       "  <tbody>\n",
       "    <tr>\n",
       "      <th>0</th>\n",
       "      <td>1200741010700100571330001</td>\n",
       "      <td>106</td>\n",
       "      <td>1998.090515</td>\n",
       "      <td>10</td>\n",
       "      <td>-0.550</td>\n",
       "      <td>84.547150</td>\n",
       "      <td>NaN</td>\n",
       "    </tr>\n",
       "    <tr>\n",
       "      <th>1</th>\n",
       "      <td>1200741010700100600620001</td>\n",
       "      <td>305</td>\n",
       "      <td>1820.489084</td>\n",
       "      <td>10</td>\n",
       "      <td>-0.225</td>\n",
       "      <td>83.301268</td>\n",
       "      <td>NaN</td>\n",
       "    </tr>\n",
       "    <tr>\n",
       "      <th>2</th>\n",
       "      <td>1200741010700100736160001</td>\n",
       "      <td>115</td>\n",
       "      <td>2001.387821</td>\n",
       "      <td>10</td>\n",
       "      <td>-0.025</td>\n",
       "      <td>23.657479</td>\n",
       "      <td>NaN</td>\n",
       "    </tr>\n",
       "    <tr>\n",
       "      <th>3</th>\n",
       "      <td>1200741010700100745730001</td>\n",
       "      <td>114</td>\n",
       "      <td>1764.144741</td>\n",
       "      <td>10</td>\n",
       "      <td>-0.225</td>\n",
       "      <td>61.144567</td>\n",
       "      <td>NaN</td>\n",
       "    </tr>\n",
       "    <tr>\n",
       "      <th>4</th>\n",
       "      <td>1200741010700100814910001</td>\n",
       "      <td>116</td>\n",
       "      <td>1799.216540</td>\n",
       "      <td>10</td>\n",
       "      <td>-0.450</td>\n",
       "      <td>85.919490</td>\n",
       "      <td>NaN</td>\n",
       "    </tr>\n",
       "  </tbody>\n",
       "</table>\n",
       "</div>"
      ],
      "text/plain": [
       "              biosum_cond_id   rx        acres  owngrpcd  optimization_value  \\\n",
       "0  1200741010700100571330001  106  1998.090515        10              -0.550   \n",
       "1  1200741010700100600620001  305  1820.489084        10              -0.225   \n",
       "2  1200741010700100736160001  115  2001.387821        10              -0.025   \n",
       "3  1200741010700100745730001  114  1764.144741        10              -0.225   \n",
       "4  1200741010700100814910001  116  1799.216540        10              -0.450   \n",
       "\n",
       "   tiebreaker_value  rx_intensity  \n",
       "0         84.547150           NaN  \n",
       "1         83.301268           NaN  \n",
       "2         23.657479           NaN  \n",
       "3         61.144567           NaN  \n",
       "4         85.919490           NaN  "
      ]
     },
     "execution_count": 76,
     "metadata": {},
     "output_type": "execute_result"
    }
   ],
   "source": [
    "#display top 5 lines of table\n",
    "w_NR.head(n=5)"
   ]
  },
  {
   "cell_type": "code",
   "execution_count": 77,
   "metadata": {
    "ExecuteTime": {
     "end_time": "2017-06-14T23:05:39.175709Z",
     "start_time": "2017-06-14T23:05:39.169704Z"
    },
    "collapsed": true
   },
   "outputs": [],
   "source": [
    "#group by owner and hazard score, display acres\n",
    "groupby_wNR = w_NR[['owngrpcd', 'rx', 'acres']].groupby(['owngrpcd', 'rx'])"
   ]
  },
  {
   "cell_type": "code",
   "execution_count": 78,
   "metadata": {
    "ExecuteTime": {
     "end_time": "2017-06-14T23:05:40.079008Z",
     "start_time": "2017-06-14T23:05:40.050989Z"
    },
    "collapsed": false
   },
   "outputs": [
    {
     "data": {
      "text/html": [
       "<div>\n",
       "<table border=\"1\" class=\"dataframe\">\n",
       "  <thead>\n",
       "    <tr style=\"text-align: right;\">\n",
       "      <th></th>\n",
       "      <th>owngrpcd</th>\n",
       "      <th>rx</th>\n",
       "      <th>acres sum</th>\n",
       "      <th>counts</th>\n",
       "    </tr>\n",
       "  </thead>\n",
       "  <tbody>\n",
       "    <tr>\n",
       "      <th>0</th>\n",
       "      <td>10</td>\n",
       "      <td>100</td>\n",
       "      <td>25577.269730</td>\n",
       "      <td>15</td>\n",
       "    </tr>\n",
       "    <tr>\n",
       "      <th>1</th>\n",
       "      <td>10</td>\n",
       "      <td>101</td>\n",
       "      <td>1447.743410</td>\n",
       "      <td>1</td>\n",
       "    </tr>\n",
       "    <tr>\n",
       "      <th>2</th>\n",
       "      <td>10</td>\n",
       "      <td>102</td>\n",
       "      <td>12830.591475</td>\n",
       "      <td>8</td>\n",
       "    </tr>\n",
       "    <tr>\n",
       "      <th>3</th>\n",
       "      <td>10</td>\n",
       "      <td>103</td>\n",
       "      <td>1885.575859</td>\n",
       "      <td>1</td>\n",
       "    </tr>\n",
       "    <tr>\n",
       "      <th>4</th>\n",
       "      <td>10</td>\n",
       "      <td>104</td>\n",
       "      <td>121827.596074</td>\n",
       "      <td>66</td>\n",
       "    </tr>\n",
       "  </tbody>\n",
       "</table>\n",
       "</div>"
      ],
      "text/plain": [
       "   owngrpcd   rx      acres sum  counts\n",
       "0        10  100   25577.269730      15\n",
       "1        10  101    1447.743410       1\n",
       "2        10  102   12830.591475       8\n",
       "3        10  103    1885.575859       1\n",
       "4        10  104  121827.596074      66"
      ]
     },
     "execution_count": 78,
     "metadata": {},
     "output_type": "execute_result"
    }
   ],
   "source": [
    "#calculate the sum of acres, by ownergroup and hazard score, for intial conditions, also provide a coont. \n",
    "w_NR_sum = groupby_wNR.agg('sum')\\\n",
    "                .rename(columns = lambda x: x + ' sum')\\\n",
    "                .join(pd.DataFrame(groupby_wNR.size(), \n",
    "                                      columns=['counts']))\\\n",
    "                .reset_index()\n",
    "                \n",
    "w_NR_sum.head(n=5)"
   ]
  },
  {
   "cell_type": "code",
   "execution_count": 79,
   "metadata": {
    "ExecuteTime": {
     "end_time": "2017-06-14T23:05:45.681887Z",
     "start_time": "2017-06-14T23:05:40.851206Z"
    },
    "collapsed": false
   },
   "outputs": [
    {
     "data": {
      "text/html": [
       "<div>\n",
       "<table border=\"1\" class=\"dataframe\">\n",
       "  <thead>\n",
       "    <tr style=\"text-align: right;\">\n",
       "      <th></th>\n",
       "      <th>owngrpcd</th>\n",
       "      <th>rx</th>\n",
       "      <th>acres sum</th>\n",
       "      <th>counts</th>\n",
       "      <th>percent</th>\n",
       "    </tr>\n",
       "  </thead>\n",
       "  <tbody>\n",
       "    <tr>\n",
       "      <th>0</th>\n",
       "      <td>10</td>\n",
       "      <td>100</td>\n",
       "      <td>25577.269730</td>\n",
       "      <td>15</td>\n",
       "      <td>1.187280</td>\n",
       "    </tr>\n",
       "    <tr>\n",
       "      <th>1</th>\n",
       "      <td>10</td>\n",
       "      <td>101</td>\n",
       "      <td>1447.743410</td>\n",
       "      <td>1</td>\n",
       "      <td>0.067203</td>\n",
       "    </tr>\n",
       "    <tr>\n",
       "      <th>2</th>\n",
       "      <td>10</td>\n",
       "      <td>102</td>\n",
       "      <td>12830.591475</td>\n",
       "      <td>8</td>\n",
       "      <td>0.595588</td>\n",
       "    </tr>\n",
       "    <tr>\n",
       "      <th>3</th>\n",
       "      <td>10</td>\n",
       "      <td>103</td>\n",
       "      <td>1885.575859</td>\n",
       "      <td>1</td>\n",
       "      <td>0.087527</td>\n",
       "    </tr>\n",
       "    <tr>\n",
       "      <th>4</th>\n",
       "      <td>10</td>\n",
       "      <td>104</td>\n",
       "      <td>121827.596074</td>\n",
       "      <td>66</td>\n",
       "      <td>5.655156</td>\n",
       "    </tr>\n",
       "  </tbody>\n",
       "</table>\n",
       "</div>"
      ],
      "text/plain": [
       "   owngrpcd   rx      acres sum  counts   percent\n",
       "0        10  100   25577.269730      15  1.187280\n",
       "1        10  101    1447.743410       1  0.067203\n",
       "2        10  102   12830.591475       8  0.595588\n",
       "3        10  103    1885.575859       1  0.087527\n",
       "4        10  104  121827.596074      66  5.655156"
      ]
     },
     "execution_count": 79,
     "metadata": {},
     "output_type": "execute_result"
    }
   ],
   "source": [
    "#find percentage of acres treated by each rx by owner group\n",
    "w_NR_sum['percent']=np.NaN\n",
    "w_NR_sum['percent'][w_NR_sum.owngrpcd==10]=(w_NR_sum['acres sum']/fed)*100\n",
    "w_NR_sum['percent'][w_NR_sum.owngrpcd==40]=(w_NR_sum['acres sum']/private)*100\n",
    "w_NR_sum.head(n=5)"
   ]
  },
  {
   "cell_type": "code",
   "execution_count": 80,
   "metadata": {
    "ExecuteTime": {
     "end_time": "2017-06-14T23:05:45.695895Z",
     "start_time": "2017-06-14T23:05:45.684888Z"
    },
    "collapsed": true
   },
   "outputs": [],
   "source": [
    "#total up acres that are able to be treated by an rx by ownertype (with net rev > 0)\n",
    "fed_treatNR=w_NR_sum[w_NR_sum[\"owngrpcd\"]==10].sum()[\"acres sum\"]\n",
    "private_treatNR=w_NR_sum[w_NR_sum[\"owngrpcd\"]==40].sum()[\"acres sum\"]"
   ]
  },
  {
   "cell_type": "code",
   "execution_count": 81,
   "metadata": {
    "ExecuteTime": {
     "end_time": "2017-06-14T23:05:45.717410Z",
     "start_time": "2017-06-14T23:05:45.699898Z"
    },
    "collapsed": false,
    "scrolled": true
   },
   "outputs": [
    {
     "name": "stdout",
     "output_type": "stream",
     "text": [
      "1021385.08207\n",
      "323837.051562\n"
     ]
    }
   ],
   "source": [
    "print(fed_treatNR)\n",
    "print(private_treatNR)"
   ]
  },
  {
   "cell_type": "code",
   "execution_count": 82,
   "metadata": {
    "ExecuteTime": {
     "end_time": "2017-06-14T23:05:45.733921Z",
     "start_time": "2017-06-14T23:05:45.720912Z"
    },
    "collapsed": false
   },
   "outputs": [
    {
     "data": {
      "text/html": [
       "<div>\n",
       "<table border=\"1\" class=\"dataframe\">\n",
       "  <thead>\n",
       "    <tr style=\"text-align: right;\">\n",
       "      <th></th>\n",
       "      <th>owngrpcd</th>\n",
       "      <th>rx</th>\n",
       "      <th>acres sum</th>\n",
       "      <th>counts</th>\n",
       "      <th>percent</th>\n",
       "    </tr>\n",
       "  </thead>\n",
       "  <tbody>\n",
       "    <tr>\n",
       "      <th>0</th>\n",
       "      <td>10</td>\n",
       "      <td>100</td>\n",
       "      <td>25577.269730</td>\n",
       "      <td>15</td>\n",
       "      <td>1.187280</td>\n",
       "    </tr>\n",
       "    <tr>\n",
       "      <th>1</th>\n",
       "      <td>10</td>\n",
       "      <td>101</td>\n",
       "      <td>1447.743410</td>\n",
       "      <td>1</td>\n",
       "      <td>0.067203</td>\n",
       "    </tr>\n",
       "    <tr>\n",
       "      <th>2</th>\n",
       "      <td>10</td>\n",
       "      <td>102</td>\n",
       "      <td>12830.591475</td>\n",
       "      <td>8</td>\n",
       "      <td>0.595588</td>\n",
       "    </tr>\n",
       "  </tbody>\n",
       "</table>\n",
       "</div>"
      ],
      "text/plain": [
       "   owngrpcd   rx     acres sum  counts   percent\n",
       "0        10  100  25577.269730      15  1.187280\n",
       "1        10  101   1447.743410       1  0.067203\n",
       "2        10  102  12830.591475       8  0.595588"
      ]
     },
     "execution_count": 82,
     "metadata": {},
     "output_type": "execute_result"
    }
   ],
   "source": [
    "#total up percent of acres that are able to be treated by an rx by ownertype (with net rev > 0)\n",
    "fed_treatPnr=w_NR_sum[w_NR_sum[\"owngrpcd\"]==10].sum()[\"percent\"]\n",
    "private_treatPnr=w_NR_sum[w_NR_sum[\"owngrpcd\"]==40].sum()[\"percent\"]\n",
    "w_NR_sum.head(n=3)"
   ]
  },
  {
   "cell_type": "code",
   "execution_count": 83,
   "metadata": {
    "ExecuteTime": {
     "end_time": "2017-06-14T23:05:45.749931Z",
     "start_time": "2017-06-14T23:05:45.737422Z"
    },
    "collapsed": false
   },
   "outputs": [
    {
     "name": "stdout",
     "output_type": "stream",
     "text": [
      "47.4120160314\n",
      "38.8430292284\n"
     ]
    }
   ],
   "source": [
    "print(fed_treatPnr)\n",
    "print(private_treatPnr)"
   ]
  },
  {
   "cell_type": "code",
   "execution_count": 84,
   "metadata": {
    "collapsed": true
   },
   "outputs": [],
   "source": [
    "#export to csv to graph in R\n",
    "w_NR_sum.to_csv(\"outputs/w_NR_sum.csv\")"
   ]
  },
  {
   "cell_type": "markdown",
   "metadata": {},
   "source": [
    "<img src=\"graphs/treatPopAcres.png\" width=\"500\", height=\"250\"/>"
   ]
  },
  {
   "cell_type": "markdown",
   "metadata": {},
   "source": [
    "When NET REV must be greater than 0, the number of acres that can be effectively treated drops. \n",
    "* **Federal**: 1,021,385 (47%) ((down from 56%))\n",
    "* **Private**: 323,837 (38%) ((down from 47%))"
   ]
  },
  {
   "cell_type": "markdown",
   "metadata": {},
   "source": [
    "# What does the hazard look like over time when based on FE_Hazard? "
   ]
  },
  {
   "cell_type": "code",
   "execution_count": 85,
   "metadata": {
    "collapsed": false
   },
   "outputs": [],
   "source": [
    "#read in the compile_Effective_FE table (which is the cycle1_best_rx_summary from CORE ANALYSIS First Entry scenario,\n",
    "#not based on NET REV)\n",
    "#with all years included\"\n",
    "fe_nNR_year = pd.read_excel(open('data/compile_Effective_FE_year2.xlsx', 'rb'), sheetname='combine_effective', lowmemory=False)"
   ]
  },
  {
   "cell_type": "code",
   "execution_count": 86,
   "metadata": {
    "collapsed": false,
    "scrolled": false
   },
   "outputs": [
    {
     "data": {
      "text/html": [
       "<div>\n",
       "<table border=\"1\" class=\"dataframe\">\n",
       "  <thead>\n",
       "    <tr style=\"text-align: right;\">\n",
       "      <th></th>\n",
       "      <th>biosum_cond_id</th>\n",
       "      <th>rx</th>\n",
       "      <th>rxcycle</th>\n",
       "      <th>Year</th>\n",
       "      <th>Hazard</th>\n",
       "      <th>owngrpcd</th>\n",
       "      <th>acres</th>\n",
       "    </tr>\n",
       "  </thead>\n",
       "  <tbody>\n",
       "    <tr>\n",
       "      <th>0</th>\n",
       "      <td>1200841010804900854490001</td>\n",
       "      <td>116</td>\n",
       "      <td>1</td>\n",
       "      <td>1</td>\n",
       "      <td>2</td>\n",
       "      <td>10</td>\n",
       "      <td>1818.842028</td>\n",
       "    </tr>\n",
       "    <tr>\n",
       "      <th>1</th>\n",
       "      <td>1201341020302300867220001</td>\n",
       "      <td>116</td>\n",
       "      <td>1</td>\n",
       "      <td>1</td>\n",
       "      <td>0</td>\n",
       "      <td>10</td>\n",
       "      <td>1254.431692</td>\n",
       "    </tr>\n",
       "    <tr>\n",
       "      <th>2</th>\n",
       "      <td>1200941010900100788610001</td>\n",
       "      <td>116</td>\n",
       "      <td>1</td>\n",
       "      <td>1</td>\n",
       "      <td>2</td>\n",
       "      <td>10</td>\n",
       "      <td>1620.599417</td>\n",
       "    </tr>\n",
       "  </tbody>\n",
       "</table>\n",
       "</div>"
      ],
      "text/plain": [
       "              biosum_cond_id   rx  rxcycle  Year  Hazard  owngrpcd  \\\n",
       "0  1200841010804900854490001  116        1     1       2        10   \n",
       "1  1201341020302300867220001  116        1     1       0        10   \n",
       "2  1200941010900100788610001  116        1     1       2        10   \n",
       "\n",
       "         acres  \n",
       "0  1818.842028  \n",
       "1  1254.431692  \n",
       "2  1620.599417  "
      ]
     },
     "execution_count": 86,
     "metadata": {},
     "output_type": "execute_result"
    }
   ],
   "source": [
    "fe_nNR_year.head(n=3)"
   ]
  },
  {
   "cell_type": "code",
   "execution_count": 87,
   "metadata": {
    "collapsed": false
   },
   "outputs": [],
   "source": [
    "#group by owner and hazard score and year, display acres\n",
    "groupby_a = fe_nNR_year[['acres', 'Year', 'Hazard']].groupby(['Year', 'Hazard'])"
   ]
  },
  {
   "cell_type": "code",
   "execution_count": 88,
   "metadata": {
    "collapsed": false
   },
   "outputs": [
    {
     "data": {
      "text/html": [
       "<div>\n",
       "<table border=\"1\" class=\"dataframe\">\n",
       "  <thead>\n",
       "    <tr style=\"text-align: right;\">\n",
       "      <th></th>\n",
       "      <th>Year</th>\n",
       "      <th>Hazard</th>\n",
       "      <th>acres sum</th>\n",
       "    </tr>\n",
       "  </thead>\n",
       "  <tbody>\n",
       "    <tr>\n",
       "      <th>0</th>\n",
       "      <td>1</td>\n",
       "      <td>0</td>\n",
       "      <td>106551.455881</td>\n",
       "    </tr>\n",
       "    <tr>\n",
       "      <th>1</th>\n",
       "      <td>1</td>\n",
       "      <td>1</td>\n",
       "      <td>514932.791554</td>\n",
       "    </tr>\n",
       "    <tr>\n",
       "      <th>2</th>\n",
       "      <td>1</td>\n",
       "      <td>2</td>\n",
       "      <td>650817.195540</td>\n",
       "    </tr>\n",
       "    <tr>\n",
       "      <th>3</th>\n",
       "      <td>1</td>\n",
       "      <td>3</td>\n",
       "      <td>436049.573924</td>\n",
       "    </tr>\n",
       "    <tr>\n",
       "      <th>4</th>\n",
       "      <td>1</td>\n",
       "      <td>4</td>\n",
       "      <td>283285.178193</td>\n",
       "    </tr>\n",
       "  </tbody>\n",
       "</table>\n",
       "</div>"
      ],
      "text/plain": [
       "   Year  Hazard      acres sum\n",
       "0     1       0  106551.455881\n",
       "1     1       1  514932.791554\n",
       "2     1       2  650817.195540\n",
       "3     1       3  436049.573924\n",
       "4     1       4  283285.178193"
      ]
     },
     "execution_count": 88,
     "metadata": {},
     "output_type": "execute_result"
    }
   ],
   "source": [
    "#calculate the sum of acres, by ownergroup and hazard score and Year, also provide a count. \n",
    "fe_nNR_year = groupby_a.agg('sum')\\\n",
    "                .rename(columns = lambda x: x + ' sum')\\\n",
    "                .reset_index()\n",
    "\n",
    "#print the first five lines of the new table\n",
    "fe_nNR_year.head(n=5)"
   ]
  },
  {
   "cell_type": "code",
   "execution_count": 89,
   "metadata": {
    "collapsed": false
   },
   "outputs": [
    {
     "name": "stdout",
     "output_type": "stream",
     "text": [
      "1991636.19509\n"
     ]
    }
   ],
   "source": [
    "acresFEtreat = fed_treat2+private_treat2\n",
    "print(acresFEtreat)"
   ]
  },
  {
   "cell_type": "code",
   "execution_count": 92,
   "metadata": {
    "collapsed": false
   },
   "outputs": [],
   "source": [
    "#find percentage of acres treated by each rx by owner group\n",
    "#NOTE: percentages are of owner group acre totals, NOT of combined total acres\n",
    "fe_nNR_year['percent']=np.NaN\n",
    "fe_nNR_year['percent']=(fe_nNR_year['acres sum']/acresFEtreat)*100\n",
    "\n",
    "#output to csv file for plotting in R.  \n",
    "fe_nNR_year.to_csv(\"outputs/fe_nNR_year.csv\")"
   ]
  },
  {
   "cell_type": "code",
   "execution_count": 36,
   "metadata": {
    "collapsed": false
   },
   "outputs": [
    {
     "data": {
      "text/html": [
       "<img src=\"graphs/feHazard.png\" width=\"700\" height=\"350\"/>"
      ],
      "text/plain": [
       "<IPython.core.display.Image object>"
      ]
     },
     "execution_count": 36,
     "metadata": {},
     "output_type": "execute_result"
    }
   ],
   "source": [
    "Image(url= \"graphs/feHazard.png\", width=700, height=350)"
   ]
  },
  {
   "cell_type": "markdown",
   "metadata": {},
   "source": [
    "# What does hazard look like over time when effectiveness is based on cycle 1 only? "
   ]
  },
  {
   "cell_type": "code",
   "execution_count": 39,
   "metadata": {
    "collapsed": false
   },
   "outputs": [],
   "source": [
    "#read in the compile_Effective_FE table (which is the cycle1_best_rx_summary from CORE ANALYSIS cycle 1 scenario,\n",
    "#not based on NET REV)\n",
    "#with all years included\"\n",
    "c1_nNR_year = pd.read_excel(open('data/compile_Effective_cycle1_year.xlsx', 'rb'), sheetname='combine_effective_cycle1', lowmemory=False)"
   ]
  },
  {
   "cell_type": "code",
   "execution_count": 40,
   "metadata": {
    "collapsed": false,
    "scrolled": true
   },
   "outputs": [
    {
     "data": {
      "text/html": [
       "<div>\n",
       "<table border=\"1\" class=\"dataframe\">\n",
       "  <thead>\n",
       "    <tr style=\"text-align: right;\">\n",
       "      <th></th>\n",
       "      <th>biosum_cond_id</th>\n",
       "      <th>rx</th>\n",
       "      <th>rxcycle</th>\n",
       "      <th>Year</th>\n",
       "      <th>Hazard</th>\n",
       "      <th>owngrpcd</th>\n",
       "      <th>acres</th>\n",
       "    </tr>\n",
       "  </thead>\n",
       "  <tbody>\n",
       "    <tr>\n",
       "      <th>0</th>\n",
       "      <td>1200841010804900854490001</td>\n",
       "      <td>114</td>\n",
       "      <td>1</td>\n",
       "      <td>1</td>\n",
       "      <td>2</td>\n",
       "      <td>10</td>\n",
       "      <td>1818.842028</td>\n",
       "    </tr>\n",
       "    <tr>\n",
       "      <th>1</th>\n",
       "      <td>1200741010702300745190001</td>\n",
       "      <td>108</td>\n",
       "      <td>1</td>\n",
       "      <td>1</td>\n",
       "      <td>1</td>\n",
       "      <td>10</td>\n",
       "      <td>1171.040358</td>\n",
       "    </tr>\n",
       "    <tr>\n",
       "      <th>2</th>\n",
       "      <td>1201441020405900515690002</td>\n",
       "      <td>108</td>\n",
       "      <td>1</td>\n",
       "      <td>1</td>\n",
       "      <td>2</td>\n",
       "      <td>10</td>\n",
       "      <td>946.265915</td>\n",
       "    </tr>\n",
       "  </tbody>\n",
       "</table>\n",
       "</div>"
      ],
      "text/plain": [
       "              biosum_cond_id   rx  rxcycle  Year  Hazard  owngrpcd  \\\n",
       "0  1200841010804900854490001  114        1     1       2        10   \n",
       "1  1200741010702300745190001  108        1     1       1        10   \n",
       "2  1201441020405900515690002  108        1     1       2        10   \n",
       "\n",
       "         acres  \n",
       "0  1818.842028  \n",
       "1  1171.040358  \n",
       "2   946.265915  "
      ]
     },
     "execution_count": 40,
     "metadata": {},
     "output_type": "execute_result"
    }
   ],
   "source": [
    "c1_nNR_year.head(n=3)"
   ]
  },
  {
   "cell_type": "code",
   "execution_count": 41,
   "metadata": {
    "collapsed": false
   },
   "outputs": [],
   "source": [
    "#group by owner and hazard score and year, display acres\n",
    "groupby_c = c1_nNR_year[['acres', 'Year', 'Hazard']].groupby(['Year', 'Hazard'])\n"
   ]
  },
  {
   "cell_type": "code",
   "execution_count": 42,
   "metadata": {
    "collapsed": false
   },
   "outputs": [
    {
     "data": {
      "text/html": [
       "<div>\n",
       "<table border=\"1\" class=\"dataframe\">\n",
       "  <thead>\n",
       "    <tr style=\"text-align: right;\">\n",
       "      <th></th>\n",
       "      <th>Year</th>\n",
       "      <th>Hazard</th>\n",
       "      <th>acres sum</th>\n",
       "    </tr>\n",
       "  </thead>\n",
       "  <tbody>\n",
       "    <tr>\n",
       "      <th>0</th>\n",
       "      <td>1</td>\n",
       "      <td>1</td>\n",
       "      <td>308305.663579</td>\n",
       "    </tr>\n",
       "    <tr>\n",
       "      <th>1</th>\n",
       "      <td>1</td>\n",
       "      <td>2</td>\n",
       "      <td>351953.414571</td>\n",
       "    </tr>\n",
       "    <tr>\n",
       "      <th>2</th>\n",
       "      <td>1</td>\n",
       "      <td>3</td>\n",
       "      <td>160151.637342</td>\n",
       "    </tr>\n",
       "    <tr>\n",
       "      <th>3</th>\n",
       "      <td>1</td>\n",
       "      <td>4</td>\n",
       "      <td>64626.289142</td>\n",
       "    </tr>\n",
       "    <tr>\n",
       "      <th>4</th>\n",
       "      <td>3</td>\n",
       "      <td>0</td>\n",
       "      <td>485397.710030</td>\n",
       "    </tr>\n",
       "  </tbody>\n",
       "</table>\n",
       "</div>"
      ],
      "text/plain": [
       "   Year  Hazard      acres sum\n",
       "0     1       1  308305.663579\n",
       "1     1       2  351953.414571\n",
       "2     1       3  160151.637342\n",
       "3     1       4   64626.289142\n",
       "4     3       0  485397.710030"
      ]
     },
     "execution_count": 42,
     "metadata": {},
     "output_type": "execute_result"
    }
   ],
   "source": [
    "#calculate the sum of acres, by ownergroup and hazard score and Year, also provide a count. \n",
    "c1_nNR_year = groupby_c.agg('sum')\\\n",
    "                .rename(columns = lambda x: x + ' sum')\\\n",
    "                .reset_index()\n",
    "\n",
    "#print the first five lines of the new table\n",
    "c1_nNR_year.head(n=5)"
   ]
  },
  {
   "cell_type": "code",
   "execution_count": 43,
   "metadata": {
    "collapsed": true
   },
   "outputs": [],
   "source": [
    "tots=308305.7+351953.4+160151.6+64626.3"
   ]
  },
  {
   "cell_type": "code",
   "execution_count": 44,
   "metadata": {
    "collapsed": false
   },
   "outputs": [],
   "source": [
    "#find percentage of acres treated by each rx by owner group\n",
    "#NOTE: percentages are of owner group acre totals, NOT of combined total acres\n",
    "c1_nNR_year['percent']=np.NaN\n",
    "c1_nNR_year['percent']=(c1_nNR_year['acres sum']/tots)*100\n",
    "c1_nNR_year.to_csv(\"outputs/c1_nNR_year.csv\")"
   ]
  },
  {
   "cell_type": "code",
   "execution_count": 45,
   "metadata": {
    "collapsed": false
   },
   "outputs": [
    {
     "data": {
      "text/html": [
       "<img src=\"graphs/cy1Hazard.png\" width=\"500\" height=\"250\"/>"
      ],
      "text/plain": [
       "<IPython.core.display.Image object>"
      ]
     },
     "execution_count": 45,
     "metadata": {},
     "output_type": "execute_result"
    }
   ],
   "source": [
    "Image(url= \"graphs/cy1Hazard.png\"S, width=500, height=250)\n"
   ]
  },
  {
   "cell_type": "markdown",
   "metadata": {},
   "source": [
    "# For weighted average treatments that must pay for themselves, what is the acres, wood produced, and net revenue for 20 year increments?\n"
   ]
  },
  {
   "cell_type": "markdown",
   "metadata": {},
   "source": [
    "Use query below in the core scenrio db for weighted_NR to create the effective_NR_outputs table"
   ]
  },
  {
   "cell_type": "markdown",
   "metadata": {},
   "source": [
    "``` mysql\n",
    "SELECT cycle1_best_rx_summary.biosum_cond_id, cycle1_best_rx_summary.rx, cycle1_best_rx_summary.rxpackage, cycle1_best_rx_summary.acres, cycle1_best_rx_summary.owngrpcd, product_yields_net_rev_costs_summary_by_rx.chip_yield_cf, product_yields_net_rev_costs_summary_by_rx.merch_yield_cf, product_yields_net_rev_costs_summary_by_rx.max_nr_dpa, product_yields_net_rev_costs_summary_by_rx.rxcycle\n",
    "FROM product_yields_net_rev_costs_summary_by_rx INNER JOIN cycle1_best_rx_summary ON (product_yields_net_rev_costs_summary_by_rx.rx = cycle1_best_rx_summary.rx) AND (product_yields_net_rev_costs_summary_by_rx.biosum_cond_id = cycle1_best_rx_summary.biosum_cond_id);\n",
    "\n",
    "```"
   ]
  },
  {
   "cell_type": "code",
   "execution_count": 53,
   "metadata": {
    "collapsed": false
   },
   "outputs": [],
   "source": [
    "#read in the table created by SQL above from tables in weightedAvg_NR core analysis\n",
    "w_NR_output = pd.read_excel(open('data/effective_NR_outputs.xlsx', 'rb'), sheetname='outputs', lowmemory=False)"
   ]
  },
  {
   "cell_type": "code",
   "execution_count": 54,
   "metadata": {
    "collapsed": true
   },
   "outputs": [],
   "source": [
    "#create column period \n",
    "w_NR_output.period = w_NR_output.ix[w_NR_output.rxcycle.isin([1, 2]), 'period'] = 1\n",
    "w_NR_output.period = w_NR_output.ix[w_NR_output.rxcycle.isin([3, 4]), 'period'] = 2"
   ]
  },
  {
   "cell_type": "code",
   "execution_count": 55,
   "metadata": {
    "collapsed": true
   },
   "outputs": [],
   "source": [
    "#create an expansion column = acres * max_nr_dpa\n",
    "w_NR_output['expansion'] = w_NR_output['acres'] * w_NR_output['max_nr_dpa']  # assigned to a column"
   ]
  },
  {
   "cell_type": "code",
   "execution_count": 56,
   "metadata": {
    "collapsed": true
   },
   "outputs": [],
   "source": [
    "#expand merch and chip values\n",
    "w_NR_output['merch_ex'] = w_NR_output['acres'] * w_NR_output['merch_yield_cf']\n",
    "w_NR_output['chip_ex'] = w_NR_output['acres'] * w_NR_output['chip_yield_cf']"
   ]
  },
  {
   "cell_type": "code",
   "execution_count": 57,
   "metadata": {
    "collapsed": false
   },
   "outputs": [
    {
     "data": {
      "text/html": [
       "<div>\n",
       "<table border=\"1\" class=\"dataframe\">\n",
       "  <thead>\n",
       "    <tr style=\"text-align: right;\">\n",
       "      <th></th>\n",
       "      <th>biosum_cond_id</th>\n",
       "      <th>rx</th>\n",
       "      <th>rxpackage</th>\n",
       "      <th>acres</th>\n",
       "      <th>owngrpcd</th>\n",
       "      <th>chip_yield_cf</th>\n",
       "      <th>merch_yield_cf</th>\n",
       "      <th>max_nr_dpa</th>\n",
       "      <th>rxcycle</th>\n",
       "      <th>period</th>\n",
       "      <th>expansion</th>\n",
       "      <th>merch_ex</th>\n",
       "      <th>chip_ex</th>\n",
       "    </tr>\n",
       "  </thead>\n",
       "  <tbody>\n",
       "    <tr>\n",
       "      <th>0</th>\n",
       "      <td>1201241020200100570760001</td>\n",
       "      <td>208</td>\n",
       "      <td>27</td>\n",
       "      <td>1820.5</td>\n",
       "      <td>10</td>\n",
       "      <td>1967.2</td>\n",
       "      <td>4551.0</td>\n",
       "      <td>6452.7</td>\n",
       "      <td>1</td>\n",
       "      <td>1.0</td>\n",
       "      <td>11747147.7</td>\n",
       "      <td>8285097.1</td>\n",
       "      <td>3581269.8</td>\n",
       "    </tr>\n",
       "    <tr>\n",
       "      <th>1</th>\n",
       "      <td>1201241020202300639610001</td>\n",
       "      <td>208</td>\n",
       "      <td>27</td>\n",
       "      <td>1229.5</td>\n",
       "      <td>10</td>\n",
       "      <td>1364.2</td>\n",
       "      <td>2132.9</td>\n",
       "      <td>1273.8</td>\n",
       "      <td>1</td>\n",
       "      <td>1.0</td>\n",
       "      <td>1566153.4</td>\n",
       "      <td>2622403.7</td>\n",
       "      <td>1677283.6</td>\n",
       "    </tr>\n",
       "    <tr>\n",
       "      <th>2</th>\n",
       "      <td>1201241020204900907840001</td>\n",
       "      <td>208</td>\n",
       "      <td>27</td>\n",
       "      <td>903.4</td>\n",
       "      <td>10</td>\n",
       "      <td>1296.2</td>\n",
       "      <td>1006.7</td>\n",
       "      <td>-675.3</td>\n",
       "      <td>1</td>\n",
       "      <td>1.0</td>\n",
       "      <td>-610106.4</td>\n",
       "      <td>909456.4</td>\n",
       "      <td>1171005.6</td>\n",
       "    </tr>\n",
       "  </tbody>\n",
       "</table>\n",
       "</div>"
      ],
      "text/plain": [
       "              biosum_cond_id   rx  rxpackage  acres  owngrpcd  chip_yield_cf  \\\n",
       "0  1201241020200100570760001  208         27 1820.5        10         1967.2   \n",
       "1  1201241020202300639610001  208         27 1229.5        10         1364.2   \n",
       "2  1201241020204900907840001  208         27  903.4        10         1296.2   \n",
       "\n",
       "   merch_yield_cf  max_nr_dpa  rxcycle  period  expansion  merch_ex   chip_ex  \n",
       "0          4551.0      6452.7        1     1.0 11747147.7 8285097.1 3581269.8  \n",
       "1          2132.9      1273.8        1     1.0  1566153.4 2622403.7 1677283.6  \n",
       "2          1006.7      -675.3        1     1.0  -610106.4  909456.4 1171005.6  "
      ]
     },
     "execution_count": 57,
     "metadata": {},
     "output_type": "execute_result"
    }
   ],
   "source": [
    "w_NR_output.head(n=3)"
   ]
  },
  {
   "cell_type": "code",
   "execution_count": 58,
   "metadata": {
    "ExecuteTime": {
     "end_time": "2017-06-14T22:55:53.880097Z",
     "start_time": "2017-06-14T22:55:53.873591Z"
    },
    "collapsed": false
   },
   "outputs": [],
   "source": [
    "#group by owngrpcd, period\n",
    "groupby_o = w_NR_output[['owngrpcd','period','acres', 'chip_ex', 'merch_ex', 'expansion']]\\\n",
    "                .groupby(['owngrpcd','period'])"
   ]
  },
  {
   "cell_type": "code",
   "execution_count": 59,
   "metadata": {
    "ExecuteTime": {
     "end_time": "2017-06-14T22:55:53.921123Z",
     "start_time": "2017-06-14T22:55:53.884098Z"
    },
    "collapsed": false
   },
   "outputs": [
    {
     "data": {
      "text/html": [
       "<div>\n",
       "<table border=\"1\" class=\"dataframe\">\n",
       "  <thead>\n",
       "    <tr style=\"text-align: right;\">\n",
       "      <th></th>\n",
       "      <th>owngrpcd</th>\n",
       "      <th>period</th>\n",
       "      <th>acres_sum</th>\n",
       "      <th>chip_ex_sum</th>\n",
       "      <th>merch_ex_sum</th>\n",
       "      <th>expansion_sum</th>\n",
       "    </tr>\n",
       "  </thead>\n",
       "  <tbody>\n",
       "    <tr>\n",
       "      <th>0</th>\n",
       "      <td>10</td>\n",
       "      <td>1.0</td>\n",
       "      <td>660031.9</td>\n",
       "      <td>670111022.5</td>\n",
       "      <td>1476197458.5</td>\n",
       "      <td>1405605143.6</td>\n",
       "    </tr>\n",
       "    <tr>\n",
       "      <th>1</th>\n",
       "      <td>10</td>\n",
       "      <td>2.0</td>\n",
       "      <td>723855.2</td>\n",
       "      <td>505641692.9</td>\n",
       "      <td>899839807.3</td>\n",
       "      <td>233685184.5</td>\n",
       "    </tr>\n",
       "    <tr>\n",
       "      <th>2</th>\n",
       "      <td>40</td>\n",
       "      <td>1.0</td>\n",
       "      <td>128784.6</td>\n",
       "      <td>146984158.4</td>\n",
       "      <td>295171331.1</td>\n",
       "      <td>306976317.4</td>\n",
       "    </tr>\n",
       "    <tr>\n",
       "      <th>3</th>\n",
       "      <td>40</td>\n",
       "      <td>2.0</td>\n",
       "      <td>284832.4</td>\n",
       "      <td>203554321.0</td>\n",
       "      <td>399767823.9</td>\n",
       "      <td>195010004.4</td>\n",
       "    </tr>\n",
       "  </tbody>\n",
       "</table>\n",
       "</div>"
      ],
      "text/plain": [
       "   owngrpcd  period  acres_sum  chip_ex_sum  merch_ex_sum  expansion_sum\n",
       "0        10     1.0   660031.9  670111022.5  1476197458.5   1405605143.6\n",
       "1        10     2.0   723855.2  505641692.9   899839807.3    233685184.5\n",
       "2        40     1.0   128784.6  146984158.4   295171331.1    306976317.4\n",
       "3        40     2.0   284832.4  203554321.0   399767823.9    195010004.4"
      ]
     },
     "execution_count": 59,
     "metadata": {},
     "output_type": "execute_result"
    }
   ],
   "source": [
    "#calculate the sum of acre for minDBH groups, rxpackages and provide count of stands.\n",
    "pd.set_option('display.float_format', lambda x: '%.1f' % x)\n",
    "w_NR_outputAgg = groupby_o.agg('sum')\\\n",
    "                .rename(columns = lambda x: x + '_sum')\\\n",
    "                .reset_index()\n",
    "            \n",
    "\n",
    "w_NR_outputAgg.head(n=20)"
   ]
  },
  {
   "cell_type": "markdown",
   "metadata": {},
   "source": [
    "# How many fewer acres can be effectively treated if DBH cap is 21 rather than 30? How many fewer acres can be treated if this is imposed and each acre must pay for itself? "
   ]
  },
  {
   "cell_type": "markdown",
   "metadata": {},
   "source": [
    "Create a table using below query in the Core Analysis scenario weighted_nNR"
   ]
  },
  {
   "cell_type": "markdown",
   "metadata": {},
   "source": [
    "``` mysql\n",
    "SELECT cycle1_optimization.biosum_cond_id, cycle1_optimization.rxpackage, cycle1_optimization.rx, cycle1_optimization.change_value AS ptorchChange, tiebreaker.post_variable1_value AS TIPost, cond.acres\n",
    "FROM (cond INNER JOIN tiebreaker ON cond.biosum_cond_id = tiebreaker.biosum_cond_id) INNER JOIN cycle1_optimization ON (cycle1_optimization.rxcycle = tiebreaker.rxcycle) AND (cycle1_optimization.rxpackage = tiebreaker.rxpackage) AND (tiebreaker.biosum_cond_id = cycle1_optimization.biosum_cond_id);\n",
    "\n",
    "```"
   ]
  },
  {
   "cell_type": "code",
   "execution_count": 60,
   "metadata": {
    "ExecuteTime": {
     "end_time": "2017-06-14T22:55:51.560052Z",
     "start_time": "2017-06-14T22:55:49.856419Z"
    },
    "collapsed": false
   },
   "outputs": [],
   "source": [
    "#read in the cycle1_optimization created by SQL above from tables in core analysis\n",
    "w_nNR_opt = pd.read_excel(open('data/weighted_noNR_opt2.xlsx', 'rb'), sheetname='export', lowmemory=False)\n",
    "\n",
    "w_nNR_opt.biosum_cond_id = w_nNR_opt.biosum_cond_id.astype(str)\n",
    "w_nNR_opt.rx = w_nNR_opt.rx.astype(str)\n",
    "w_nNR_opt.rxpackage = w_nNR_opt.rxpackage.astype(str)"
   ]
  },
  {
   "cell_type": "code",
   "execution_count": 61,
   "metadata": {
    "ExecuteTime": {
     "end_time": "2017-06-14T22:55:51.569560Z",
     "start_time": "2017-06-14T22:55:51.562555Z"
    },
    "collapsed": true
   },
   "outputs": [],
   "source": [
    "# list of rx values that coorespond to 21 and 30 inch DBH caps\n",
    "cap21 = ('100', '101', '102', '103', '200', '201', '202', '203')\n",
    "\n",
    "cap30 = ('104', '105', '106', '107', '204', '205', '206', '207')"
   ]
  },
  {
   "cell_type": "code",
   "execution_count": 62,
   "metadata": {
    "ExecuteTime": {
     "end_time": "2017-06-14T22:55:51.609085Z",
     "start_time": "2017-06-14T22:55:51.573562Z"
    },
    "collapsed": false,
    "scrolled": false
   },
   "outputs": [
    {
     "name": "stdout",
     "output_type": "stream",
     "text": [
      "(2906, 6)\n"
     ]
    },
    {
     "data": {
      "text/html": [
       "<div>\n",
       "<table border=\"1\" class=\"dataframe\">\n",
       "  <thead>\n",
       "    <tr style=\"text-align: right;\">\n",
       "      <th></th>\n",
       "      <th>biosum_cond_id</th>\n",
       "      <th>rxpackage</th>\n",
       "      <th>rx</th>\n",
       "      <th>wHazardChange</th>\n",
       "      <th>MVPPost</th>\n",
       "      <th>acres</th>\n",
       "    </tr>\n",
       "  </thead>\n",
       "  <tbody>\n",
       "    <tr>\n",
       "      <th>0</th>\n",
       "      <td>1200741010700100571330001</td>\n",
       "      <td>1</td>\n",
       "      <td>100</td>\n",
       "      <td>-1.3</td>\n",
       "      <td>70.5</td>\n",
       "      <td>1998.1</td>\n",
       "    </tr>\n",
       "    <tr>\n",
       "      <th>1</th>\n",
       "      <td>1200741010700100714590001</td>\n",
       "      <td>1</td>\n",
       "      <td>100</td>\n",
       "      <td>-0.5</td>\n",
       "      <td>76.8</td>\n",
       "      <td>1712.0</td>\n",
       "    </tr>\n",
       "    <tr>\n",
       "      <th>2</th>\n",
       "      <td>1200741010700100814910001</td>\n",
       "      <td>1</td>\n",
       "      <td>100</td>\n",
       "      <td>-0.3</td>\n",
       "      <td>88.9</td>\n",
       "      <td>1799.2</td>\n",
       "    </tr>\n",
       "    <tr>\n",
       "      <th>3</th>\n",
       "      <td>1200741010700100880590002</td>\n",
       "      <td>1</td>\n",
       "      <td>100</td>\n",
       "      <td>-0.4</td>\n",
       "      <td>47.1</td>\n",
       "      <td>652.2</td>\n",
       "    </tr>\n",
       "    <tr>\n",
       "      <th>4</th>\n",
       "      <td>1200741010702300724110001</td>\n",
       "      <td>1</td>\n",
       "      <td>100</td>\n",
       "      <td>-1.4</td>\n",
       "      <td>56.1</td>\n",
       "      <td>1997.9</td>\n",
       "    </tr>\n",
       "  </tbody>\n",
       "</table>\n",
       "</div>"
      ],
      "text/plain": [
       "              biosum_cond_id rxpackage   rx  wHazardChange  MVPPost  acres\n",
       "0  1200741010700100571330001         1  100           -1.3     70.5 1998.1\n",
       "1  1200741010700100714590001         1  100           -0.5     76.8 1712.0\n",
       "2  1200741010700100814910001         1  100           -0.3     88.9 1799.2\n",
       "3  1200741010700100880590002         1  100           -0.4     47.1  652.2\n",
       "4  1200741010702300724110001         1  100           -1.4     56.1 1997.9"
      ]
     },
     "execution_count": 62,
     "metadata": {},
     "output_type": "execute_result"
    }
   ],
   "source": [
    "#filter optimiztion table by cap21 \n",
    "w_nNR_21=w_nNR_opt[w_nNR_opt['rx'].isin(cap21)]\n",
    "\n",
    "print(w_nNR_21.shape)\n",
    "w_nNR_21.head(n=5)\n"
   ]
  },
  {
   "cell_type": "code",
   "execution_count": 63,
   "metadata": {
    "ExecuteTime": {
     "end_time": "2017-06-14T22:55:52.346075Z",
     "start_time": "2017-06-14T22:55:51.612087Z"
    },
    "collapsed": false
   },
   "outputs": [
    {
     "name": "stdout",
     "output_type": "stream",
     "text": [
      "(669, 7)\n"
     ]
    },
    {
     "data": {
      "text/html": [
       "<div>\n",
       "<table border=\"1\" class=\"dataframe\">\n",
       "  <thead>\n",
       "    <tr style=\"text-align: right;\">\n",
       "      <th></th>\n",
       "      <th>biosum_cond_id</th>\n",
       "      <th>rxpackage</th>\n",
       "      <th>rx</th>\n",
       "      <th>wHazardChange</th>\n",
       "      <th>MVPPost</th>\n",
       "      <th>acres</th>\n",
       "      <th>MIN(wHazardChange)</th>\n",
       "    </tr>\n",
       "  </thead>\n",
       "  <tbody>\n",
       "    <tr>\n",
       "      <th>0</th>\n",
       "      <td>1200741010700100571330001</td>\n",
       "      <td>3</td>\n",
       "      <td>102</td>\n",
       "      <td>-1.5</td>\n",
       "      <td>84.5</td>\n",
       "      <td>1998.1</td>\n",
       "      <td>-1.5</td>\n",
       "    </tr>\n",
       "    <tr>\n",
       "      <th>1</th>\n",
       "      <td>1200741010700100714590001</td>\n",
       "      <td>1</td>\n",
       "      <td>100</td>\n",
       "      <td>-0.5</td>\n",
       "      <td>76.8</td>\n",
       "      <td>1712.0</td>\n",
       "      <td>-0.5</td>\n",
       "    </tr>\n",
       "    <tr>\n",
       "      <th>2</th>\n",
       "      <td>1200741010700100717720001</td>\n",
       "      <td>21</td>\n",
       "      <td>202</td>\n",
       "      <td>-0.2</td>\n",
       "      <td>79.8</td>\n",
       "      <td>1712.0</td>\n",
       "      <td>-0.2</td>\n",
       "    </tr>\n",
       "    <tr>\n",
       "      <th>3</th>\n",
       "      <td>1200741010700100745730001</td>\n",
       "      <td>21</td>\n",
       "      <td>202</td>\n",
       "      <td>-0.2</td>\n",
       "      <td>61.1</td>\n",
       "      <td>1764.1</td>\n",
       "      <td>-0.2</td>\n",
       "    </tr>\n",
       "    <tr>\n",
       "      <th>4</th>\n",
       "      <td>1200741010700100814910001</td>\n",
       "      <td>1</td>\n",
       "      <td>100</td>\n",
       "      <td>-0.3</td>\n",
       "      <td>88.9</td>\n",
       "      <td>1799.2</td>\n",
       "      <td>-0.3</td>\n",
       "    </tr>\n",
       "  </tbody>\n",
       "</table>\n",
       "</div>"
      ],
      "text/plain": [
       "              biosum_cond_id rxpackage   rx  wHazardChange  MVPPost  acres  \\\n",
       "0  1200741010700100571330001         3  102           -1.5     84.5 1998.1   \n",
       "1  1200741010700100714590001         1  100           -0.5     76.8 1712.0   \n",
       "2  1200741010700100717720001        21  202           -0.2     79.8 1712.0   \n",
       "3  1200741010700100745730001        21  202           -0.2     61.1 1764.1   \n",
       "4  1200741010700100814910001         1  100           -0.3     88.9 1799.2   \n",
       "\n",
       "   MIN(wHazardChange)  \n",
       "0                -1.5  \n",
       "1                -0.5  \n",
       "2                -0.2  \n",
       "3                -0.2  \n",
       "4                -0.3  "
      ]
     },
     "execution_count": 63,
     "metadata": {},
     "output_type": "execute_result"
    }
   ],
   "source": [
    "#Optimize by stand, max reduction in PTorch, create new table w_nNR_21opt\n",
    "\n",
    "from pandasql import *\n",
    "\n",
    "pysqldf = lambda q: sqldf(q, globals())\n",
    "\n",
    "q  = \"\"\"\n",
    "SELECT *, MIN(wHazardChange) FROM w_nNR_21 WHERE wHazardChange < 0 GROUP BY biosum_cond_id;\n",
    "\"\"\"\n",
    "w_nNR_21opt = pysqldf(q)\n",
    "\n",
    "print(w_nNR_21opt.shape)\n",
    "w_nNR_21opt.biosum_cond_id = w_nNR_21opt.biosum_cond_id.astype(object)\n",
    "w_nNR_21opt.head(n=5)"
   ]
  },
  {
   "cell_type": "code",
   "execution_count": 64,
   "metadata": {
    "ExecuteTime": {
     "end_time": "2017-06-14T22:55:52.434134Z",
     "start_time": "2017-06-14T22:55:52.422126Z"
    },
    "collapsed": false
   },
   "outputs": [
    {
     "name": "stdout",
     "output_type": "stream",
     "text": [
      "1354067.66252\n"
     ]
    }
   ],
   "source": [
    "#Sum up the number of acres that can be treated with a 21\" DBH cap.      \n",
    "treat21=w_nNR_21opt.sum()[\"acres\"]\n",
    "print(treat21)"
   ]
  },
  {
   "cell_type": "markdown",
   "metadata": {},
   "source": [
    "Number of acres that can be treated by one or more packages with a 21\"DBH cap: **1,354,067**. "
   ]
  },
  {
   "cell_type": "markdown",
   "metadata": {
    "collapsed": true
   },
   "source": [
    "## Now do the same thing with 30 cap, how do they compare?"
   ]
  },
  {
   "cell_type": "code",
   "execution_count": 65,
   "metadata": {
    "ExecuteTime": {
     "end_time": "2017-06-14T22:55:52.472159Z",
     "start_time": "2017-06-14T22:55:52.438638Z"
    },
    "collapsed": false,
    "scrolled": false
   },
   "outputs": [
    {
     "name": "stdout",
     "output_type": "stream",
     "text": [
      "(2772, 6)\n"
     ]
    },
    {
     "data": {
      "text/html": [
       "<div>\n",
       "<table border=\"1\" class=\"dataframe\">\n",
       "  <thead>\n",
       "    <tr style=\"text-align: right;\">\n",
       "      <th></th>\n",
       "      <th>biosum_cond_id</th>\n",
       "      <th>rxpackage</th>\n",
       "      <th>rx</th>\n",
       "      <th>wHazardChange</th>\n",
       "      <th>MVPPost</th>\n",
       "      <th>acres</th>\n",
       "    </tr>\n",
       "  </thead>\n",
       "  <tbody>\n",
       "    <tr>\n",
       "      <th>2537</th>\n",
       "      <td>1200741010700100571330001</td>\n",
       "      <td>9</td>\n",
       "      <td>104</td>\n",
       "      <td>-0.3</td>\n",
       "      <td>83.6</td>\n",
       "      <td>1998.1</td>\n",
       "    </tr>\n",
       "    <tr>\n",
       "      <th>2538</th>\n",
       "      <td>1200741010700100600620001</td>\n",
       "      <td>9</td>\n",
       "      <td>104</td>\n",
       "      <td>-0.2</td>\n",
       "      <td>83.3</td>\n",
       "      <td>1820.5</td>\n",
       "    </tr>\n",
       "    <tr>\n",
       "      <th>2539</th>\n",
       "      <td>1200741010700100714590001</td>\n",
       "      <td>9</td>\n",
       "      <td>104</td>\n",
       "      <td>-0.2</td>\n",
       "      <td>86.1</td>\n",
       "      <td>1712.0</td>\n",
       "    </tr>\n",
       "    <tr>\n",
       "      <th>2540</th>\n",
       "      <td>1200741010700100745730001</td>\n",
       "      <td>9</td>\n",
       "      <td>104</td>\n",
       "      <td>-0.2</td>\n",
       "      <td>61.1</td>\n",
       "      <td>1764.1</td>\n",
       "    </tr>\n",
       "    <tr>\n",
       "      <th>2541</th>\n",
       "      <td>1200741010700100814910001</td>\n",
       "      <td>9</td>\n",
       "      <td>104</td>\n",
       "      <td>-0.5</td>\n",
       "      <td>85.1</td>\n",
       "      <td>1799.2</td>\n",
       "    </tr>\n",
       "  </tbody>\n",
       "</table>\n",
       "</div>"
      ],
      "text/plain": [
       "                 biosum_cond_id rxpackage   rx  wHazardChange  MVPPost  acres\n",
       "2537  1200741010700100571330001         9  104           -0.3     83.6 1998.1\n",
       "2538  1200741010700100600620001         9  104           -0.2     83.3 1820.5\n",
       "2539  1200741010700100714590001         9  104           -0.2     86.1 1712.0\n",
       "2540  1200741010700100745730001         9  104           -0.2     61.1 1764.1\n",
       "2541  1200741010700100814910001         9  104           -0.5     85.1 1799.2"
      ]
     },
     "execution_count": 65,
     "metadata": {},
     "output_type": "execute_result"
    }
   ],
   "source": [
    "#filter optimiztion table by cap21 \n",
    "w_nNR_30=w_nNR_opt[w_nNR_opt['rx'].isin(cap30)]\n",
    "\n",
    "print(w_nNR_30.shape)\n",
    "w_nNR_30.head(n=5)\n"
   ]
  },
  {
   "cell_type": "code",
   "execution_count": 66,
   "metadata": {
    "ExecuteTime": {
     "end_time": "2017-06-14T22:55:52.565721Z",
     "start_time": "2017-06-14T22:55:52.475161Z"
    },
    "collapsed": false
   },
   "outputs": [
    {
     "name": "stdout",
     "output_type": "stream",
     "text": [
      "(692, 7)\n"
     ]
    },
    {
     "data": {
      "text/html": [
       "<div>\n",
       "<table border=\"1\" class=\"dataframe\">\n",
       "  <thead>\n",
       "    <tr style=\"text-align: right;\">\n",
       "      <th></th>\n",
       "      <th>biosum_cond_id</th>\n",
       "      <th>rxpackage</th>\n",
       "      <th>rx</th>\n",
       "      <th>wHazardChange</th>\n",
       "      <th>MVPPost</th>\n",
       "      <th>acres</th>\n",
       "      <th>MIN(wHazardChange)</th>\n",
       "    </tr>\n",
       "  </thead>\n",
       "  <tbody>\n",
       "    <tr>\n",
       "      <th>0</th>\n",
       "      <td>1200741010700100571330001</td>\n",
       "      <td>11</td>\n",
       "      <td>106</td>\n",
       "      <td>-0.6</td>\n",
       "      <td>84.5</td>\n",
       "      <td>1998.1</td>\n",
       "      <td>-0.6</td>\n",
       "    </tr>\n",
       "    <tr>\n",
       "      <th>1</th>\n",
       "      <td>1200741010700100600620001</td>\n",
       "      <td>9</td>\n",
       "      <td>104</td>\n",
       "      <td>-0.2</td>\n",
       "      <td>83.3</td>\n",
       "      <td>1820.5</td>\n",
       "      <td>-0.2</td>\n",
       "    </tr>\n",
       "    <tr>\n",
       "      <th>2</th>\n",
       "      <td>1200741010700100714590001</td>\n",
       "      <td>23</td>\n",
       "      <td>204</td>\n",
       "      <td>-0.5</td>\n",
       "      <td>70.7</td>\n",
       "      <td>1712.0</td>\n",
       "      <td>-0.5</td>\n",
       "    </tr>\n",
       "    <tr>\n",
       "      <th>3</th>\n",
       "      <td>1200741010700100717720001</td>\n",
       "      <td>25</td>\n",
       "      <td>206</td>\n",
       "      <td>-0.2</td>\n",
       "      <td>79.8</td>\n",
       "      <td>1712.0</td>\n",
       "      <td>-0.2</td>\n",
       "    </tr>\n",
       "    <tr>\n",
       "      <th>4</th>\n",
       "      <td>1200741010700100745730001</td>\n",
       "      <td>9</td>\n",
       "      <td>104</td>\n",
       "      <td>-0.2</td>\n",
       "      <td>61.1</td>\n",
       "      <td>1764.1</td>\n",
       "      <td>-0.2</td>\n",
       "    </tr>\n",
       "  </tbody>\n",
       "</table>\n",
       "</div>"
      ],
      "text/plain": [
       "              biosum_cond_id rxpackage   rx  wHazardChange  MVPPost  acres  \\\n",
       "0  1200741010700100571330001        11  106           -0.6     84.5 1998.1   \n",
       "1  1200741010700100600620001         9  104           -0.2     83.3 1820.5   \n",
       "2  1200741010700100714590001        23  204           -0.5     70.7 1712.0   \n",
       "3  1200741010700100717720001        25  206           -0.2     79.8 1712.0   \n",
       "4  1200741010700100745730001         9  104           -0.2     61.1 1764.1   \n",
       "\n",
       "   MIN(wHazardChange)  \n",
       "0                -0.6  \n",
       "1                -0.2  \n",
       "2                -0.5  \n",
       "3                -0.2  \n",
       "4                -0.2  "
      ]
     },
     "execution_count": 66,
     "metadata": {},
     "output_type": "execute_result"
    }
   ],
   "source": [
    "#Optimize by stand, max reduction in PTorch, create new table w_nNR_21opt\n",
    "\n",
    "from pandasql import *\n",
    "\n",
    "pysqldf = lambda q: sqldf(q, globals())\n",
    "\n",
    "q3  = \"\"\"\n",
    "SELECT *, MIN(wHazardChange) FROM w_nNR_30 WHERE wHazardChange < 0 GROUP BY biosum_cond_id;\n",
    "\"\"\"\n",
    "w_nNR_30opt = pysqldf(q3)\n",
    "\n",
    "print(w_nNR_30opt.shape)\n",
    "w_nNR_30opt.biosum_cond_id = w_nNR_30opt.biosum_cond_id.astype(object)\n",
    "w_nNR_30opt.head(n=5)"
   ]
  },
  {
   "cell_type": "code",
   "execution_count": 67,
   "metadata": {
    "ExecuteTime": {
     "end_time": "2017-06-14T22:55:52.648777Z",
     "start_time": "2017-06-14T22:55:52.632266Z"
    },
    "collapsed": false
   },
   "outputs": [
    {
     "name": "stdout",
     "output_type": "stream",
     "text": [
      "1405320.19109\n",
      "51252.5285704\n"
     ]
    }
   ],
   "source": [
    "#Sum up the number of acres that can be treated with a 21\" DBH cap.      \n",
    "treat30=w_nNR_30opt.sum()[\"acres\"]\n",
    "print(treat30)\n",
    "print (treat30-treat21)"
   ]
  },
  {
   "cell_type": "markdown",
   "metadata": {
    "ExecuteTime": {
     "end_time": "2017-05-26T20:33:25.137111Z",
     "start_time": "2017-05-26T20:33:25.132607Z"
    }
   },
   "source": [
    "Number of acres that can be treated by one or more packages with a 30\"DBH cap: **1,405,320**. \n",
    "\n",
    "Compare this to 491,138 when the cap is 21\"DBH, a difference of **51,252** acres. "
   ]
  },
  {
   "cell_type": "markdown",
   "metadata": {
    "collapsed": true
   },
   "source": [
    "## How about when you restrict results to only acres with a NET REV > 0? "
   ]
  },
  {
   "cell_type": "code",
   "execution_count": 68,
   "metadata": {
    "ExecuteTime": {
     "end_time": "2017-06-14T22:55:53.400777Z",
     "start_time": "2017-06-14T22:55:52.653280Z"
    },
    "collapsed": true
   },
   "outputs": [],
   "source": [
    "#read in the cycle1_optimization created by SQL above from tables in core analysis\n",
    "w_NR_opt = pd.read_excel(open('data/weighted_NR_opt.xlsx', 'rb'), sheetname='export', lowmemory=False)\n",
    "\n",
    "w_NR_opt.biosum_cond_id = w_NR_opt.biosum_cond_id.astype(str)\n",
    "w_NR_opt.rx = w_NR_opt.rx.astype(str)\n",
    "w_NR_opt.rxpackage = w_NR_opt.rxpackage.astype(str)"
   ]
  },
  {
   "cell_type": "code",
   "execution_count": 69,
   "metadata": {
    "ExecuteTime": {
     "end_time": "2017-06-14T22:55:53.433300Z",
     "start_time": "2017-06-14T22:55:53.403280Z"
    },
    "collapsed": false,
    "scrolled": false
   },
   "outputs": [
    {
     "name": "stdout",
     "output_type": "stream",
     "text": [
      "(1540, 6)\n"
     ]
    },
    {
     "data": {
      "text/html": [
       "<div>\n",
       "<table border=\"1\" class=\"dataframe\">\n",
       "  <thead>\n",
       "    <tr style=\"text-align: right;\">\n",
       "      <th></th>\n",
       "      <th>biosum_cond_id</th>\n",
       "      <th>rxpackage</th>\n",
       "      <th>rx</th>\n",
       "      <th>wHazardChange</th>\n",
       "      <th>MVPPost</th>\n",
       "      <th>acres</th>\n",
       "    </tr>\n",
       "  </thead>\n",
       "  <tbody>\n",
       "    <tr>\n",
       "      <th>15</th>\n",
       "      <td>1200741010700100745730001</td>\n",
       "      <td>21</td>\n",
       "      <td>202</td>\n",
       "      <td>-0.2</td>\n",
       "      <td>61.1</td>\n",
       "      <td>1764.1</td>\n",
       "    </tr>\n",
       "    <tr>\n",
       "      <th>18</th>\n",
       "      <td>1200741010700100814910001</td>\n",
       "      <td>1</td>\n",
       "      <td>100</td>\n",
       "      <td>-0.3</td>\n",
       "      <td>88.9</td>\n",
       "      <td>1799.2</td>\n",
       "    </tr>\n",
       "    <tr>\n",
       "      <th>28</th>\n",
       "      <td>1200741010702300706560001</td>\n",
       "      <td>3</td>\n",
       "      <td>102</td>\n",
       "      <td>-0.7</td>\n",
       "      <td>81.1</td>\n",
       "      <td>2131.6</td>\n",
       "    </tr>\n",
       "    <tr>\n",
       "      <th>29</th>\n",
       "      <td>1200741010702300706560001</td>\n",
       "      <td>4</td>\n",
       "      <td>103</td>\n",
       "      <td>-0.2</td>\n",
       "      <td>84.2</td>\n",
       "      <td>2131.6</td>\n",
       "    </tr>\n",
       "    <tr>\n",
       "      <th>35</th>\n",
       "      <td>1200741010702300706560001</td>\n",
       "      <td>21</td>\n",
       "      <td>202</td>\n",
       "      <td>-0.1</td>\n",
       "      <td>87.8</td>\n",
       "      <td>2131.6</td>\n",
       "    </tr>\n",
       "  </tbody>\n",
       "</table>\n",
       "</div>"
      ],
      "text/plain": [
       "               biosum_cond_id rxpackage   rx  wHazardChange  MVPPost  acres\n",
       "15  1200741010700100745730001        21  202           -0.2     61.1 1764.1\n",
       "18  1200741010700100814910001         1  100           -0.3     88.9 1799.2\n",
       "28  1200741010702300706560001         3  102           -0.7     81.1 2131.6\n",
       "29  1200741010702300706560001         4  103           -0.2     84.2 2131.6\n",
       "35  1200741010702300706560001        21  202           -0.1     87.8 2131.6"
      ]
     },
     "execution_count": 69,
     "metadata": {},
     "output_type": "execute_result"
    }
   ],
   "source": [
    "#filter optimiztion table by cap21 \n",
    "w_NR_21=w_NR_opt[w_NR_opt['rx'].isin(cap21)]\n",
    "\n",
    "print(w_NR_21.shape)\n",
    "w_NR_21.head(n=5)\n"
   ]
  },
  {
   "cell_type": "code",
   "execution_count": 70,
   "metadata": {
    "ExecuteTime": {
     "end_time": "2017-06-14T22:55:53.505846Z",
     "start_time": "2017-06-14T22:55:53.436300Z"
    },
    "collapsed": false
   },
   "outputs": [
    {
     "name": "stdout",
     "output_type": "stream",
     "text": [
      "(440, 7)\n"
     ]
    },
    {
     "data": {
      "text/html": [
       "<div>\n",
       "<table border=\"1\" class=\"dataframe\">\n",
       "  <thead>\n",
       "    <tr style=\"text-align: right;\">\n",
       "      <th></th>\n",
       "      <th>biosum_cond_id</th>\n",
       "      <th>rxpackage</th>\n",
       "      <th>rx</th>\n",
       "      <th>wHazardChange</th>\n",
       "      <th>MVPPost</th>\n",
       "      <th>acres</th>\n",
       "      <th>MIN(wHazardChange)</th>\n",
       "    </tr>\n",
       "  </thead>\n",
       "  <tbody>\n",
       "    <tr>\n",
       "      <th>0</th>\n",
       "      <td>1200741010700100745730001</td>\n",
       "      <td>21</td>\n",
       "      <td>202</td>\n",
       "      <td>-0.2</td>\n",
       "      <td>61.1</td>\n",
       "      <td>1764.1</td>\n",
       "      <td>-0.2</td>\n",
       "    </tr>\n",
       "    <tr>\n",
       "      <th>1</th>\n",
       "      <td>1200741010700100814910001</td>\n",
       "      <td>1</td>\n",
       "      <td>100</td>\n",
       "      <td>-0.3</td>\n",
       "      <td>88.9</td>\n",
       "      <td>1799.2</td>\n",
       "      <td>-0.3</td>\n",
       "    </tr>\n",
       "    <tr>\n",
       "      <th>2</th>\n",
       "      <td>1200741010702300706560001</td>\n",
       "      <td>3</td>\n",
       "      <td>102</td>\n",
       "      <td>-0.7</td>\n",
       "      <td>81.1</td>\n",
       "      <td>2131.6</td>\n",
       "      <td>-0.7</td>\n",
       "    </tr>\n",
       "    <tr>\n",
       "      <th>3</th>\n",
       "      <td>1200741010702300724110001</td>\n",
       "      <td>1</td>\n",
       "      <td>100</td>\n",
       "      <td>-1.4</td>\n",
       "      <td>56.1</td>\n",
       "      <td>1997.9</td>\n",
       "      <td>-1.4</td>\n",
       "    </tr>\n",
       "    <tr>\n",
       "      <th>4</th>\n",
       "      <td>1200741010702300831920001</td>\n",
       "      <td>3</td>\n",
       "      <td>102</td>\n",
       "      <td>-0.6</td>\n",
       "      <td>86.5</td>\n",
       "      <td>2192.1</td>\n",
       "      <td>-0.6</td>\n",
       "    </tr>\n",
       "  </tbody>\n",
       "</table>\n",
       "</div>"
      ],
      "text/plain": [
       "              biosum_cond_id rxpackage   rx  wHazardChange  MVPPost  acres  \\\n",
       "0  1200741010700100745730001        21  202           -0.2     61.1 1764.1   \n",
       "1  1200741010700100814910001         1  100           -0.3     88.9 1799.2   \n",
       "2  1200741010702300706560001         3  102           -0.7     81.1 2131.6   \n",
       "3  1200741010702300724110001         1  100           -1.4     56.1 1997.9   \n",
       "4  1200741010702300831920001         3  102           -0.6     86.5 2192.1   \n",
       "\n",
       "   MIN(wHazardChange)  \n",
       "0                -0.2  \n",
       "1                -0.3  \n",
       "2                -0.7  \n",
       "3                -1.4  \n",
       "4                -0.6  "
      ]
     },
     "execution_count": 70,
     "metadata": {},
     "output_type": "execute_result"
    }
   ],
   "source": [
    "#Optimize by stand, max reduction in PTorch, create new table w_nNR_21opt\n",
    "\n",
    "from pandasql import *\n",
    "\n",
    "pysqldf = lambda q: sqldf(q, globals())\n",
    "\n",
    "q5  = \"\"\"\n",
    "SELECT *, MIN(wHazardChange) FROM w_NR_21 WHERE wHazardChange < 0 GROUP BY biosum_cond_id;\n",
    "\"\"\"\n",
    "w_NR_21opt = pysqldf(q5)\n",
    "\n",
    "print(w_NR_21opt.shape)\n",
    "w_NR_21opt.biosum_cond_id = w_NR_21opt.biosum_cond_id.astype(object)\n",
    "w_NR_21opt.head(n=5)"
   ]
  },
  {
   "cell_type": "code",
   "execution_count": 71,
   "metadata": {
    "ExecuteTime": {
     "end_time": "2017-06-14T22:55:53.574893Z",
     "start_time": "2017-06-14T22:55:53.563885Z"
    },
    "collapsed": false
   },
   "outputs": [
    {
     "name": "stdout",
     "output_type": "stream",
     "text": [
      "905175.68568\n"
     ]
    }
   ],
   "source": [
    "#Sum up the number of acres that can be treated with a 21\" DBH cap.      \n",
    "treat21nr=w_NR_21opt.sum()[\"acres\"]\n",
    "print(treat21nr)"
   ]
  },
  {
   "cell_type": "markdown",
   "metadata": {},
   "source": [
    "When net rev must be positive, the number of acres that can be treated with one or more rx with a cap of 21\"DBH: **905,175**"
   ]
  },
  {
   "cell_type": "markdown",
   "metadata": {
    "collapsed": true
   },
   "source": [
    "## Now do the same thing with 30 cap, how do they compare?"
   ]
  },
  {
   "cell_type": "code",
   "execution_count": 72,
   "metadata": {
    "ExecuteTime": {
     "end_time": "2017-06-14T22:55:53.609915Z",
     "start_time": "2017-06-14T22:55:53.578895Z"
    },
    "collapsed": false,
    "scrolled": false
   },
   "outputs": [
    {
     "name": "stdout",
     "output_type": "stream",
     "text": [
      "(1918, 6)\n"
     ]
    },
    {
     "data": {
      "text/html": [
       "<div>\n",
       "<table border=\"1\" class=\"dataframe\">\n",
       "  <thead>\n",
       "    <tr style=\"text-align: right;\">\n",
       "      <th></th>\n",
       "      <th>biosum_cond_id</th>\n",
       "      <th>rxpackage</th>\n",
       "      <th>rx</th>\n",
       "      <th>wHazardChange</th>\n",
       "      <th>MVPPost</th>\n",
       "      <th>acres</th>\n",
       "    </tr>\n",
       "  </thead>\n",
       "  <tbody>\n",
       "    <tr>\n",
       "      <th>0</th>\n",
       "      <td>1200741010700100571330001</td>\n",
       "      <td>9</td>\n",
       "      <td>104</td>\n",
       "      <td>-0.3</td>\n",
       "      <td>83.6</td>\n",
       "      <td>1998.1</td>\n",
       "    </tr>\n",
       "    <tr>\n",
       "      <th>1</th>\n",
       "      <td>1200741010700100571330001</td>\n",
       "      <td>10</td>\n",
       "      <td>105</td>\n",
       "      <td>-0.3</td>\n",
       "      <td>83.9</td>\n",
       "      <td>1998.1</td>\n",
       "    </tr>\n",
       "    <tr>\n",
       "      <th>2</th>\n",
       "      <td>1200741010700100571330001</td>\n",
       "      <td>11</td>\n",
       "      <td>106</td>\n",
       "      <td>-0.6</td>\n",
       "      <td>84.5</td>\n",
       "      <td>1998.1</td>\n",
       "    </tr>\n",
       "    <tr>\n",
       "      <th>3</th>\n",
       "      <td>1200741010700100571330001</td>\n",
       "      <td>12</td>\n",
       "      <td>107</td>\n",
       "      <td>-0.3</td>\n",
       "      <td>84.7</td>\n",
       "      <td>1998.1</td>\n",
       "    </tr>\n",
       "    <tr>\n",
       "      <th>6</th>\n",
       "      <td>1200741010700100571330001</td>\n",
       "      <td>23</td>\n",
       "      <td>204</td>\n",
       "      <td>-0.1</td>\n",
       "      <td>78.9</td>\n",
       "      <td>1998.1</td>\n",
       "    </tr>\n",
       "  </tbody>\n",
       "</table>\n",
       "</div>"
      ],
      "text/plain": [
       "              biosum_cond_id rxpackage   rx  wHazardChange  MVPPost  acres\n",
       "0  1200741010700100571330001         9  104           -0.3     83.6 1998.1\n",
       "1  1200741010700100571330001        10  105           -0.3     83.9 1998.1\n",
       "2  1200741010700100571330001        11  106           -0.6     84.5 1998.1\n",
       "3  1200741010700100571330001        12  107           -0.3     84.7 1998.1\n",
       "6  1200741010700100571330001        23  204           -0.1     78.9 1998.1"
      ]
     },
     "execution_count": 72,
     "metadata": {},
     "output_type": "execute_result"
    }
   ],
   "source": [
    "#filter optimiztion table by cap21 \n",
    "w_NR_30=w_NR_opt[w_NR_opt['rx'].isin(cap30)]\n",
    "\n",
    "print(w_NR_30.shape)\n",
    "w_NR_30.head(n=5)\n"
   ]
  },
  {
   "cell_type": "code",
   "execution_count": 73,
   "metadata": {
    "ExecuteTime": {
     "end_time": "2017-06-14T22:55:53.683465Z",
     "start_time": "2017-06-14T22:55:53.612918Z"
    },
    "collapsed": false
   },
   "outputs": [
    {
     "name": "stdout",
     "output_type": "stream",
     "text": [
      "(554, 7)\n"
     ]
    },
    {
     "data": {
      "text/html": [
       "<div>\n",
       "<table border=\"1\" class=\"dataframe\">\n",
       "  <thead>\n",
       "    <tr style=\"text-align: right;\">\n",
       "      <th></th>\n",
       "      <th>biosum_cond_id</th>\n",
       "      <th>rxpackage</th>\n",
       "      <th>rx</th>\n",
       "      <th>wHazardChange</th>\n",
       "      <th>MVPPost</th>\n",
       "      <th>acres</th>\n",
       "      <th>MIN (wHazardChange)</th>\n",
       "    </tr>\n",
       "  </thead>\n",
       "  <tbody>\n",
       "    <tr>\n",
       "      <th>0</th>\n",
       "      <td>1200741010700100571330001</td>\n",
       "      <td>11</td>\n",
       "      <td>106</td>\n",
       "      <td>-0.6</td>\n",
       "      <td>84.5</td>\n",
       "      <td>1998.1</td>\n",
       "      <td>-0.6</td>\n",
       "    </tr>\n",
       "    <tr>\n",
       "      <th>1</th>\n",
       "      <td>1200741010700100600620001</td>\n",
       "      <td>9</td>\n",
       "      <td>104</td>\n",
       "      <td>-0.2</td>\n",
       "      <td>83.3</td>\n",
       "      <td>1820.5</td>\n",
       "      <td>-0.2</td>\n",
       "    </tr>\n",
       "    <tr>\n",
       "      <th>2</th>\n",
       "      <td>1200741010700100745730001</td>\n",
       "      <td>9</td>\n",
       "      <td>104</td>\n",
       "      <td>-0.2</td>\n",
       "      <td>61.1</td>\n",
       "      <td>1764.1</td>\n",
       "      <td>-0.2</td>\n",
       "    </tr>\n",
       "    <tr>\n",
       "      <th>3</th>\n",
       "      <td>1200741010700100814910001</td>\n",
       "      <td>9</td>\n",
       "      <td>104</td>\n",
       "      <td>-0.5</td>\n",
       "      <td>85.1</td>\n",
       "      <td>1799.2</td>\n",
       "      <td>-0.5</td>\n",
       "    </tr>\n",
       "    <tr>\n",
       "      <th>4</th>\n",
       "      <td>1200741010700100884670001</td>\n",
       "      <td>24</td>\n",
       "      <td>205</td>\n",
       "      <td>-0.0</td>\n",
       "      <td>20.5</td>\n",
       "      <td>1820.5</td>\n",
       "      <td>-0.0</td>\n",
       "    </tr>\n",
       "  </tbody>\n",
       "</table>\n",
       "</div>"
      ],
      "text/plain": [
       "              biosum_cond_id rxpackage   rx  wHazardChange  MVPPost  acres  \\\n",
       "0  1200741010700100571330001        11  106           -0.6     84.5 1998.1   \n",
       "1  1200741010700100600620001         9  104           -0.2     83.3 1820.5   \n",
       "2  1200741010700100745730001         9  104           -0.2     61.1 1764.1   \n",
       "3  1200741010700100814910001         9  104           -0.5     85.1 1799.2   \n",
       "4  1200741010700100884670001        24  205           -0.0     20.5 1820.5   \n",
       "\n",
       "   MIN (wHazardChange)  \n",
       "0                 -0.6  \n",
       "1                 -0.2  \n",
       "2                 -0.2  \n",
       "3                 -0.5  \n",
       "4                 -0.0  "
      ]
     },
     "execution_count": 73,
     "metadata": {},
     "output_type": "execute_result"
    }
   ],
   "source": [
    "#Optimize by stand, max reduction in PTorch, create new table w_NR_21opt\n",
    "\n",
    "from pandasql import *\n",
    "\n",
    "pysqldf = lambda q: sqldf(q, globals())\n",
    "\n",
    "q7  = \"\"\"\n",
    "SELECT *, MIN (wHazardChange) FROM w_NR_30 WHERE wHazardChange < 0 GROUP BY biosum_cond_id;\n",
    "\"\"\"\n",
    "w_NR_30opt = pysqldf(q7)\n",
    "\n",
    "print(w_NR_30opt.shape)\n",
    "w_NR_30opt.biosum_cond_id = w_NR_30opt.biosum_cond_id.astype(object)\n",
    "w_NR_30opt.head(n=5)"
   ]
  },
  {
   "cell_type": "code",
   "execution_count": 75,
   "metadata": {
    "ExecuteTime": {
     "end_time": "2017-06-14T22:55:53.761017Z",
     "start_time": "2017-06-14T22:55:53.745005Z"
    },
    "collapsed": false
   },
   "outputs": [
    {
     "name": "stdout",
     "output_type": "stream",
     "text": [
      "1147909.99927\n",
      "242734.313586\n"
     ]
    }
   ],
   "source": [
    "#Sum up the number of acres that can be treated with a 21\" DBH cap.      \n",
    "treat30nr=w_NR_30opt.sum()[\"acres\"]\n",
    "print(treat30nr)\n",
    "print(treat30nr-treat21nr)"
   ]
  },
  {
   "cell_type": "markdown",
   "metadata": {
    "ExecuteTime": {
     "end_time": "2017-05-26T20:33:25.137111Z",
     "start_time": "2017-05-26T20:33:25.132607Z"
    }
   },
   "source": [
    "When net rev must be positive, the number of acres that can be treated with one or more rx with a cap of 30\"DBH: **1,147,909**\n",
    "\n",
    "Compare to 905,175 with a 21\" cap, a **242,734** acre difference. \n"
   ]
  },
  {
   "cell_type": "code",
   "execution_count": 78,
   "metadata": {
    "ExecuteTime": {
     "end_time": "2017-06-14T22:55:53.786535Z",
     "start_time": "2017-06-14T22:55:53.764518Z"
    },
    "collapsed": false
   },
   "outputs": [
    {
     "name": "stdout",
     "output_type": "stream",
     "text": [
      "       21      30               NR\n",
      "0 1354068 1405320                N\n",
      "1  905176 1147910                Y\n",
      "2      30      38   PercentTotalNR\n",
      "3      45      47  PercentTotalnNR\n"
     ]
    }
   ],
   "source": [
    "#create table of results\n",
    "pd.set_option('display.float_format', lambda x: '%.0f' % x)\n",
    "headings= (\"NR\", \"21\", \"30\")\n",
    "n=(\"N\", treat21, treat30)\n",
    "y=(\"Y\", treat21nr, treat30nr)\n",
    "\n",
    "capData = [{'NR' : 'N', '21' : treat21, '30' : treat30},\n",
    "          {'NR' : 'Y', '21' : treat21nr, '30' : treat30nr},\n",
    "          {'NR' : 'PercentTotalNR', '21' : (treat21nr/total_acres)*100, '30' : (treat30nr/total_acres)*100},\n",
    "          {'NR' : 'PercentTotalnNR', '21' : (treat21/total_acres)*100, '30' : (treat30/total_acres)*100}]\n",
    "caps = pd.DataFrame(capData)\n",
    "print(caps)"
   ]
  },
  {
   "cell_type": "markdown",
   "metadata": {
    "collapsed": true
   },
   "source": [
    "# Is there any treatment benefit of cutting 0-5 inch trees? On how many acres? By how many composite score points? (9v34, 33v10)"
   ]
  },
  {
   "cell_type": "markdown",
   "metadata": {},
   "source": [
    "  Old pairings - (1v2, 3v4, 9v10, 11v12, 13v14, 15v16, 19v20, 21v22, 23v24, 25v26, 27v28, 29v30, 31v32)"
   ]
  },
  {
   "cell_type": "code",
   "execution_count": 79,
   "metadata": {
    "ExecuteTime": {
     "end_time": "2017-06-14T22:55:53.799041Z",
     "start_time": "2017-06-14T22:55:53.790035Z"
    },
    "collapsed": true
   },
   "outputs": [],
   "source": [
    "# list of rx values that coorespond 0 and 5 inch DBH minimums\n",
    "min5 = ('9', '33')\n",
    "\n",
    "min0 = ('34', '10')"
   ]
  },
  {
   "cell_type": "code",
   "execution_count": 80,
   "metadata": {
    "ExecuteTime": {
     "end_time": "2017-06-14T22:55:53.830062Z",
     "start_time": "2017-06-14T22:55:53.803544Z"
    },
    "collapsed": false
   },
   "outputs": [
    {
     "data": {
      "text/html": [
       "<div>\n",
       "<table border=\"1\" class=\"dataframe\">\n",
       "  <thead>\n",
       "    <tr style=\"text-align: right;\">\n",
       "      <th></th>\n",
       "      <th>biosum_cond_id</th>\n",
       "      <th>rxpackage</th>\n",
       "      <th>rx</th>\n",
       "      <th>wHazardChange</th>\n",
       "      <th>MVPPost</th>\n",
       "      <th>acres</th>\n",
       "    </tr>\n",
       "  </thead>\n",
       "  <tbody>\n",
       "    <tr>\n",
       "      <th>0</th>\n",
       "      <td>1200741010700100571330001</td>\n",
       "      <td>1</td>\n",
       "      <td>100</td>\n",
       "      <td>-1</td>\n",
       "      <td>70</td>\n",
       "      <td>1998</td>\n",
       "    </tr>\n",
       "    <tr>\n",
       "      <th>1</th>\n",
       "      <td>1200741010700100714590001</td>\n",
       "      <td>1</td>\n",
       "      <td>100</td>\n",
       "      <td>-0</td>\n",
       "      <td>77</td>\n",
       "      <td>1712</td>\n",
       "    </tr>\n",
       "    <tr>\n",
       "      <th>2</th>\n",
       "      <td>1200741010700100814910001</td>\n",
       "      <td>1</td>\n",
       "      <td>100</td>\n",
       "      <td>-0</td>\n",
       "      <td>89</td>\n",
       "      <td>1799</td>\n",
       "    </tr>\n",
       "    <tr>\n",
       "      <th>3</th>\n",
       "      <td>1200741010700100880590002</td>\n",
       "      <td>1</td>\n",
       "      <td>100</td>\n",
       "      <td>-0</td>\n",
       "      <td>47</td>\n",
       "      <td>652</td>\n",
       "    </tr>\n",
       "    <tr>\n",
       "      <th>4</th>\n",
       "      <td>1200741010702300724110001</td>\n",
       "      <td>1</td>\n",
       "      <td>100</td>\n",
       "      <td>-1</td>\n",
       "      <td>56</td>\n",
       "      <td>1998</td>\n",
       "    </tr>\n",
       "  </tbody>\n",
       "</table>\n",
       "</div>"
      ],
      "text/plain": [
       "              biosum_cond_id rxpackage   rx  wHazardChange  MVPPost  acres\n",
       "0  1200741010700100571330001         1  100             -1       70   1998\n",
       "1  1200741010700100714590001         1  100             -0       77   1712\n",
       "2  1200741010700100814910001         1  100             -0       89   1799\n",
       "3  1200741010700100880590002         1  100             -0       47    652\n",
       "4  1200741010702300724110001         1  100             -1       56   1998"
      ]
     },
     "execution_count": 80,
     "metadata": {},
     "output_type": "execute_result"
    }
   ],
   "source": [
    "#make a copy of the w_nNR_opt table created in the last inquiry\n",
    "w_nNR_DBH = w_nNR_opt.copy(deep=True)\n",
    "w_nNR_DBH.head(n=5)"
   ]
  },
  {
   "cell_type": "code",
   "execution_count": 81,
   "metadata": {
    "ExecuteTime": {
     "end_time": "2017-06-14T22:55:53.870589Z",
     "start_time": "2017-06-14T22:55:53.834064Z"
    },
    "collapsed": false
   },
   "outputs": [
    {
     "data": {
      "text/html": [
       "<div>\n",
       "<table border=\"1\" class=\"dataframe\">\n",
       "  <thead>\n",
       "    <tr style=\"text-align: right;\">\n",
       "      <th></th>\n",
       "      <th>biosum_cond_id</th>\n",
       "      <th>rxpackage</th>\n",
       "      <th>rx</th>\n",
       "      <th>wHazardChange</th>\n",
       "      <th>MVPPost</th>\n",
       "      <th>acres</th>\n",
       "      <th>minDBH</th>\n",
       "    </tr>\n",
       "  </thead>\n",
       "  <tbody>\n",
       "    <tr>\n",
       "      <th>0</th>\n",
       "      <td>1200741010700100571330001</td>\n",
       "      <td>1</td>\n",
       "      <td>100</td>\n",
       "      <td>-1</td>\n",
       "      <td>70</td>\n",
       "      <td>1998</td>\n",
       "      <td>NaN</td>\n",
       "    </tr>\n",
       "    <tr>\n",
       "      <th>1</th>\n",
       "      <td>1200741010700100714590001</td>\n",
       "      <td>1</td>\n",
       "      <td>100</td>\n",
       "      <td>-0</td>\n",
       "      <td>77</td>\n",
       "      <td>1712</td>\n",
       "      <td>NaN</td>\n",
       "    </tr>\n",
       "    <tr>\n",
       "      <th>2</th>\n",
       "      <td>1200741010700100814910001</td>\n",
       "      <td>1</td>\n",
       "      <td>100</td>\n",
       "      <td>-0</td>\n",
       "      <td>89</td>\n",
       "      <td>1799</td>\n",
       "      <td>NaN</td>\n",
       "    </tr>\n",
       "    <tr>\n",
       "      <th>3</th>\n",
       "      <td>1200741010700100880590002</td>\n",
       "      <td>1</td>\n",
       "      <td>100</td>\n",
       "      <td>-0</td>\n",
       "      <td>47</td>\n",
       "      <td>652</td>\n",
       "      <td>NaN</td>\n",
       "    </tr>\n",
       "    <tr>\n",
       "      <th>4</th>\n",
       "      <td>1200741010702300724110001</td>\n",
       "      <td>1</td>\n",
       "      <td>100</td>\n",
       "      <td>-1</td>\n",
       "      <td>56</td>\n",
       "      <td>1998</td>\n",
       "      <td>NaN</td>\n",
       "    </tr>\n",
       "  </tbody>\n",
       "</table>\n",
       "</div>"
      ],
      "text/plain": [
       "              biosum_cond_id rxpackage   rx  wHazardChange  MVPPost  acres  \\\n",
       "0  1200741010700100571330001         1  100             -1       70   1998   \n",
       "1  1200741010700100714590001         1  100             -0       77   1712   \n",
       "2  1200741010700100814910001         1  100             -0       89   1799   \n",
       "3  1200741010700100880590002         1  100             -0       47    652   \n",
       "4  1200741010702300724110001         1  100             -1       56   1998   \n",
       "\n",
       "  minDBH  \n",
       "0    NaN  \n",
       "1    NaN  \n",
       "2    NaN  \n",
       "3    NaN  \n",
       "4    NaN  "
      ]
     },
     "execution_count": 81,
     "metadata": {},
     "output_type": "execute_result"
    }
   ],
   "source": [
    "#Create minDBH column and assign 0 or 5 based on treatment\n",
    "w_nNR_DBH.minDBH = w_nNR_DBH.ix[w_nNR_DBH.rxpackage.isin(min0), 'minDBH'] = '0'\n",
    "w_nNR_DBH.minDBH = w_nNR_DBH.ix[w_nNR_DBH.rxpackage.isin(min5), 'minDBH'] = '5'\n",
    "\n",
    "w_nNR_DBH.head(n=5)\n"
   ]
  },
  {
   "cell_type": "code",
   "execution_count": 82,
   "metadata": {
    "ExecuteTime": {
     "end_time": "2017-06-14T22:55:53.880097Z",
     "start_time": "2017-06-14T22:55:53.873591Z"
    },
    "collapsed": true
   },
   "outputs": [],
   "source": [
    "#group by owner and hazard score, display acres\n",
    "groupby_m = w_nNR_DBH[['rx','minDBH','acres']].groupby(['rx','minDBH'])"
   ]
  },
  {
   "cell_type": "code",
   "execution_count": 83,
   "metadata": {
    "ExecuteTime": {
     "end_time": "2017-06-14T22:55:53.921123Z",
     "start_time": "2017-06-14T22:55:53.884098Z"
    },
    "collapsed": false
   },
   "outputs": [
    {
     "data": {
      "text/html": [
       "<div>\n",
       "<table border=\"1\" class=\"dataframe\">\n",
       "  <thead>\n",
       "    <tr style=\"text-align: right;\">\n",
       "      <th></th>\n",
       "      <th>rx</th>\n",
       "      <th>minDBH</th>\n",
       "      <th>acres sum</th>\n",
       "      <th>counts</th>\n",
       "    </tr>\n",
       "  </thead>\n",
       "  <tbody>\n",
       "    <tr>\n",
       "      <th>0</th>\n",
       "      <td>104</td>\n",
       "      <td>5</td>\n",
       "      <td>1022114</td>\n",
       "      <td>509</td>\n",
       "    </tr>\n",
       "    <tr>\n",
       "      <th>1</th>\n",
       "      <td>105</td>\n",
       "      <td>0</td>\n",
       "      <td>538906</td>\n",
       "      <td>265</td>\n",
       "    </tr>\n",
       "    <tr>\n",
       "      <th>2</th>\n",
       "      <td>304</td>\n",
       "      <td>5</td>\n",
       "      <td>351585</td>\n",
       "      <td>171</td>\n",
       "    </tr>\n",
       "    <tr>\n",
       "      <th>3</th>\n",
       "      <td>305</td>\n",
       "      <td>0</td>\n",
       "      <td>951239</td>\n",
       "      <td>477</td>\n",
       "    </tr>\n",
       "  </tbody>\n",
       "</table>\n",
       "</div>"
      ],
      "text/plain": [
       "    rx minDBH  acres sum  counts\n",
       "0  104      5    1022114     509\n",
       "1  105      0     538906     265\n",
       "2  304      5     351585     171\n",
       "3  305      0     951239     477"
      ]
     },
     "execution_count": 83,
     "metadata": {},
     "output_type": "execute_result"
    }
   ],
   "source": [
    "#calculate the sum of acre for minDBH groups, rxpackages and provide count of stands.\n",
    "w_nNR_DBH = groupby_m.agg('sum')\\\n",
    "                .rename(columns = lambda x: x + ' sum')\\\n",
    "                .join(pd.DataFrame(groupby_m.size(), \n",
    "                                      columns=['counts']))\\\n",
    "                .reset_index()\n",
    "            \n",
    "\n",
    "w_nNR_DBH.head(n=5)"
   ]
  },
  {
   "cell_type": "code",
   "execution_count": 84,
   "metadata": {
    "ExecuteTime": {
     "end_time": "2017-06-14T22:55:54.610081Z",
     "start_time": "2017-06-14T22:55:54.526025Z"
    },
    "collapsed": false
   },
   "outputs": [
    {
     "data": {
      "text/html": [
       "<div>\n",
       "<table border=\"1\" class=\"dataframe\">\n",
       "  <thead>\n",
       "    <tr style=\"text-align: right;\">\n",
       "      <th></th>\n",
       "      <th>rx</th>\n",
       "      <th>minDBH</th>\n",
       "      <th>acres sum</th>\n",
       "      <th>counts</th>\n",
       "      <th>pair</th>\n",
       "    </tr>\n",
       "  </thead>\n",
       "  <tbody>\n",
       "    <tr>\n",
       "      <th>0</th>\n",
       "      <td>104</td>\n",
       "      <td>5</td>\n",
       "      <td>1022114</td>\n",
       "      <td>509</td>\n",
       "      <td>A</td>\n",
       "    </tr>\n",
       "    <tr>\n",
       "      <th>1</th>\n",
       "      <td>105</td>\n",
       "      <td>0</td>\n",
       "      <td>538906</td>\n",
       "      <td>265</td>\n",
       "      <td>B</td>\n",
       "    </tr>\n",
       "    <tr>\n",
       "      <th>2</th>\n",
       "      <td>304</td>\n",
       "      <td>5</td>\n",
       "      <td>351585</td>\n",
       "      <td>171</td>\n",
       "      <td>B</td>\n",
       "    </tr>\n",
       "    <tr>\n",
       "      <th>3</th>\n",
       "      <td>305</td>\n",
       "      <td>0</td>\n",
       "      <td>951239</td>\n",
       "      <td>477</td>\n",
       "      <td>A</td>\n",
       "    </tr>\n",
       "  </tbody>\n",
       "</table>\n",
       "</div>"
      ],
      "text/plain": [
       "    rx minDBH  acres sum  counts pair\n",
       "0  104      5    1022114     509    A\n",
       "1  105      0     538906     265    B\n",
       "2  304      5     351585     171    B\n",
       "3  305      0     951239     477    A"
      ]
     },
     "execution_count": 84,
     "metadata": {},
     "output_type": "execute_result"
    }
   ],
   "source": [
    "#find the difference in acres between min0 and min5 treatment potential. \n",
    "#create 'pair' column\n",
    "#asssign a specific value to each treatment pair.  ie. treatments that are identical except for min DBH\n",
    "w_nNR_DBH.pair = w_nNR_DBH.ix[w_nNR_DBH.rx.isin(['104', '305']), 'pair'] = 'A'\n",
    "w_nNR_DBH.pair = w_nNR_DBH.ix[w_nNR_DBH.rx.isin(['105', '304']), 'pair'] = 'B'\n",
    "\n",
    "w_nNR_DBH.head(n=5)"
   ]
  },
  {
   "cell_type": "code",
   "execution_count": 85,
   "metadata": {
    "collapsed": true
   },
   "outputs": [],
   "source": [
    "#export for graphing in R\n",
    "w_nNR_DBH.to_csv(\"outputs/w_nNR_DBH.csv\")"
   ]
  },
  {
   "cell_type": "code",
   "execution_count": 86,
   "metadata": {
    "collapsed": false
   },
   "outputs": [
    {
     "data": {
      "text/html": [
       "<div>\n",
       "<table border=\"1\" class=\"dataframe\">\n",
       "  <thead>\n",
       "    <tr style=\"text-align: right;\">\n",
       "      <th></th>\n",
       "      <th>rx</th>\n",
       "      <th>minDBH</th>\n",
       "      <th>acres sum</th>\n",
       "      <th>counts</th>\n",
       "      <th>pair</th>\n",
       "    </tr>\n",
       "  </thead>\n",
       "  <tbody>\n",
       "    <tr>\n",
       "      <th>3</th>\n",
       "      <td>305</td>\n",
       "      <td>0</td>\n",
       "      <td>951239</td>\n",
       "      <td>477</td>\n",
       "      <td>A</td>\n",
       "    </tr>\n",
       "    <tr>\n",
       "      <th>0</th>\n",
       "      <td>104</td>\n",
       "      <td>5</td>\n",
       "      <td>1022114</td>\n",
       "      <td>509</td>\n",
       "      <td>A</td>\n",
       "    </tr>\n",
       "    <tr>\n",
       "      <th>1</th>\n",
       "      <td>105</td>\n",
       "      <td>0</td>\n",
       "      <td>538906</td>\n",
       "      <td>265</td>\n",
       "      <td>B</td>\n",
       "    </tr>\n",
       "    <tr>\n",
       "      <th>2</th>\n",
       "      <td>304</td>\n",
       "      <td>5</td>\n",
       "      <td>351585</td>\n",
       "      <td>171</td>\n",
       "      <td>B</td>\n",
       "    </tr>\n",
       "  </tbody>\n",
       "</table>\n",
       "</div>"
      ],
      "text/plain": [
       "    rx minDBH  acres sum  counts pair\n",
       "3  305      0     951239     477    A\n",
       "0  104      5    1022114     509    A\n",
       "1  105      0     538906     265    B\n",
       "2  304      5     351585     171    B"
      ]
     },
     "execution_count": 86,
     "metadata": {},
     "output_type": "execute_result"
    }
   ],
   "source": [
    "#sort by twin and rxpackage\n",
    "w_nNR_DBH.sort_values(['pair', 'minDBH'], ascending=True, inplace=True)\n",
    "w_nNR_DBH.head(n=5)"
   ]
  },
  {
   "cell_type": "code",
   "execution_count": 87,
   "metadata": {
    "ExecuteTime": {
     "end_time": "2017-06-14T22:55:54.642602Z",
     "start_time": "2017-06-14T22:55:54.613083Z"
    },
    "collapsed": false
   },
   "outputs": [
    {
     "data": {
      "text/html": [
       "<div>\n",
       "<table border=\"1\" class=\"dataframe\">\n",
       "  <thead>\n",
       "    <tr style=\"text-align: right;\">\n",
       "      <th></th>\n",
       "      <th>rx</th>\n",
       "      <th>minDBH</th>\n",
       "      <th>acres sum</th>\n",
       "      <th>counts</th>\n",
       "      <th>pair</th>\n",
       "      <th>diff</th>\n",
       "    </tr>\n",
       "  </thead>\n",
       "  <tbody>\n",
       "    <tr>\n",
       "      <th>3</th>\n",
       "      <td>305</td>\n",
       "      <td>0</td>\n",
       "      <td>951239</td>\n",
       "      <td>477</td>\n",
       "      <td>A</td>\n",
       "      <td>-70875</td>\n",
       "    </tr>\n",
       "    <tr>\n",
       "      <th>1</th>\n",
       "      <td>105</td>\n",
       "      <td>0</td>\n",
       "      <td>538906</td>\n",
       "      <td>265</td>\n",
       "      <td>B</td>\n",
       "      <td>187321</td>\n",
       "    </tr>\n",
       "  </tbody>\n",
       "</table>\n",
       "</div>"
      ],
      "text/plain": [
       "    rx minDBH  acres sum  counts pair   diff\n",
       "3  305      0     951239     477    A -70875\n",
       "1  105      0     538906     265    B 187321"
      ]
     },
     "execution_count": 87,
     "metadata": {},
     "output_type": "execute_result"
    }
   ],
   "source": [
    "# find difference in acres between min0 and min5 in each pair\n",
    "#group by minDBH and pair, display acres\n",
    "\n",
    "#subtract min5 from min0 acre sums\n",
    "w_nNR_DBH['diff'] = w_nNR_DBH['acres sum'] - w_nNR_DBH['acres sum'].shift(-1)\n",
    "\n",
    "#remove the min5 rows from dataframe\n",
    "w_nNR_DBHdiff = w_nNR_DBH[w_nNR_DBH['minDBH'] == '0']\n",
    "\n",
    "#print first five rows\n",
    "w_nNR_DBHdiff.head(n=5)"
   ]
  },
  {
   "cell_type": "code",
   "execution_count": 88,
   "metadata": {
    "ExecuteTime": {
     "end_time": "2017-06-14T22:55:54.700141Z",
     "start_time": "2017-06-14T22:55:54.646104Z"
    },
    "collapsed": false
   },
   "outputs": [
    {
     "data": {
      "text/plain": [
       "count        2\n",
       "mean     58223\n",
       "std     182572\n",
       "min     -70875\n",
       "25%      -6326\n",
       "50%      58223\n",
       "75%     122772\n",
       "max     187321\n",
       "Name: diff, dtype: float64"
      ]
     },
     "execution_count": 88,
     "metadata": {},
     "output_type": "execute_result"
    }
   ],
   "source": [
    "#get statistics for difference in acreage between pairs. \n",
    "w_nNR_DBHdiff['diff'].describe()"
   ]
  },
  {
   "cell_type": "code",
   "execution_count": 89,
   "metadata": {
    "collapsed": false
   },
   "outputs": [
    {
     "data": {
      "text/html": [
       "<img src=\"graphs/minDBH.png\" width=\"500\" height=\"400\"/>"
      ],
      "text/plain": [
       "<IPython.core.display.Image object>"
      ]
     },
     "execution_count": 89,
     "metadata": {},
     "output_type": "execute_result"
    }
   ],
   "source": [
    "Image(url= \"graphs/minDBH.png\", width=500, height=400)"
   ]
  },
  {
   "cell_type": "code",
   "execution_count": 90,
   "metadata": {
    "collapsed": false
   },
   "outputs": [
    {
     "data": {
      "text/html": [
       "<img src=\"graphs/minDBH2.png\" width=\"500\" height=\"400\"/>"
      ],
      "text/plain": [
       "<IPython.core.display.Image object>"
      ]
     },
     "execution_count": 90,
     "metadata": {},
     "output_type": "execute_result"
    }
   ],
   "source": [
    "Image(url= \"graphs/minDBH2.png\", width=500, height=400)"
   ]
  },
  {
   "cell_type": "markdown",
   "metadata": {},
   "source": [
    "# Pick a residual BA and dbh cap (repeat for a couple other combos). For the set of plots where treatments are implementable in both cases, what is the average difference in effectiveness (score diff or difference in score relative to grow only) for thin across vs thin below? What is the difference in average net revenue? (1-4 = 19-22, 9-12 = 23-26)"
   ]
  },
  {
   "cell_type": "markdown",
   "metadata": {},
   "source": [
    "Use these queries in the weighted_nNR core analysis scenario DB"
   ]
  },
  {
   "cell_type": "markdown",
   "metadata": {},
   "source": [
    "``` mysql\n",
    "SELECT cycle1_effective.biosum_cond_id, cycle1_effective.rxpackage, cycle1_effective.rx, cycle1_effective.rxcycle, cycle1_effective.pre_variable1_name, cycle1_effective.post_variable1_name, cycle1_effective.variable1_change, cycle1_effective.variable1_effective_yn, cond.acres INTO question8\n",
    "FROM cond INNER JOIN cycle1_effective ON cond.biosum_cond_id = cycle1_effective.biosum_cond_id;\n",
    "\n",
    "UPDATE product_yields_net_rev_costs_summary_by_rxpackage INNER JOIN question8 ON (product_yields_net_rev_costs_summary_by_rxpackage.rxpackage = question8.rxpackage) AND (product_yields_net_rev_costs_summary_by_rxpackage.biosum_cond_id = question8.biosum_cond_id) SET question8.max_nr_dpa = [product_yields_net_rev_costs_summary_by_rxpackage].[max_nr_dpa];\n",
    "\n",
    "\n",
    "```"
   ]
  },
  {
   "cell_type": "code",
   "execution_count": 91,
   "metadata": {
    "ExecuteTime": {
     "end_time": "2017-06-14T22:55:58.152438Z",
     "start_time": "2017-06-14T22:55:54.703143Z"
    },
    "collapsed": false
   },
   "outputs": [
    {
     "data": {
      "text/html": [
       "<div>\n",
       "<table border=\"1\" class=\"dataframe\">\n",
       "  <thead>\n",
       "    <tr style=\"text-align: right;\">\n",
       "      <th></th>\n",
       "      <th>biosum_cond_id</th>\n",
       "      <th>rxpackage</th>\n",
       "      <th>rx</th>\n",
       "      <th>rxcycle</th>\n",
       "      <th>pre_variable1_name</th>\n",
       "      <th>post_variable1_name</th>\n",
       "      <th>variable1_change</th>\n",
       "      <th>variable1_effective_yn</th>\n",
       "      <th>acres</th>\n",
       "      <th>max_nr_dpa</th>\n",
       "    </tr>\n",
       "  </thead>\n",
       "  <tbody>\n",
       "    <tr>\n",
       "      <th>0</th>\n",
       "      <td>1200641050705900795510001</td>\n",
       "      <td>15</td>\n",
       "      <td>110</td>\n",
       "      <td>1</td>\n",
       "      <td>PRE_FVS_POTFIRE.wHazard</td>\n",
       "      <td>POST_FVS_POTFIRE.wHazard</td>\n",
       "      <td>1</td>\n",
       "      <td>N</td>\n",
       "      <td>7336</td>\n",
       "      <td>-640</td>\n",
       "    </tr>\n",
       "    <tr>\n",
       "      <th>1</th>\n",
       "      <td>1200741010700100522500001</td>\n",
       "      <td>1</td>\n",
       "      <td>100</td>\n",
       "      <td>1</td>\n",
       "      <td>PRE_FVS_POTFIRE.wHazard</td>\n",
       "      <td>POST_FVS_POTFIRE.wHazard</td>\n",
       "      <td>nan</td>\n",
       "      <td>NaN</td>\n",
       "      <td>1812</td>\n",
       "      <td>-153</td>\n",
       "    </tr>\n",
       "    <tr>\n",
       "      <th>2</th>\n",
       "      <td>1200741010700100571330001</td>\n",
       "      <td>1</td>\n",
       "      <td>100</td>\n",
       "      <td>1</td>\n",
       "      <td>PRE_FVS_POTFIRE.wHazard</td>\n",
       "      <td>POST_FVS_POTFIRE.wHazard</td>\n",
       "      <td>-1</td>\n",
       "      <td>Y</td>\n",
       "      <td>1998</td>\n",
       "      <td>-2778</td>\n",
       "    </tr>\n",
       "    <tr>\n",
       "      <th>3</th>\n",
       "      <td>1200741010700100571330001</td>\n",
       "      <td>2</td>\n",
       "      <td>101</td>\n",
       "      <td>1</td>\n",
       "      <td>PRE_FVS_POTFIRE.wHazard</td>\n",
       "      <td>POST_FVS_POTFIRE.wHazard</td>\n",
       "      <td>-1</td>\n",
       "      <td>Y</td>\n",
       "      <td>1998</td>\n",
       "      <td>-2367</td>\n",
       "    </tr>\n",
       "    <tr>\n",
       "      <th>4</th>\n",
       "      <td>1200741010700100571330001</td>\n",
       "      <td>3</td>\n",
       "      <td>102</td>\n",
       "      <td>1</td>\n",
       "      <td>PRE_FVS_POTFIRE.wHazard</td>\n",
       "      <td>POST_FVS_POTFIRE.wHazard</td>\n",
       "      <td>-1</td>\n",
       "      <td>Y</td>\n",
       "      <td>1998</td>\n",
       "      <td>-730</td>\n",
       "    </tr>\n",
       "  </tbody>\n",
       "</table>\n",
       "</div>"
      ],
      "text/plain": [
       "              biosum_cond_id rxpackage   rx  rxcycle       pre_variable1_name  \\\n",
       "0  1200641050705900795510001        15  110        1  PRE_FVS_POTFIRE.wHazard   \n",
       "1  1200741010700100522500001         1  100        1  PRE_FVS_POTFIRE.wHazard   \n",
       "2  1200741010700100571330001         1  100        1  PRE_FVS_POTFIRE.wHazard   \n",
       "3  1200741010700100571330001         2  101        1  PRE_FVS_POTFIRE.wHazard   \n",
       "4  1200741010700100571330001         3  102        1  PRE_FVS_POTFIRE.wHazard   \n",
       "\n",
       "        post_variable1_name  variable1_change variable1_effective_yn  acres  \\\n",
       "0  POST_FVS_POTFIRE.wHazard                 1                      N   7336   \n",
       "1  POST_FVS_POTFIRE.wHazard               nan                    NaN   1812   \n",
       "2  POST_FVS_POTFIRE.wHazard                -1                      Y   1998   \n",
       "3  POST_FVS_POTFIRE.wHazard                -1                      Y   1998   \n",
       "4  POST_FVS_POTFIRE.wHazard                -1                      Y   1998   \n",
       "\n",
       "   max_nr_dpa  \n",
       "0        -640  \n",
       "1        -153  \n",
       "2       -2778  \n",
       "3       -2367  \n",
       "4        -730  "
      ]
     },
     "execution_count": 91,
     "metadata": {},
     "output_type": "execute_result"
    }
   ],
   "source": [
    "#read in the enter table created by SQL above from queries run in core analysis database\n",
    "w_nNR_enter = pd.read_excel(open('data/enter_noNR.xlsx', 'rb'), sheetname='question8', lowmemory=False)\n",
    "#change a couple columns to string\n",
    "w_nNR_enter.biosum_cond_id = w_nNR_enter.biosum_cond_id.astype(str)\n",
    "w_nNR_enter.rx = w_nNR_enter.rx.astype(str)\n",
    "w_nNR_enter.rxpackage = w_nNR_enter.rxpackage.astype(str)\n",
    "#print first five records of new table\n",
    "w_nNR_enter.head(n=5)"
   ]
  },
  {
   "cell_type": "code",
   "execution_count": 92,
   "metadata": {
    "ExecuteTime": {
     "end_time": "2017-06-14T22:55:58.248000Z",
     "start_time": "2017-06-14T22:55:58.155938Z"
    },
    "collapsed": false
   },
   "outputs": [
    {
     "data": {
      "text/html": [
       "<div>\n",
       "<table border=\"1\" class=\"dataframe\">\n",
       "  <thead>\n",
       "    <tr style=\"text-align: right;\">\n",
       "      <th></th>\n",
       "      <th>biosum_cond_id</th>\n",
       "      <th>rxpackage</th>\n",
       "      <th>rx</th>\n",
       "      <th>rxcycle</th>\n",
       "      <th>pre_variable1_name</th>\n",
       "      <th>post_variable1_name</th>\n",
       "      <th>variable1_change</th>\n",
       "      <th>variable1_effective_yn</th>\n",
       "      <th>acres</th>\n",
       "      <th>max_nr_dpa</th>\n",
       "      <th>twin</th>\n",
       "    </tr>\n",
       "  </thead>\n",
       "  <tbody>\n",
       "    <tr>\n",
       "      <th>0</th>\n",
       "      <td>1200641050705900795510001</td>\n",
       "      <td>15</td>\n",
       "      <td>110</td>\n",
       "      <td>1</td>\n",
       "      <td>PRE_FVS_POTFIRE.wHazard</td>\n",
       "      <td>POST_FVS_POTFIRE.wHazard</td>\n",
       "      <td>1</td>\n",
       "      <td>N</td>\n",
       "      <td>7336</td>\n",
       "      <td>-640</td>\n",
       "      <td>NaN</td>\n",
       "    </tr>\n",
       "    <tr>\n",
       "      <th>1</th>\n",
       "      <td>1200741010700100522500001</td>\n",
       "      <td>1</td>\n",
       "      <td>100</td>\n",
       "      <td>1</td>\n",
       "      <td>PRE_FVS_POTFIRE.wHazard</td>\n",
       "      <td>POST_FVS_POTFIRE.wHazard</td>\n",
       "      <td>nan</td>\n",
       "      <td>NaN</td>\n",
       "      <td>1812</td>\n",
       "      <td>-153</td>\n",
       "      <td>A</td>\n",
       "    </tr>\n",
       "    <tr>\n",
       "      <th>2</th>\n",
       "      <td>1200741010700100571330001</td>\n",
       "      <td>1</td>\n",
       "      <td>100</td>\n",
       "      <td>1</td>\n",
       "      <td>PRE_FVS_POTFIRE.wHazard</td>\n",
       "      <td>POST_FVS_POTFIRE.wHazard</td>\n",
       "      <td>-1</td>\n",
       "      <td>Y</td>\n",
       "      <td>1998</td>\n",
       "      <td>-2778</td>\n",
       "      <td>A</td>\n",
       "    </tr>\n",
       "    <tr>\n",
       "      <th>3</th>\n",
       "      <td>1200741010700100571330001</td>\n",
       "      <td>2</td>\n",
       "      <td>101</td>\n",
       "      <td>1</td>\n",
       "      <td>PRE_FVS_POTFIRE.wHazard</td>\n",
       "      <td>POST_FVS_POTFIRE.wHazard</td>\n",
       "      <td>-1</td>\n",
       "      <td>Y</td>\n",
       "      <td>1998</td>\n",
       "      <td>-2367</td>\n",
       "      <td>B</td>\n",
       "    </tr>\n",
       "    <tr>\n",
       "      <th>4</th>\n",
       "      <td>1200741010700100571330001</td>\n",
       "      <td>3</td>\n",
       "      <td>102</td>\n",
       "      <td>1</td>\n",
       "      <td>PRE_FVS_POTFIRE.wHazard</td>\n",
       "      <td>POST_FVS_POTFIRE.wHazard</td>\n",
       "      <td>-1</td>\n",
       "      <td>Y</td>\n",
       "      <td>1998</td>\n",
       "      <td>-730</td>\n",
       "      <td>C</td>\n",
       "    </tr>\n",
       "  </tbody>\n",
       "</table>\n",
       "</div>"
      ],
      "text/plain": [
       "              biosum_cond_id rxpackage   rx  rxcycle       pre_variable1_name  \\\n",
       "0  1200641050705900795510001        15  110        1  PRE_FVS_POTFIRE.wHazard   \n",
       "1  1200741010700100522500001         1  100        1  PRE_FVS_POTFIRE.wHazard   \n",
       "2  1200741010700100571330001         1  100        1  PRE_FVS_POTFIRE.wHazard   \n",
       "3  1200741010700100571330001         2  101        1  PRE_FVS_POTFIRE.wHazard   \n",
       "4  1200741010700100571330001         3  102        1  PRE_FVS_POTFIRE.wHazard   \n",
       "\n",
       "        post_variable1_name  variable1_change variable1_effective_yn  acres  \\\n",
       "0  POST_FVS_POTFIRE.wHazard                 1                      N   7336   \n",
       "1  POST_FVS_POTFIRE.wHazard               nan                    NaN   1812   \n",
       "2  POST_FVS_POTFIRE.wHazard                -1                      Y   1998   \n",
       "3  POST_FVS_POTFIRE.wHazard                -1                      Y   1998   \n",
       "4  POST_FVS_POTFIRE.wHazard                -1                      Y   1998   \n",
       "\n",
       "   max_nr_dpa twin  \n",
       "0        -640  NaN  \n",
       "1        -153    A  \n",
       "2       -2778    A  \n",
       "3       -2367    B  \n",
       "4        -730    C  "
      ]
     },
     "execution_count": 92,
     "metadata": {},
     "output_type": "execute_result"
    }
   ],
   "source": [
    "# find set of plots where treatements are implementable in both cases\n",
    "\n",
    "#create a column 'twin'\n",
    "#assign a 'twin' value to each pair of treatments that are identical except for thin type\n",
    "w_nNR_enter.twin = w_nNR_enter.ix[w_nNR_enter.rxpackage.isin(['1', '19']), 'twin'] = 'A'\n",
    "w_nNR_enter.twin = w_nNR_enter.ix[w_nNR_enter.rxpackage.isin(['2', '20']), 'twin'] = 'B'\n",
    "w_nNR_enter.twin = w_nNR_enter.ix[w_nNR_enter.rxpackage.isin(['3', '21']), 'twin'] = 'C'\n",
    "w_nNR_enter.twin = w_nNR_enter.ix[w_nNR_enter.rxpackage.isin(['4', '22']), 'twin'] = 'D'\n",
    "w_nNR_enter.twin = w_nNR_enter.ix[w_nNR_enter.rxpackage.isin(['9', '23']), 'twin'] = 'E'\n",
    "w_nNR_enter.twin = w_nNR_enter.ix[w_nNR_enter.rxpackage.isin(['10', '24']), 'twin'] = 'F'\n",
    "w_nNR_enter.twin = w_nNR_enter.ix[w_nNR_enter.rxpackage.isin(['11', '25']), 'twin'] = 'G'\n",
    "w_nNR_enter.twin = w_nNR_enter.ix[w_nNR_enter.rxpackage.isin(['12', '26']), 'twin'] = 'H'\n",
    "\n",
    "w_nNR_enter.head(n=5)\n"
   ]
  },
  {
   "cell_type": "code",
   "execution_count": 93,
   "metadata": {
    "ExecuteTime": {
     "end_time": "2017-06-14T22:55:58.305538Z",
     "start_time": "2017-06-14T22:55:58.251002Z"
    },
    "collapsed": false
   },
   "outputs": [
    {
     "data": {
      "text/html": [
       "<div>\n",
       "<table border=\"1\" class=\"dataframe\">\n",
       "  <thead>\n",
       "    <tr style=\"text-align: right;\">\n",
       "      <th></th>\n",
       "      <th>biosum_cond_id</th>\n",
       "      <th>twin</th>\n",
       "      <th>acres</th>\n",
       "      <th>counts</th>\n",
       "    </tr>\n",
       "  </thead>\n",
       "  <tbody>\n",
       "    <tr>\n",
       "      <th>0</th>\n",
       "      <td>1200741010700100571330001</td>\n",
       "      <td>A</td>\n",
       "      <td>1998</td>\n",
       "      <td>2</td>\n",
       "    </tr>\n",
       "    <tr>\n",
       "      <th>1</th>\n",
       "      <td>1200741010700100571330001</td>\n",
       "      <td>B</td>\n",
       "      <td>1998</td>\n",
       "      <td>2</td>\n",
       "    </tr>\n",
       "    <tr>\n",
       "      <th>2</th>\n",
       "      <td>1200741010700100571330001</td>\n",
       "      <td>C</td>\n",
       "      <td>1998</td>\n",
       "      <td>2</td>\n",
       "    </tr>\n",
       "    <tr>\n",
       "      <th>3</th>\n",
       "      <td>1200741010700100571330001</td>\n",
       "      <td>D</td>\n",
       "      <td>1998</td>\n",
       "      <td>2</td>\n",
       "    </tr>\n",
       "    <tr>\n",
       "      <th>4</th>\n",
       "      <td>1200741010700100571330001</td>\n",
       "      <td>E</td>\n",
       "      <td>1998</td>\n",
       "      <td>2</td>\n",
       "    </tr>\n",
       "  </tbody>\n",
       "</table>\n",
       "</div>"
      ],
      "text/plain": [
       "              biosum_cond_id twin  acres  counts\n",
       "0  1200741010700100571330001    A   1998       2\n",
       "1  1200741010700100571330001    B   1998       2\n",
       "2  1200741010700100571330001    C   1998       2\n",
       "3  1200741010700100571330001    D   1998       2\n",
       "4  1200741010700100571330001    E   1998       2"
      ]
     },
     "execution_count": 93,
     "metadata": {},
     "output_type": "execute_result"
    }
   ],
   "source": [
    "#groupby biosumID and twin group\n",
    "groupby_T = w_nNR_enter[['biosum_cond_id', 'twin','acres']].groupby(['biosum_cond_id', 'twin'])\n",
    "#get a count of the number of records in each twin group.\n",
    "w_nNR_enterA = groupby_T.agg('min')\\\n",
    "                .rename(columns = lambda x: x)\\\n",
    "                .join(pd.DataFrame(groupby_T.size(), \n",
    "                                      columns=['counts']))\n",
    "#filter for biosumID/package groups that have a count of 2, meaning the stand could be entered by each package in the twin group. \n",
    "w_nNR_enterA=pd.DataFrame(w_nNR_enterA.loc[w_nNR_enterA['counts'] == 2])            \n",
    "w_nNR_enterA.reset_index(inplace=True)  \n",
    "w_nNR_enterA.head(n=5)"
   ]
  },
  {
   "cell_type": "code",
   "execution_count": 94,
   "metadata": {
    "ExecuteTime": {
     "end_time": "2017-06-14T22:55:58.357572Z",
     "start_time": "2017-06-14T22:55:58.308540Z"
    },
    "collapsed": false
   },
   "outputs": [
    {
     "data": {
      "text/html": [
       "<div>\n",
       "<table border=\"1\" class=\"dataframe\">\n",
       "  <thead>\n",
       "    <tr style=\"text-align: right;\">\n",
       "      <th></th>\n",
       "      <th>biosum_cond_id</th>\n",
       "      <th>rxpackage</th>\n",
       "      <th>rx</th>\n",
       "      <th>rxcycle</th>\n",
       "      <th>pre_variable1_name</th>\n",
       "      <th>post_variable1_name</th>\n",
       "      <th>variable1_change</th>\n",
       "      <th>variable1_effective_yn</th>\n",
       "      <th>acres_x</th>\n",
       "      <th>max_nr_dpa</th>\n",
       "      <th>twin</th>\n",
       "      <th>acres_y</th>\n",
       "      <th>counts</th>\n",
       "    </tr>\n",
       "  </thead>\n",
       "  <tbody>\n",
       "    <tr>\n",
       "      <th>0</th>\n",
       "      <td>1200741010700100571330001</td>\n",
       "      <td>1</td>\n",
       "      <td>100</td>\n",
       "      <td>1</td>\n",
       "      <td>PRE_FVS_POTFIRE.wHazard</td>\n",
       "      <td>POST_FVS_POTFIRE.wHazard</td>\n",
       "      <td>-1</td>\n",
       "      <td>Y</td>\n",
       "      <td>1998</td>\n",
       "      <td>-2778</td>\n",
       "      <td>A</td>\n",
       "      <td>1998</td>\n",
       "      <td>2</td>\n",
       "    </tr>\n",
       "    <tr>\n",
       "      <th>1</th>\n",
       "      <td>1200741010700100571330001</td>\n",
       "      <td>19</td>\n",
       "      <td>200</td>\n",
       "      <td>1</td>\n",
       "      <td>PRE_FVS_POTFIRE.wHazard</td>\n",
       "      <td>POST_FVS_POTFIRE.wHazard</td>\n",
       "      <td>-1</td>\n",
       "      <td>Y</td>\n",
       "      <td>1998</td>\n",
       "      <td>-2393</td>\n",
       "      <td>A</td>\n",
       "      <td>1998</td>\n",
       "      <td>2</td>\n",
       "    </tr>\n",
       "    <tr>\n",
       "      <th>2</th>\n",
       "      <td>1200741010700100571330001</td>\n",
       "      <td>2</td>\n",
       "      <td>101</td>\n",
       "      <td>1</td>\n",
       "      <td>PRE_FVS_POTFIRE.wHazard</td>\n",
       "      <td>POST_FVS_POTFIRE.wHazard</td>\n",
       "      <td>-1</td>\n",
       "      <td>Y</td>\n",
       "      <td>1998</td>\n",
       "      <td>-2367</td>\n",
       "      <td>B</td>\n",
       "      <td>1998</td>\n",
       "      <td>2</td>\n",
       "    </tr>\n",
       "    <tr>\n",
       "      <th>3</th>\n",
       "      <td>1200741010700100571330001</td>\n",
       "      <td>20</td>\n",
       "      <td>201</td>\n",
       "      <td>1</td>\n",
       "      <td>PRE_FVS_POTFIRE.wHazard</td>\n",
       "      <td>POST_FVS_POTFIRE.wHazard</td>\n",
       "      <td>-0</td>\n",
       "      <td>Y</td>\n",
       "      <td>1998</td>\n",
       "      <td>-2299</td>\n",
       "      <td>B</td>\n",
       "      <td>1998</td>\n",
       "      <td>2</td>\n",
       "    </tr>\n",
       "    <tr>\n",
       "      <th>4</th>\n",
       "      <td>1200741010700100571330001</td>\n",
       "      <td>3</td>\n",
       "      <td>102</td>\n",
       "      <td>1</td>\n",
       "      <td>PRE_FVS_POTFIRE.wHazard</td>\n",
       "      <td>POST_FVS_POTFIRE.wHazard</td>\n",
       "      <td>-1</td>\n",
       "      <td>Y</td>\n",
       "      <td>1998</td>\n",
       "      <td>-730</td>\n",
       "      <td>C</td>\n",
       "      <td>1998</td>\n",
       "      <td>2</td>\n",
       "    </tr>\n",
       "  </tbody>\n",
       "</table>\n",
       "</div>"
      ],
      "text/plain": [
       "              biosum_cond_id rxpackage   rx  rxcycle       pre_variable1_name  \\\n",
       "0  1200741010700100571330001         1  100        1  PRE_FVS_POTFIRE.wHazard   \n",
       "1  1200741010700100571330001        19  200        1  PRE_FVS_POTFIRE.wHazard   \n",
       "2  1200741010700100571330001         2  101        1  PRE_FVS_POTFIRE.wHazard   \n",
       "3  1200741010700100571330001        20  201        1  PRE_FVS_POTFIRE.wHazard   \n",
       "4  1200741010700100571330001         3  102        1  PRE_FVS_POTFIRE.wHazard   \n",
       "\n",
       "        post_variable1_name  variable1_change variable1_effective_yn  acres_x  \\\n",
       "0  POST_FVS_POTFIRE.wHazard                -1                      Y     1998   \n",
       "1  POST_FVS_POTFIRE.wHazard                -1                      Y     1998   \n",
       "2  POST_FVS_POTFIRE.wHazard                -1                      Y     1998   \n",
       "3  POST_FVS_POTFIRE.wHazard                -0                      Y     1998   \n",
       "4  POST_FVS_POTFIRE.wHazard                -1                      Y     1998   \n",
       "\n",
       "   max_nr_dpa twin  acres_y  counts  \n",
       "0       -2778    A     1998       2  \n",
       "1       -2393    A     1998       2  \n",
       "2       -2367    B     1998       2  \n",
       "3       -2299    B     1998       2  \n",
       "4        -730    C     1998       2  "
      ]
     },
     "execution_count": 94,
     "metadata": {},
     "output_type": "execute_result"
    }
   ],
   "source": [
    "#create a new table that only contains the records for stands/packages that could be entered by both packages in the twin\n",
    "#merge with original table to get the variable values and max_nr values. \n",
    "enter = pd.merge(w_nNR_enter, w_nNR_enterA, how='inner', on=['biosum_cond_id', 'twin'])\n",
    "enter.to_csv('outputs/enter.csv')\n",
    "enter.head(n=5)\n",
    "#check out max_nr graph in R_graphing, link below"
   ]
  },
  {
   "cell_type": "code",
   "execution_count": 95,
   "metadata": {
    "collapsed": false,
    "scrolled": false
   },
   "outputs": [
    {
     "data": {
      "text/html": [
       "<div>\n",
       "<table border=\"1\" class=\"dataframe\">\n",
       "  <thead>\n",
       "    <tr style=\"text-align: right;\">\n",
       "      <th></th>\n",
       "      <th>biosum_cond_id</th>\n",
       "      <th>rxpackage</th>\n",
       "      <th>rx</th>\n",
       "      <th>rxcycle</th>\n",
       "      <th>pre_variable1_name</th>\n",
       "      <th>post_variable1_name</th>\n",
       "      <th>variable1_change</th>\n",
       "      <th>variable1_effective_yn</th>\n",
       "      <th>acres_x</th>\n",
       "      <th>max_nr_dpa</th>\n",
       "      <th>twin</th>\n",
       "      <th>acres_y</th>\n",
       "      <th>counts</th>\n",
       "      <th>expansion</th>\n",
       "    </tr>\n",
       "  </thead>\n",
       "  <tbody>\n",
       "    <tr>\n",
       "      <th>0</th>\n",
       "      <td>1200741010700100571330001</td>\n",
       "      <td>1</td>\n",
       "      <td>100</td>\n",
       "      <td>1</td>\n",
       "      <td>PRE_FVS_POTFIRE.wHazard</td>\n",
       "      <td>POST_FVS_POTFIRE.wHazard</td>\n",
       "      <td>-1</td>\n",
       "      <td>Y</td>\n",
       "      <td>1998</td>\n",
       "      <td>-2778</td>\n",
       "      <td>A</td>\n",
       "      <td>1998</td>\n",
       "      <td>2</td>\n",
       "      <td>-5550248</td>\n",
       "    </tr>\n",
       "    <tr>\n",
       "      <th>1</th>\n",
       "      <td>1200741010700100571330001</td>\n",
       "      <td>19</td>\n",
       "      <td>200</td>\n",
       "      <td>1</td>\n",
       "      <td>PRE_FVS_POTFIRE.wHazard</td>\n",
       "      <td>POST_FVS_POTFIRE.wHazard</td>\n",
       "      <td>-1</td>\n",
       "      <td>Y</td>\n",
       "      <td>1998</td>\n",
       "      <td>-2393</td>\n",
       "      <td>A</td>\n",
       "      <td>1998</td>\n",
       "      <td>2</td>\n",
       "      <td>-4782376</td>\n",
       "    </tr>\n",
       "    <tr>\n",
       "      <th>2</th>\n",
       "      <td>1200741010700100571330001</td>\n",
       "      <td>2</td>\n",
       "      <td>101</td>\n",
       "      <td>1</td>\n",
       "      <td>PRE_FVS_POTFIRE.wHazard</td>\n",
       "      <td>POST_FVS_POTFIRE.wHazard</td>\n",
       "      <td>-1</td>\n",
       "      <td>Y</td>\n",
       "      <td>1998</td>\n",
       "      <td>-2367</td>\n",
       "      <td>B</td>\n",
       "      <td>1998</td>\n",
       "      <td>2</td>\n",
       "      <td>-4729747</td>\n",
       "    </tr>\n",
       "    <tr>\n",
       "      <th>3</th>\n",
       "      <td>1200741010700100571330001</td>\n",
       "      <td>20</td>\n",
       "      <td>201</td>\n",
       "      <td>1</td>\n",
       "      <td>PRE_FVS_POTFIRE.wHazard</td>\n",
       "      <td>POST_FVS_POTFIRE.wHazard</td>\n",
       "      <td>-0</td>\n",
       "      <td>Y</td>\n",
       "      <td>1998</td>\n",
       "      <td>-2299</td>\n",
       "      <td>B</td>\n",
       "      <td>1998</td>\n",
       "      <td>2</td>\n",
       "      <td>-4593687</td>\n",
       "    </tr>\n",
       "    <tr>\n",
       "      <th>4</th>\n",
       "      <td>1200741010700100571330001</td>\n",
       "      <td>3</td>\n",
       "      <td>102</td>\n",
       "      <td>1</td>\n",
       "      <td>PRE_FVS_POTFIRE.wHazard</td>\n",
       "      <td>POST_FVS_POTFIRE.wHazard</td>\n",
       "      <td>-1</td>\n",
       "      <td>Y</td>\n",
       "      <td>1998</td>\n",
       "      <td>-730</td>\n",
       "      <td>C</td>\n",
       "      <td>1998</td>\n",
       "      <td>2</td>\n",
       "      <td>-1459592</td>\n",
       "    </tr>\n",
       "  </tbody>\n",
       "</table>\n",
       "</div>"
      ],
      "text/plain": [
       "              biosum_cond_id rxpackage   rx  rxcycle       pre_variable1_name  \\\n",
       "0  1200741010700100571330001         1  100        1  PRE_FVS_POTFIRE.wHazard   \n",
       "1  1200741010700100571330001        19  200        1  PRE_FVS_POTFIRE.wHazard   \n",
       "2  1200741010700100571330001         2  101        1  PRE_FVS_POTFIRE.wHazard   \n",
       "3  1200741010700100571330001        20  201        1  PRE_FVS_POTFIRE.wHazard   \n",
       "4  1200741010700100571330001         3  102        1  PRE_FVS_POTFIRE.wHazard   \n",
       "\n",
       "        post_variable1_name  variable1_change variable1_effective_yn  acres_x  \\\n",
       "0  POST_FVS_POTFIRE.wHazard                -1                      Y     1998   \n",
       "1  POST_FVS_POTFIRE.wHazard                -1                      Y     1998   \n",
       "2  POST_FVS_POTFIRE.wHazard                -1                      Y     1998   \n",
       "3  POST_FVS_POTFIRE.wHazard                -0                      Y     1998   \n",
       "4  POST_FVS_POTFIRE.wHazard                -1                      Y     1998   \n",
       "\n",
       "   max_nr_dpa twin  acres_y  counts  expansion  \n",
       "0       -2778    A     1998       2   -5550248  \n",
       "1       -2393    A     1998       2   -4782376  \n",
       "2       -2367    B     1998       2   -4729747  \n",
       "3       -2299    B     1998       2   -4593687  \n",
       "4        -730    C     1998       2   -1459592  "
      ]
     },
     "execution_count": 95,
     "metadata": {},
     "output_type": "execute_result"
    }
   ],
   "source": [
    "#expand max_nr_dpa by acres, name expansion\n",
    "enter['expansion'] = enter['max_nr_dpa'] * enter['acres_x']  # assigned to a column\n",
    "enter.to_csv('outputs/enter.csv')\n",
    "enter.head(n=5)"
   ]
  },
  {
   "cell_type": "code",
   "execution_count": 97,
   "metadata": {
    "collapsed": false,
    "scrolled": true
   },
   "outputs": [],
   "source": [
    "#table that calculates the total entered acres for each pair of treatments \n",
    "#acres that could be entered by both packages. \n",
    "enterTotalAcres=enter.groupby(['twin','rx']).agg('sum').rename(columns = lambda x: x + '_sum').reset_index()"
   ]
  },
  {
   "cell_type": "code",
   "execution_count": 98,
   "metadata": {
    "collapsed": false
   },
   "outputs": [],
   "source": [
    "#create a table that contains only effective = Y sums for each twin/rxpackage\n",
    "\n",
    "#filter by effective = Y\n",
    "enterY=pd.DataFrame(enter.loc[enter['variable1_effective_yn'] == 'Y'])  \n",
    "\n",
    "enterY.rx =enterY.rx.astype(int)\n",
    "#sort by twin and rxpackage\n",
    "enterY.sort_values(['twin', 'rx'], ascending=True, inplace=True)\n",
    "\n",
    "#enterY.to_csv(\"outputs/enterY.csv\"\n"
   ]
  },
  {
   "cell_type": "code",
   "execution_count": 99,
   "metadata": {
    "collapsed": false
   },
   "outputs": [
    {
     "data": {
      "text/html": [
       "<div>\n",
       "<table border=\"1\" class=\"dataframe\">\n",
       "  <thead>\n",
       "    <tr style=\"text-align: right;\">\n",
       "      <th></th>\n",
       "      <th>rx</th>\n",
       "      <th>twin</th>\n",
       "      <th>max_nr_dpa</th>\n",
       "    </tr>\n",
       "  </thead>\n",
       "  <tbody>\n",
       "    <tr>\n",
       "      <th>0</th>\n",
       "      <td>100</td>\n",
       "      <td>A</td>\n",
       "      <td>-2778</td>\n",
       "    </tr>\n",
       "    <tr>\n",
       "      <th>88</th>\n",
       "      <td>100</td>\n",
       "      <td>A</td>\n",
       "      <td>-2935</td>\n",
       "    </tr>\n",
       "    <tr>\n",
       "      <th>148</th>\n",
       "      <td>100</td>\n",
       "      <td>A</td>\n",
       "      <td>1026</td>\n",
       "    </tr>\n",
       "  </tbody>\n",
       "</table>\n",
       "</div>"
      ],
      "text/plain": [
       "      rx twin  max_nr_dpa\n",
       "0    100    A       -2778\n",
       "88   100    A       -2935\n",
       "148  100    A        1026"
      ]
     },
     "execution_count": 99,
     "metadata": {},
     "output_type": "execute_result"
    }
   ],
   "source": [
    "enterYsub=enterY[['rx', 'twin', 'max_nr_dpa']]\n",
    "enterYsub.to_csv(\"outputs/enterYsub.csv\")\n",
    "enterYsub.head(n=3)"
   ]
  },
  {
   "cell_type": "code",
   "execution_count": 100,
   "metadata": {
    "ExecuteTime": {
     "end_time": "2017-06-14T22:55:58.369081Z",
     "start_time": "2017-06-14T22:55:58.360575Z"
    },
    "collapsed": false
   },
   "outputs": [],
   "source": [
    "#group by twin and variable effective yn , display acres\n",
    "groupby_e = enterY[['twin', 'rx', 'variable1_effective_yn','variable1_change', 'acres_x', 'max_nr_dpa', 'expansion']].groupby(['twin', 'rx','variable1_effective_yn'])\n"
   ]
  },
  {
   "cell_type": "code",
   "execution_count": 101,
   "metadata": {
    "ExecuteTime": {
     "end_time": "2017-06-14T22:55:58.418614Z",
     "start_time": "2017-06-14T22:55:58.373083Z"
    },
    "collapsed": false,
    "scrolled": false
   },
   "outputs": [
    {
     "data": {
      "text/html": [
       "<div>\n",
       "<table border=\"1\" class=\"dataframe\">\n",
       "  <thead>\n",
       "    <tr style=\"text-align: right;\">\n",
       "      <th></th>\n",
       "      <th>twin</th>\n",
       "      <th>rx</th>\n",
       "      <th>variable1_effective_yn</th>\n",
       "      <th>variable1_change_sum</th>\n",
       "      <th>acres_x_sum</th>\n",
       "      <th>max_nr_dpa_sum</th>\n",
       "      <th>expansion_sum</th>\n",
       "    </tr>\n",
       "  </thead>\n",
       "  <tbody>\n",
       "    <tr>\n",
       "      <th>0</th>\n",
       "      <td>A</td>\n",
       "      <td>100</td>\n",
       "      <td>Y</td>\n",
       "      <td>-335</td>\n",
       "      <td>949877</td>\n",
       "      <td>355571</td>\n",
       "      <td>679221187</td>\n",
       "    </tr>\n",
       "    <tr>\n",
       "      <th>1</th>\n",
       "      <td>A</td>\n",
       "      <td>200</td>\n",
       "      <td>Y</td>\n",
       "      <td>-394</td>\n",
       "      <td>931084</td>\n",
       "      <td>65515</td>\n",
       "      <td>102884577</td>\n",
       "    </tr>\n",
       "    <tr>\n",
       "      <th>2</th>\n",
       "      <td>B</td>\n",
       "      <td>101</td>\n",
       "      <td>Y</td>\n",
       "      <td>-138</td>\n",
       "      <td>574785</td>\n",
       "      <td>179762</td>\n",
       "      <td>347822851</td>\n",
       "    </tr>\n",
       "    <tr>\n",
       "      <th>3</th>\n",
       "      <td>B</td>\n",
       "      <td>201</td>\n",
       "      <td>Y</td>\n",
       "      <td>-188</td>\n",
       "      <td>685758</td>\n",
       "      <td>159728</td>\n",
       "      <td>272496703</td>\n",
       "    </tr>\n",
       "    <tr>\n",
       "      <th>4</th>\n",
       "      <td>C</td>\n",
       "      <td>102</td>\n",
       "      <td>Y</td>\n",
       "      <td>-253</td>\n",
       "      <td>810523</td>\n",
       "      <td>296307</td>\n",
       "      <td>577139667</td>\n",
       "    </tr>\n",
       "  </tbody>\n",
       "</table>\n",
       "</div>"
      ],
      "text/plain": [
       "  twin   rx variable1_effective_yn  variable1_change_sum  acres_x_sum  \\\n",
       "0    A  100                      Y                  -335       949877   \n",
       "1    A  200                      Y                  -394       931084   \n",
       "2    B  101                      Y                  -138       574785   \n",
       "3    B  201                      Y                  -188       685758   \n",
       "4    C  102                      Y                  -253       810523   \n",
       "\n",
       "   max_nr_dpa_sum  expansion_sum  \n",
       "0          355571      679221187  \n",
       "1           65515      102884577  \n",
       "2          179762      347822851  \n",
       "3          159728      272496703  \n",
       "4          296307      577139667  "
      ]
     },
     "execution_count": 101,
     "metadata": {},
     "output_type": "execute_result"
    }
   ],
   "source": [
    "#calculate the sum of acre for minDBH groups, rxpackages and provide count of stands.\n",
    "enterAcres = groupby_e.agg('sum')\\\n",
    "                .rename(columns = lambda x: x + '_sum')\\\n",
    "                .reset_index()\n",
    "enterAcres.head(n=5)"
   ]
  },
  {
   "cell_type": "code",
   "execution_count": 102,
   "metadata": {
    "collapsed": false
   },
   "outputs": [
    {
     "data": {
      "text/html": [
       "<div>\n",
       "<table border=\"1\" class=\"dataframe\">\n",
       "  <thead>\n",
       "    <tr style=\"text-align: right;\">\n",
       "      <th></th>\n",
       "      <th>twin</th>\n",
       "      <th>rx</th>\n",
       "      <th>variable1_effective_yn</th>\n",
       "      <th>variable1_change_sum</th>\n",
       "      <th>acres_x_sum</th>\n",
       "      <th>max_nr_dpa_sum</th>\n",
       "      <th>expansion_sum</th>\n",
       "      <th>avgMaxNR</th>\n",
       "    </tr>\n",
       "  </thead>\n",
       "  <tbody>\n",
       "    <tr>\n",
       "      <th>0</th>\n",
       "      <td>A</td>\n",
       "      <td>100</td>\n",
       "      <td>Y</td>\n",
       "      <td>-335</td>\n",
       "      <td>949877</td>\n",
       "      <td>355571</td>\n",
       "      <td>679221187</td>\n",
       "      <td>715</td>\n",
       "    </tr>\n",
       "    <tr>\n",
       "      <th>1</th>\n",
       "      <td>A</td>\n",
       "      <td>200</td>\n",
       "      <td>Y</td>\n",
       "      <td>-394</td>\n",
       "      <td>931084</td>\n",
       "      <td>65515</td>\n",
       "      <td>102884577</td>\n",
       "      <td>110</td>\n",
       "    </tr>\n",
       "    <tr>\n",
       "      <th>2</th>\n",
       "      <td>B</td>\n",
       "      <td>101</td>\n",
       "      <td>Y</td>\n",
       "      <td>-138</td>\n",
       "      <td>574785</td>\n",
       "      <td>179762</td>\n",
       "      <td>347822851</td>\n",
       "      <td>605</td>\n",
       "    </tr>\n",
       "    <tr>\n",
       "      <th>3</th>\n",
       "      <td>B</td>\n",
       "      <td>201</td>\n",
       "      <td>Y</td>\n",
       "      <td>-188</td>\n",
       "      <td>685758</td>\n",
       "      <td>159728</td>\n",
       "      <td>272496703</td>\n",
       "      <td>397</td>\n",
       "    </tr>\n",
       "    <tr>\n",
       "      <th>4</th>\n",
       "      <td>C</td>\n",
       "      <td>102</td>\n",
       "      <td>Y</td>\n",
       "      <td>-253</td>\n",
       "      <td>810523</td>\n",
       "      <td>296307</td>\n",
       "      <td>577139667</td>\n",
       "      <td>712</td>\n",
       "    </tr>\n",
       "  </tbody>\n",
       "</table>\n",
       "</div>"
      ],
      "text/plain": [
       "  twin   rx variable1_effective_yn  variable1_change_sum  acres_x_sum  \\\n",
       "0    A  100                      Y                  -335       949877   \n",
       "1    A  200                      Y                  -394       931084   \n",
       "2    B  101                      Y                  -138       574785   \n",
       "3    B  201                      Y                  -188       685758   \n",
       "4    C  102                      Y                  -253       810523   \n",
       "\n",
       "   max_nr_dpa_sum  expansion_sum  avgMaxNR  \n",
       "0          355571      679221187       715  \n",
       "1           65515      102884577       110  \n",
       "2          179762      347822851       605  \n",
       "3          159728      272496703       397  \n",
       "4          296307      577139667       712  "
      ]
     },
     "execution_count": 102,
     "metadata": {},
     "output_type": "execute_result"
    }
   ],
   "source": [
    "#divided net revenue sum by the total acres for that rx\n",
    "enterAcres['avgMaxNR'] = enterAcres['expansion_sum'] / enterAcres['acres_x_sum']  # assigned to a column\n",
    "enterAcres.head(n=5)"
   ]
  },
  {
   "cell_type": "code",
   "execution_count": 103,
   "metadata": {
    "ExecuteTime": {
     "end_time": "2017-06-14T22:55:58.458639Z",
     "start_time": "2017-06-14T22:55:58.422115Z"
    },
    "collapsed": false,
    "scrolled": false
   },
   "outputs": [],
   "source": [
    "#export to csv\n",
    "enterAcres.rx =enterAcres.rx.astype(int)\n",
    "enterTotalAcres.rx =enterTotalAcres.rx.astype(int)\n",
    "enterAcresY = pd.merge(enterAcres, enterTotalAcres, how='inner', on=['twin', 'rx'])\n",
    "enterAcresY.to_csv(\"outputs/enterAcresY.csv\")\n"
   ]
  },
  {
   "cell_type": "code",
   "execution_count": 105,
   "metadata": {
    "ExecuteTime": {
     "end_time": "2017-06-14T22:55:58.497166Z",
     "start_time": "2017-06-14T22:55:58.461642Z"
    },
    "collapsed": false
   },
   "outputs": [
    {
     "data": {
      "text/html": [
       "<div>\n",
       "<table border=\"1\" class=\"dataframe\">\n",
       "  <thead>\n",
       "    <tr style=\"text-align: right;\">\n",
       "      <th></th>\n",
       "      <th>twin</th>\n",
       "      <th>rx</th>\n",
       "      <th>variable1_effective_yn</th>\n",
       "      <th>variable1_change_sum</th>\n",
       "      <th>acres_x_sum</th>\n",
       "      <th>max_nr_dpa_sum</th>\n",
       "      <th>expansion_sum</th>\n",
       "      <th>avgMaxNR</th>\n",
       "      <th>diff</th>\n",
       "      <th>diff_nr</th>\n",
       "    </tr>\n",
       "  </thead>\n",
       "  <tbody>\n",
       "    <tr>\n",
       "      <th>0</th>\n",
       "      <td>A</td>\n",
       "      <td>100</td>\n",
       "      <td>Y</td>\n",
       "      <td>-335</td>\n",
       "      <td>949877</td>\n",
       "      <td>355571</td>\n",
       "      <td>679221187</td>\n",
       "      <td>715</td>\n",
       "      <td>18793</td>\n",
       "      <td>605</td>\n",
       "    </tr>\n",
       "    <tr>\n",
       "      <th>2</th>\n",
       "      <td>B</td>\n",
       "      <td>101</td>\n",
       "      <td>Y</td>\n",
       "      <td>-138</td>\n",
       "      <td>574785</td>\n",
       "      <td>179762</td>\n",
       "      <td>347822851</td>\n",
       "      <td>605</td>\n",
       "      <td>-110973</td>\n",
       "      <td>208</td>\n",
       "    </tr>\n",
       "    <tr>\n",
       "      <th>4</th>\n",
       "      <td>C</td>\n",
       "      <td>102</td>\n",
       "      <td>Y</td>\n",
       "      <td>-253</td>\n",
       "      <td>810523</td>\n",
       "      <td>296307</td>\n",
       "      <td>577139667</td>\n",
       "      <td>712</td>\n",
       "      <td>7972</td>\n",
       "      <td>773</td>\n",
       "    </tr>\n",
       "    <tr>\n",
       "      <th>6</th>\n",
       "      <td>D</td>\n",
       "      <td>103</td>\n",
       "      <td>Y</td>\n",
       "      <td>-89</td>\n",
       "      <td>380505</td>\n",
       "      <td>137243</td>\n",
       "      <td>251311369</td>\n",
       "      <td>660</td>\n",
       "      <td>-116115</td>\n",
       "      <td>383</td>\n",
       "    </tr>\n",
       "    <tr>\n",
       "      <th>8</th>\n",
       "      <td>E</td>\n",
       "      <td>104</td>\n",
       "      <td>Y</td>\n",
       "      <td>-335</td>\n",
       "      <td>1022114</td>\n",
       "      <td>1181747</td>\n",
       "      <td>2334315682</td>\n",
       "      <td>2284</td>\n",
       "      <td>152651</td>\n",
       "      <td>1005</td>\n",
       "    </tr>\n",
       "  </tbody>\n",
       "</table>\n",
       "</div>"
      ],
      "text/plain": [
       "  twin   rx variable1_effective_yn  variable1_change_sum  acres_x_sum  \\\n",
       "0    A  100                      Y                  -335       949877   \n",
       "2    B  101                      Y                  -138       574785   \n",
       "4    C  102                      Y                  -253       810523   \n",
       "6    D  103                      Y                   -89       380505   \n",
       "8    E  104                      Y                  -335      1022114   \n",
       "\n",
       "   max_nr_dpa_sum  expansion_sum  avgMaxNR    diff  diff_nr  \n",
       "0          355571      679221187       715   18793      605  \n",
       "2          179762      347822851       605 -110973      208  \n",
       "4          296307      577139667       712    7972      773  \n",
       "6          137243      251311369       660 -116115      383  \n",
       "8         1181747     2334315682      2284  152651     1005  "
      ]
     },
     "execution_count": 105,
     "metadata": {},
     "output_type": "execute_result"
    }
   ],
   "source": [
    "# find difference in acres between twin thin types\n",
    "\n",
    "enterAcres.rx =enterAcres.rx.astype(int)\n",
    "#sort by twin and rxpackage\n",
    "enterAcres.sort_values(['twin', 'rx'], ascending=True, inplace=True)\n",
    "\n",
    "#subtract min5 from thinbba from thindbh acre sums\n",
    "enterAcres['diff'] = enterAcres['acres_x_sum'] - enterAcres['acres_x_sum'].shift(-1)\n",
    "enterAcres['diff_nr'] = enterAcres['avgMaxNR'] - enterAcres['avgMaxNR'].shift(-1)\n",
    "\n",
    "#remove the thinbba rows from dataframe\n",
    "enterYdiff = enterAcres[enterAcres['rx'] < 200]\n",
    "\n",
    "#print first five rows \n",
    "#contains the difference in acres effectively treated and net revenue.  \n",
    "#diff = ThinDBH acres effectively treated - ThinBBA acres effectively treated\n",
    "#idff_nr = ThinDBH max nr of acres effectively treated - ThinBBA max nr of acres effectively treated\n",
    "enterYdiff.head(n=5)"
   ]
  },
  {
   "cell_type": "code",
   "execution_count": 106,
   "metadata": {
    "ExecuteTime": {
     "end_time": "2017-06-14T22:55:58.608240Z",
     "start_time": "2017-06-14T22:55:58.551202Z"
    },
    "collapsed": false,
    "scrolled": true
   },
   "outputs": [
    {
     "data": {
      "text/plain": [
       "count      8\n",
       "mean     897\n",
       "std      529\n",
       "min      208\n",
       "25%      549\n",
       "50%      889\n",
       "75%     1107\n",
       "max     1854\n",
       "Name: diff_nr, dtype: float64"
      ]
     },
     "execution_count": 106,
     "metadata": {},
     "output_type": "execute_result"
    }
   ],
   "source": [
    "enterYdiff['diff_nr'].describe()"
   ]
  },
  {
   "cell_type": "code",
   "execution_count": 107,
   "metadata": {
    "collapsed": false
   },
   "outputs": [
    {
     "data": {
      "text/plain": [
       "count         8\n",
       "mean     -34581\n",
       "std      100718\n",
       "min     -144138\n",
       "25%     -112258\n",
       "50%      -46129\n",
       "75%       16242\n",
       "max      152651\n",
       "Name: diff, dtype: float64"
      ]
     },
     "execution_count": 107,
     "metadata": {},
     "output_type": "execute_result"
    }
   ],
   "source": [
    "enterYdiff['diff'].describe()"
   ]
  },
  {
   "cell_type": "code",
   "execution_count": 108,
   "metadata": {
    "collapsed": false
   },
   "outputs": [
    {
     "data": {
      "text/html": [
       "<img src=\"graphs/DBH_treat.png\" width=\"700\" height=\"400\"/>"
      ],
      "text/plain": [
       "<IPython.core.display.Image object>"
      ]
     },
     "execution_count": 108,
     "metadata": {},
     "output_type": "execute_result"
    }
   ],
   "source": [
    "Image(url= \"graphs/DBH_treat.png\", width=700, height=400)"
   ]
  },
  {
   "cell_type": "code",
   "execution_count": 109,
   "metadata": {
    "collapsed": false
   },
   "outputs": [
    {
     "data": {
      "text/html": [
       "<img src=\"graphs/DBH_dpa.png\" width=\"700\" height=\"400\"/>"
      ],
      "text/plain": [
       "<IPython.core.display.Image object>"
      ]
     },
     "execution_count": 109,
     "metadata": {},
     "output_type": "execute_result"
    }
   ],
   "source": [
    "Image(url= \"graphs/DBH_dpa.png\", width=700, height=400)"
   ]
  },
  {
   "cell_type": "code",
   "execution_count": 110,
   "metadata": {
    "collapsed": false
   },
   "outputs": [
    {
     "data": {
      "text/html": [
       "<img src=\"graphs/DHB_NR.png\" width=\"500\" height=\"250\"/>"
      ],
      "text/plain": [
       "<IPython.core.display.Image object>"
      ]
     },
     "execution_count": 110,
     "metadata": {},
     "output_type": "execute_result"
    }
   ],
   "source": [
    "Image(url= \"graphs/DHB_NR.png\", width=500, height=250)"
   ]
  },
  {
   "cell_type": "markdown",
   "metadata": {},
   "source": [
    "On acres where both treatments are effective, what is the distribution of hazard score change? "
   ]
  },
  {
   "cell_type": "code",
   "execution_count": 111,
   "metadata": {
    "collapsed": false
   },
   "outputs": [
    {
     "data": {
      "text/html": [
       "<img src=\"graphs/DBH_hDiff.png\" width=\"500\" height=\"250\"/>"
      ],
      "text/plain": [
       "<IPython.core.display.Image object>"
      ]
     },
     "execution_count": 111,
     "metadata": {},
     "output_type": "execute_result"
    }
   ],
   "source": [
    "Image(url= \"graphs/DBH_hDiff.png\", width=500, height=250)"
   ]
  },
  {
   "cell_type": "markdown",
   "metadata": {
    "collapsed": true
   },
   "source": [
    "# Does targeting grand fir make any difference to effectiveness, on average? Need to limit to only those stands where there were enough grand fir present for the grand fir cut rate to be different under the cut grand fir first policy. (9-10 v 13-14, 23-24 v 27v28)"
   ]
  },
  {
   "cell_type": "markdown",
   "metadata": {},
   "source": [
    "Select the stand ID's for which the Grand Fir BA is greater than the target grand fir BA (and therefore firs would be cut first).  This query was used in the PREPOST_COMPUTE database to create that list of stands. "
   ]
  },
  {
   "cell_type": "markdown",
   "metadata": {
    "collapsed": true
   },
   "source": [
    "```mysql\n",
    "SELECT PRE_FVS_COMPUTE.biosum_cond_id\n",
    "FROM PRE_FVS_COMPUTE\n",
    "WHERE (((PRE_FVS_COMPUTE.rxpackage)=\"001\") AND ((PRE_FVS_COMPUTE.rxcycle)=\"1\") AND ((PRE_FVS_COMPUTE.GFBA)>[PRE_FVS_COMPUTE].[TBA]));\n",
    "```"
   ]
  },
  {
   "cell_type": "code",
   "execution_count": 112,
   "metadata": {
    "ExecuteTime": {
     "end_time": "2017-06-08T22:18:40.341311Z",
     "start_time": "2017-06-08T22:18:40.303786Z"
    },
    "collapsed": false
   },
   "outputs": [
    {
     "data": {
      "text/html": [
       "<div>\n",
       "<table border=\"1\" class=\"dataframe\">\n",
       "  <thead>\n",
       "    <tr style=\"text-align: right;\">\n",
       "      <th></th>\n",
       "      <th>biosum_cond_id</th>\n",
       "    </tr>\n",
       "  </thead>\n",
       "  <tbody>\n",
       "    <tr>\n",
       "      <th>0</th>\n",
       "      <td>1200741010700100571330001</td>\n",
       "    </tr>\n",
       "    <tr>\n",
       "      <th>1</th>\n",
       "      <td>1200741010700100600620001</td>\n",
       "    </tr>\n",
       "    <tr>\n",
       "      <th>2</th>\n",
       "      <td>1200741010700100745730001</td>\n",
       "    </tr>\n",
       "    <tr>\n",
       "      <th>3</th>\n",
       "      <td>1200741010700100814910001</td>\n",
       "    </tr>\n",
       "    <tr>\n",
       "      <th>4</th>\n",
       "      <td>1200741010700100935520001</td>\n",
       "    </tr>\n",
       "  </tbody>\n",
       "</table>\n",
       "</div>"
      ],
      "text/plain": [
       "              biosum_cond_id\n",
       "0  1200741010700100571330001\n",
       "1  1200741010700100600620001\n",
       "2  1200741010700100745730001\n",
       "3  1200741010700100814910001\n",
       "4  1200741010700100935520001"
      ]
     },
     "execution_count": 112,
     "metadata": {},
     "output_type": "execute_result"
    }
   ],
   "source": [
    "#read in the GF table created by the above query\n",
    "GF = pd.read_excel(open('data/GF.xlsx', 'rb'), sheetname='GF', lowmemory=False)\n",
    "#change ID column to string\n",
    "GF.biosum_cond_id = GF.biosum_cond_id.astype(str)\n",
    "#print first five records of new table\n",
    "GF.head(n=5)"
   ]
  },
  {
   "cell_type": "code",
   "execution_count": 113,
   "metadata": {
    "ExecuteTime": {
     "end_time": "2017-06-08T22:18:43.804283Z",
     "start_time": "2017-06-08T22:18:40.344314Z"
    },
    "collapsed": false
   },
   "outputs": [],
   "source": [
    "#read in the enter table enter_noNR table.\n",
    "#table contains all entered stands, effective treatment or not\n",
    "gfEnter = pd.read_excel(open('data/enter_noNR.xlsx', 'rb'), sheetname='question8', lowmemory=False)\n",
    "#change a couple columns to string\n",
    "gfEnter.biosum_cond_id = gfEnter.biosum_cond_id.astype(str)\n",
    "gfEnter.rx = gfEnter.rx.astype(str)\n",
    "gfEnter.rxpackage = gfEnter.rxpackage.astype(str)\n"
   ]
  },
  {
   "cell_type": "code",
   "execution_count": 114,
   "metadata": {
    "ExecuteTime": {
     "end_time": "2017-06-08T22:18:43.870830Z",
     "start_time": "2017-06-08T22:18:43.806784Z"
    },
    "collapsed": false
   },
   "outputs": [],
   "source": [
    "#create a column 'duo'\n",
    "#assign a 'dup' value to each pair of treatments that are identical except for target/not target GF\n",
    "gfEnter.duo = gfEnter.ix[gfEnter.rxpackage.isin(['9', '13']), 'duo'] = 'A'\n",
    "gfEnter.duo = gfEnter.ix[gfEnter.rxpackage.isin(['10', '14']), 'duo'] = 'B'\n",
    "gfEnter.duo = gfEnter.ix[gfEnter.rxpackage.isin(['23', '27']), 'duo'] = 'C'\n",
    "gfEnter.duo = gfEnter.ix[gfEnter.rxpackage.isin(['24', '28']), 'duo'] = 'D'\n",
    "\n",
    "#drop rows without a duo value, we don't care about them right now. \n",
    "gfEnter = gfEnter[pd.notnull(gfEnter['duo'])]\n",
    "\n",
    "gfEnter.to_csv('outputs/gfEnter.csv')\n"
   ]
  },
  {
   "cell_type": "code",
   "execution_count": 115,
   "metadata": {
    "ExecuteTime": {
     "end_time": "2017-06-08T22:18:43.910858Z",
     "start_time": "2017-06-08T22:18:43.873832Z"
    },
    "collapsed": false,
    "scrolled": true
   },
   "outputs": [
    {
     "data": {
      "text/html": [
       "<div>\n",
       "<table border=\"1\" class=\"dataframe\">\n",
       "  <thead>\n",
       "    <tr style=\"text-align: right;\">\n",
       "      <th></th>\n",
       "      <th>biosum_cond_id</th>\n",
       "      <th>rxpackage</th>\n",
       "      <th>rx</th>\n",
       "      <th>rxcycle</th>\n",
       "      <th>pre_variable1_name</th>\n",
       "      <th>post_variable1_name</th>\n",
       "      <th>variable1_change</th>\n",
       "      <th>variable1_effective_yn</th>\n",
       "      <th>acres</th>\n",
       "      <th>max_nr_dpa</th>\n",
       "      <th>duo</th>\n",
       "    </tr>\n",
       "  </thead>\n",
       "  <tbody>\n",
       "    <tr>\n",
       "      <th>0</th>\n",
       "      <td>1200741010700100571330001</td>\n",
       "      <td>9</td>\n",
       "      <td>104</td>\n",
       "      <td>1</td>\n",
       "      <td>PRE_FVS_POTFIRE.wHazard</td>\n",
       "      <td>POST_FVS_POTFIRE.wHazard</td>\n",
       "      <td>-0</td>\n",
       "      <td>Y</td>\n",
       "      <td>1998</td>\n",
       "      <td>2252</td>\n",
       "      <td>A</td>\n",
       "    </tr>\n",
       "    <tr>\n",
       "      <th>1</th>\n",
       "      <td>1200741010700100571330001</td>\n",
       "      <td>10</td>\n",
       "      <td>105</td>\n",
       "      <td>1</td>\n",
       "      <td>PRE_FVS_POTFIRE.wHazard</td>\n",
       "      <td>POST_FVS_POTFIRE.wHazard</td>\n",
       "      <td>-0</td>\n",
       "      <td>Y</td>\n",
       "      <td>1998</td>\n",
       "      <td>2352</td>\n",
       "      <td>B</td>\n",
       "    </tr>\n",
       "    <tr>\n",
       "      <th>2</th>\n",
       "      <td>1200741010700100571330001</td>\n",
       "      <td>13</td>\n",
       "      <td>108</td>\n",
       "      <td>1</td>\n",
       "      <td>PRE_FVS_POTFIRE.wHazard</td>\n",
       "      <td>POST_FVS_POTFIRE.wHazard</td>\n",
       "      <td>-0</td>\n",
       "      <td>Y</td>\n",
       "      <td>1998</td>\n",
       "      <td>2070</td>\n",
       "      <td>A</td>\n",
       "    </tr>\n",
       "    <tr>\n",
       "      <th>3</th>\n",
       "      <td>1200741010700100571330001</td>\n",
       "      <td>14</td>\n",
       "      <td>109</td>\n",
       "      <td>1</td>\n",
       "      <td>PRE_FVS_POTFIRE.wHazard</td>\n",
       "      <td>POST_FVS_POTFIRE.wHazard</td>\n",
       "      <td>-0</td>\n",
       "      <td>Y</td>\n",
       "      <td>1998</td>\n",
       "      <td>2342</td>\n",
       "      <td>B</td>\n",
       "    </tr>\n",
       "    <tr>\n",
       "      <th>4</th>\n",
       "      <td>1200741010700100571330001</td>\n",
       "      <td>23</td>\n",
       "      <td>204</td>\n",
       "      <td>1</td>\n",
       "      <td>PRE_FVS_POTFIRE.wHazard</td>\n",
       "      <td>POST_FVS_POTFIRE.wHazard</td>\n",
       "      <td>-0</td>\n",
       "      <td>Y</td>\n",
       "      <td>1998</td>\n",
       "      <td>1450</td>\n",
       "      <td>C</td>\n",
       "    </tr>\n",
       "  </tbody>\n",
       "</table>\n",
       "</div>"
      ],
      "text/plain": [
       "              biosum_cond_id rxpackage   rx  rxcycle       pre_variable1_name  \\\n",
       "0  1200741010700100571330001         9  104        1  PRE_FVS_POTFIRE.wHazard   \n",
       "1  1200741010700100571330001        10  105        1  PRE_FVS_POTFIRE.wHazard   \n",
       "2  1200741010700100571330001        13  108        1  PRE_FVS_POTFIRE.wHazard   \n",
       "3  1200741010700100571330001        14  109        1  PRE_FVS_POTFIRE.wHazard   \n",
       "4  1200741010700100571330001        23  204        1  PRE_FVS_POTFIRE.wHazard   \n",
       "\n",
       "        post_variable1_name  variable1_change variable1_effective_yn  acres  \\\n",
       "0  POST_FVS_POTFIRE.wHazard                -0                      Y   1998   \n",
       "1  POST_FVS_POTFIRE.wHazard                -0                      Y   1998   \n",
       "2  POST_FVS_POTFIRE.wHazard                -0                      Y   1998   \n",
       "3  POST_FVS_POTFIRE.wHazard                -0                      Y   1998   \n",
       "4  POST_FVS_POTFIRE.wHazard                -0                      Y   1998   \n",
       "\n",
       "   max_nr_dpa duo  \n",
       "0        2252   A  \n",
       "1        2352   B  \n",
       "2        2070   A  \n",
       "3        2342   B  \n",
       "4        1450   C  "
      ]
     },
     "execution_count": 115,
     "metadata": {},
     "output_type": "execute_result"
    }
   ],
   "source": [
    "#create a new table that only contains the records for stands with GF that would have been targeted for first cut\n",
    "#merge with original table to get the variable values and max_nr values. \n",
    "gf_p = pd.merge(gfEnter, GF, how='inner', on=['biosum_cond_id'])\n",
    "gf_p.head(n=5)"
   ]
  },
  {
   "cell_type": "code",
   "execution_count": 116,
   "metadata": {
    "collapsed": false,
    "scrolled": false
   },
   "outputs": [
    {
     "data": {
      "text/html": [
       "<div>\n",
       "<table border=\"1\" class=\"dataframe\">\n",
       "  <thead>\n",
       "    <tr style=\"text-align: right;\">\n",
       "      <th></th>\n",
       "      <th>biosum_cond_id</th>\n",
       "      <th>rxpackage</th>\n",
       "      <th>rx</th>\n",
       "      <th>rxcycle</th>\n",
       "      <th>pre_variable1_name</th>\n",
       "      <th>post_variable1_name</th>\n",
       "      <th>variable1_change</th>\n",
       "      <th>variable1_effective_yn</th>\n",
       "      <th>acres</th>\n",
       "      <th>max_nr_dpa</th>\n",
       "      <th>duo</th>\n",
       "      <th>expansion</th>\n",
       "    </tr>\n",
       "  </thead>\n",
       "  <tbody>\n",
       "    <tr>\n",
       "      <th>0</th>\n",
       "      <td>1200741010700100571330001</td>\n",
       "      <td>9</td>\n",
       "      <td>104</td>\n",
       "      <td>1</td>\n",
       "      <td>PRE_FVS_POTFIRE.wHazard</td>\n",
       "      <td>POST_FVS_POTFIRE.wHazard</td>\n",
       "      <td>-0</td>\n",
       "      <td>Y</td>\n",
       "      <td>1998</td>\n",
       "      <td>2252</td>\n",
       "      <td>A</td>\n",
       "      <td>4500170</td>\n",
       "    </tr>\n",
       "    <tr>\n",
       "      <th>1</th>\n",
       "      <td>1200741010700100571330001</td>\n",
       "      <td>10</td>\n",
       "      <td>105</td>\n",
       "      <td>1</td>\n",
       "      <td>PRE_FVS_POTFIRE.wHazard</td>\n",
       "      <td>POST_FVS_POTFIRE.wHazard</td>\n",
       "      <td>-0</td>\n",
       "      <td>Y</td>\n",
       "      <td>1998</td>\n",
       "      <td>2352</td>\n",
       "      <td>B</td>\n",
       "      <td>4699979</td>\n",
       "    </tr>\n",
       "    <tr>\n",
       "      <th>2</th>\n",
       "      <td>1200741010700100571330001</td>\n",
       "      <td>13</td>\n",
       "      <td>108</td>\n",
       "      <td>1</td>\n",
       "      <td>PRE_FVS_POTFIRE.wHazard</td>\n",
       "      <td>POST_FVS_POTFIRE.wHazard</td>\n",
       "      <td>-0</td>\n",
       "      <td>Y</td>\n",
       "      <td>1998</td>\n",
       "      <td>2070</td>\n",
       "      <td>A</td>\n",
       "      <td>4135588</td>\n",
       "    </tr>\n",
       "    <tr>\n",
       "      <th>3</th>\n",
       "      <td>1200741010700100571330001</td>\n",
       "      <td>14</td>\n",
       "      <td>109</td>\n",
       "      <td>1</td>\n",
       "      <td>PRE_FVS_POTFIRE.wHazard</td>\n",
       "      <td>POST_FVS_POTFIRE.wHazard</td>\n",
       "      <td>-0</td>\n",
       "      <td>Y</td>\n",
       "      <td>1998</td>\n",
       "      <td>2342</td>\n",
       "      <td>B</td>\n",
       "      <td>4679724</td>\n",
       "    </tr>\n",
       "    <tr>\n",
       "      <th>4</th>\n",
       "      <td>1200741010700100571330001</td>\n",
       "      <td>23</td>\n",
       "      <td>204</td>\n",
       "      <td>1</td>\n",
       "      <td>PRE_FVS_POTFIRE.wHazard</td>\n",
       "      <td>POST_FVS_POTFIRE.wHazard</td>\n",
       "      <td>-0</td>\n",
       "      <td>Y</td>\n",
       "      <td>1998</td>\n",
       "      <td>1450</td>\n",
       "      <td>C</td>\n",
       "      <td>2897898</td>\n",
       "    </tr>\n",
       "  </tbody>\n",
       "</table>\n",
       "</div>"
      ],
      "text/plain": [
       "              biosum_cond_id rxpackage   rx  rxcycle       pre_variable1_name  \\\n",
       "0  1200741010700100571330001         9  104        1  PRE_FVS_POTFIRE.wHazard   \n",
       "1  1200741010700100571330001        10  105        1  PRE_FVS_POTFIRE.wHazard   \n",
       "2  1200741010700100571330001        13  108        1  PRE_FVS_POTFIRE.wHazard   \n",
       "3  1200741010700100571330001        14  109        1  PRE_FVS_POTFIRE.wHazard   \n",
       "4  1200741010700100571330001        23  204        1  PRE_FVS_POTFIRE.wHazard   \n",
       "\n",
       "        post_variable1_name  variable1_change variable1_effective_yn  acres  \\\n",
       "0  POST_FVS_POTFIRE.wHazard                -0                      Y   1998   \n",
       "1  POST_FVS_POTFIRE.wHazard                -0                      Y   1998   \n",
       "2  POST_FVS_POTFIRE.wHazard                -0                      Y   1998   \n",
       "3  POST_FVS_POTFIRE.wHazard                -0                      Y   1998   \n",
       "4  POST_FVS_POTFIRE.wHazard                -0                      Y   1998   \n",
       "\n",
       "   max_nr_dpa duo  expansion  \n",
       "0        2252   A    4500170  \n",
       "1        2352   B    4699979  \n",
       "2        2070   A    4135588  \n",
       "3        2342   B    4679724  \n",
       "4        1450   C    2897898  "
      ]
     },
     "execution_count": 116,
     "metadata": {},
     "output_type": "execute_result"
    }
   ],
   "source": [
    "#expand max_nr_dpa by acres, name expansion\n",
    "gf_p['expansion'] = gf_p['max_nr_dpa'] * gf_p['acres']  # assigned to a column\n",
    "gf_p.head(n=5)"
   ]
  },
  {
   "cell_type": "code",
   "execution_count": 117,
   "metadata": {
    "collapsed": false,
    "scrolled": true
   },
   "outputs": [],
   "source": [
    "#table that calculates the total entered acres for each pair of treatments \n",
    "#acres that could be entered by both packages. \n",
    "enterTotalAcresGF=gf_p.groupby(['duo','rx']).agg('sum').rename(columns = lambda x: x + '_sum').reset_index()"
   ]
  },
  {
   "cell_type": "code",
   "execution_count": 118,
   "metadata": {
    "collapsed": true
   },
   "outputs": [],
   "source": [
    "#create a table that contains only effective = Y sums for each twin/rxpackage\n",
    "\n",
    "#filter by effective = Y\n",
    "gf_y=pd.DataFrame(gf_p.loc[gf_p['variable1_effective_yn'] == 'Y'])  \n",
    "\n",
    "gf_y.rx =gf_y.rx.astype(int)\n",
    "#sort by twin and rxpackage\n",
    "gf_y.sort_values(['duo', 'rx'], ascending=True, inplace=True)\n",
    "\n",
    "#enterY.to_csv(\"outputs/enterY.csv\")\n"
   ]
  },
  {
   "cell_type": "code",
   "execution_count": 119,
   "metadata": {
    "ExecuteTime": {
     "end_time": "2017-06-14T22:55:58.369081Z",
     "start_time": "2017-06-14T22:55:58.360575Z"
    },
    "collapsed": false
   },
   "outputs": [],
   "source": [
    "#group by twin and variable effective yn , display acres\n",
    "groupby_gf = gf_y[['duo', 'rx', 'variable1_effective_yn','variable1_change', 'acres', 'max_nr_dpa', 'expansion']].groupby(['duo', 'rx','variable1_effective_yn'])\n"
   ]
  },
  {
   "cell_type": "code",
   "execution_count": 120,
   "metadata": {
    "ExecuteTime": {
     "end_time": "2017-06-14T22:55:58.418614Z",
     "start_time": "2017-06-14T22:55:58.373083Z"
    },
    "collapsed": false,
    "scrolled": false
   },
   "outputs": [
    {
     "data": {
      "text/html": [
       "<div>\n",
       "<table border=\"1\" class=\"dataframe\">\n",
       "  <thead>\n",
       "    <tr style=\"text-align: right;\">\n",
       "      <th></th>\n",
       "      <th>duo</th>\n",
       "      <th>rx</th>\n",
       "      <th>variable1_effective_yn</th>\n",
       "      <th>variable1_change_sum</th>\n",
       "      <th>acres_sum</th>\n",
       "      <th>max_nr_dpa_sum</th>\n",
       "      <th>expansion_sum</th>\n",
       "    </tr>\n",
       "  </thead>\n",
       "  <tbody>\n",
       "    <tr>\n",
       "      <th>0</th>\n",
       "      <td>A</td>\n",
       "      <td>104</td>\n",
       "      <td>Y</td>\n",
       "      <td>-232</td>\n",
       "      <td>658951</td>\n",
       "      <td>922224</td>\n",
       "      <td>1789980210</td>\n",
       "    </tr>\n",
       "    <tr>\n",
       "      <th>1</th>\n",
       "      <td>A</td>\n",
       "      <td>108</td>\n",
       "      <td>Y</td>\n",
       "      <td>-231</td>\n",
       "      <td>576631</td>\n",
       "      <td>569753</td>\n",
       "      <td>1106858141</td>\n",
       "    </tr>\n",
       "    <tr>\n",
       "      <th>2</th>\n",
       "      <td>B</td>\n",
       "      <td>105</td>\n",
       "      <td>Y</td>\n",
       "      <td>-80</td>\n",
       "      <td>363580</td>\n",
       "      <td>506924</td>\n",
       "      <td>993295352</td>\n",
       "    </tr>\n",
       "    <tr>\n",
       "      <th>3</th>\n",
       "      <td>B</td>\n",
       "      <td>109</td>\n",
       "      <td>Y</td>\n",
       "      <td>-79</td>\n",
       "      <td>377512</td>\n",
       "      <td>532904</td>\n",
       "      <td>989480662</td>\n",
       "    </tr>\n",
       "    <tr>\n",
       "      <th>4</th>\n",
       "      <td>C</td>\n",
       "      <td>204</td>\n",
       "      <td>Y</td>\n",
       "      <td>-248</td>\n",
       "      <td>572461</td>\n",
       "      <td>501671</td>\n",
       "      <td>907936167</td>\n",
       "    </tr>\n",
       "  </tbody>\n",
       "</table>\n",
       "</div>"
      ],
      "text/plain": [
       "  duo   rx variable1_effective_yn  variable1_change_sum  acres_sum  \\\n",
       "0   A  104                      Y                  -232     658951   \n",
       "1   A  108                      Y                  -231     576631   \n",
       "2   B  105                      Y                   -80     363580   \n",
       "3   B  109                      Y                   -79     377512   \n",
       "4   C  204                      Y                  -248     572461   \n",
       "\n",
       "   max_nr_dpa_sum  expansion_sum  \n",
       "0          922224     1789980210  \n",
       "1          569753     1106858141  \n",
       "2          506924      993295352  \n",
       "3          532904      989480662  \n",
       "4          501671      907936167  "
      ]
     },
     "execution_count": 120,
     "metadata": {},
     "output_type": "execute_result"
    }
   ],
   "source": [
    "#calculate the sum of acre for minDBH groups, rxpackages and provide count of stands.\n",
    "enterGF = groupby_gf.agg('sum')\\\n",
    "                .rename(columns = lambda x: x + '_sum')\\\n",
    "                .reset_index()\n",
    "enterGF.head(n=5)"
   ]
  },
  {
   "cell_type": "code",
   "execution_count": 122,
   "metadata": {
    "collapsed": false
   },
   "outputs": [
    {
     "data": {
      "text/html": [
       "<div>\n",
       "<table border=\"1\" class=\"dataframe\">\n",
       "  <thead>\n",
       "    <tr style=\"text-align: right;\">\n",
       "      <th></th>\n",
       "      <th>duo</th>\n",
       "      <th>rx</th>\n",
       "      <th>variable1_effective_yn</th>\n",
       "      <th>variable1_change_sum</th>\n",
       "      <th>acres_sum</th>\n",
       "      <th>max_nr_dpa_sum</th>\n",
       "      <th>expansion_sum</th>\n",
       "      <th>avgMaxNR</th>\n",
       "    </tr>\n",
       "  </thead>\n",
       "  <tbody>\n",
       "    <tr>\n",
       "      <th>0</th>\n",
       "      <td>A</td>\n",
       "      <td>104</td>\n",
       "      <td>Y</td>\n",
       "      <td>-232</td>\n",
       "      <td>658951</td>\n",
       "      <td>922224</td>\n",
       "      <td>1789980210</td>\n",
       "      <td>2716</td>\n",
       "    </tr>\n",
       "    <tr>\n",
       "      <th>1</th>\n",
       "      <td>A</td>\n",
       "      <td>108</td>\n",
       "      <td>Y</td>\n",
       "      <td>-231</td>\n",
       "      <td>576631</td>\n",
       "      <td>569753</td>\n",
       "      <td>1106858141</td>\n",
       "      <td>1920</td>\n",
       "    </tr>\n",
       "    <tr>\n",
       "      <th>2</th>\n",
       "      <td>B</td>\n",
       "      <td>105</td>\n",
       "      <td>Y</td>\n",
       "      <td>-80</td>\n",
       "      <td>363580</td>\n",
       "      <td>506924</td>\n",
       "      <td>993295352</td>\n",
       "      <td>2732</td>\n",
       "    </tr>\n",
       "  </tbody>\n",
       "</table>\n",
       "</div>"
      ],
      "text/plain": [
       "  duo   rx variable1_effective_yn  variable1_change_sum  acres_sum  \\\n",
       "0   A  104                      Y                  -232     658951   \n",
       "1   A  108                      Y                  -231     576631   \n",
       "2   B  105                      Y                   -80     363580   \n",
       "\n",
       "   max_nr_dpa_sum  expansion_sum  avgMaxNR  \n",
       "0          922224     1789980210      2716  \n",
       "1          569753     1106858141      1920  \n",
       "2          506924      993295352      2732  "
      ]
     },
     "execution_count": 122,
     "metadata": {},
     "output_type": "execute_result"
    }
   ],
   "source": [
    "#divided net revenue sum by the total acres for that rx\n",
    "enterGF['avgMaxNR'] = enterGF['expansion_sum'] / enterGF['acres_sum']  # assigned to a column\n",
    "enterGF.head(n=3)"
   ]
  },
  {
   "cell_type": "code",
   "execution_count": 124,
   "metadata": {
    "ExecuteTime": {
     "end_time": "2017-06-14T22:55:58.458639Z",
     "start_time": "2017-06-14T22:55:58.422115Z"
    },
    "collapsed": false,
    "scrolled": false
   },
   "outputs": [
    {
     "data": {
      "text/html": [
       "<div>\n",
       "<table border=\"1\" class=\"dataframe\">\n",
       "  <thead>\n",
       "    <tr style=\"text-align: right;\">\n",
       "      <th></th>\n",
       "      <th>duo</th>\n",
       "      <th>rx</th>\n",
       "      <th>variable1_effective_yn</th>\n",
       "      <th>variable1_change_sum_x</th>\n",
       "      <th>acres_sum_x</th>\n",
       "      <th>max_nr_dpa_sum_x</th>\n",
       "      <th>expansion_sum_x</th>\n",
       "      <th>avgMaxNR</th>\n",
       "      <th>rxcycle_sum</th>\n",
       "      <th>variable1_change_sum_y</th>\n",
       "      <th>acres_sum_y</th>\n",
       "      <th>max_nr_dpa_sum_y</th>\n",
       "      <th>expansion_sum_y</th>\n",
       "    </tr>\n",
       "  </thead>\n",
       "  <tbody>\n",
       "    <tr>\n",
       "      <th>0</th>\n",
       "      <td>A</td>\n",
       "      <td>104</td>\n",
       "      <td>Y</td>\n",
       "      <td>-232</td>\n",
       "      <td>658951</td>\n",
       "      <td>922224</td>\n",
       "      <td>1789980210</td>\n",
       "      <td>2716</td>\n",
       "      <td>529</td>\n",
       "      <td>-121</td>\n",
       "      <td>1101149</td>\n",
       "      <td>1344125</td>\n",
       "      <td>2652177323</td>\n",
       "    </tr>\n",
       "  </tbody>\n",
       "</table>\n",
       "</div>"
      ],
      "text/plain": [
       "  duo   rx variable1_effective_yn  variable1_change_sum_x  acres_sum_x  \\\n",
       "0   A  104                      Y                    -232       658951   \n",
       "\n",
       "   max_nr_dpa_sum_x  expansion_sum_x  avgMaxNR  rxcycle_sum  \\\n",
       "0            922224       1789980210      2716          529   \n",
       "\n",
       "   variable1_change_sum_y  acres_sum_y  max_nr_dpa_sum_y  expansion_sum_y  \n",
       "0                    -121      1101149           1344125       2652177323  "
      ]
     },
     "execution_count": 124,
     "metadata": {},
     "output_type": "execute_result"
    }
   ],
   "source": [
    "#export to csv for graphing in R\n",
    "enterGF.rx =enterGF.rx.astype(int)\n",
    "enterTotalAcresGF.rx =enterTotalAcresGF.rx.astype(int)\n",
    "enterAcresGF = pd.merge(enterGF, enterTotalAcresGF, how='inner', on=['duo', 'rx'])\n",
    "enterAcresGF.to_csv(\"outputs/enterAcresGF.csv\")\n",
    "\n",
    "enterAcresGF.head(n=1)"
   ]
  },
  {
   "cell_type": "code",
   "execution_count": 125,
   "metadata": {
    "ExecuteTime": {
     "end_time": "2017-06-14T22:55:58.497166Z",
     "start_time": "2017-06-14T22:55:58.461642Z"
    },
    "collapsed": false
   },
   "outputs": [
    {
     "data": {
      "text/html": [
       "<div>\n",
       "<table border=\"1\" class=\"dataframe\">\n",
       "  <thead>\n",
       "    <tr style=\"text-align: right;\">\n",
       "      <th></th>\n",
       "      <th>duo</th>\n",
       "      <th>rx</th>\n",
       "      <th>variable1_effective_yn</th>\n",
       "      <th>variable1_change_sum_x</th>\n",
       "      <th>acres_sum_x</th>\n",
       "      <th>max_nr_dpa_sum_x</th>\n",
       "      <th>expansion_sum_x</th>\n",
       "      <th>avgMaxNR</th>\n",
       "      <th>rxcycle_sum</th>\n",
       "      <th>variable1_change_sum_y</th>\n",
       "      <th>acres_sum_y</th>\n",
       "      <th>max_nr_dpa_sum_y</th>\n",
       "      <th>expansion_sum_y</th>\n",
       "      <th>diff</th>\n",
       "      <th>diff_nr</th>\n",
       "    </tr>\n",
       "  </thead>\n",
       "  <tbody>\n",
       "    <tr>\n",
       "      <th>0</th>\n",
       "      <td>A</td>\n",
       "      <td>104</td>\n",
       "      <td>Y</td>\n",
       "      <td>-232</td>\n",
       "      <td>658951</td>\n",
       "      <td>922224</td>\n",
       "      <td>1789980210</td>\n",
       "      <td>2716</td>\n",
       "      <td>529</td>\n",
       "      <td>-121</td>\n",
       "      <td>1101149</td>\n",
       "      <td>1344125</td>\n",
       "      <td>2652177323</td>\n",
       "      <td>82320</td>\n",
       "      <td>797</td>\n",
       "    </tr>\n",
       "    <tr>\n",
       "      <th>2</th>\n",
       "      <td>B</td>\n",
       "      <td>105</td>\n",
       "      <td>Y</td>\n",
       "      <td>-80</td>\n",
       "      <td>363580</td>\n",
       "      <td>506924</td>\n",
       "      <td>993295352</td>\n",
       "      <td>2732</td>\n",
       "      <td>529</td>\n",
       "      <td>166</td>\n",
       "      <td>1101149</td>\n",
       "      <td>1181431</td>\n",
       "      <td>2295240069</td>\n",
       "      <td>-13931</td>\n",
       "      <td>111</td>\n",
       "    </tr>\n",
       "    <tr>\n",
       "      <th>4</th>\n",
       "      <td>C</td>\n",
       "      <td>204</td>\n",
       "      <td>Y</td>\n",
       "      <td>-248</td>\n",
       "      <td>572461</td>\n",
       "      <td>501671</td>\n",
       "      <td>907936167</td>\n",
       "      <td>1586</td>\n",
       "      <td>538</td>\n",
       "      <td>-65</td>\n",
       "      <td>1123445</td>\n",
       "      <td>939356</td>\n",
       "      <td>1775234499</td>\n",
       "      <td>-22307</td>\n",
       "      <td>-153</td>\n",
       "    </tr>\n",
       "    <tr>\n",
       "      <th>6</th>\n",
       "      <td>D</td>\n",
       "      <td>205</td>\n",
       "      <td>Y</td>\n",
       "      <td>-101</td>\n",
       "      <td>436334</td>\n",
       "      <td>259422</td>\n",
       "      <td>508923571</td>\n",
       "      <td>1166</td>\n",
       "      <td>520</td>\n",
       "      <td>110</td>\n",
       "      <td>1085849</td>\n",
       "      <td>500582</td>\n",
       "      <td>984177962</td>\n",
       "      <td>43245</td>\n",
       "      <td>-404</td>\n",
       "    </tr>\n",
       "  </tbody>\n",
       "</table>\n",
       "</div>"
      ],
      "text/plain": [
       "  duo   rx variable1_effective_yn  variable1_change_sum_x  acres_sum_x  \\\n",
       "0   A  104                      Y                    -232       658951   \n",
       "2   B  105                      Y                     -80       363580   \n",
       "4   C  204                      Y                    -248       572461   \n",
       "6   D  205                      Y                    -101       436334   \n",
       "\n",
       "   max_nr_dpa_sum_x  expansion_sum_x  avgMaxNR  rxcycle_sum  \\\n",
       "0            922224       1789980210      2716          529   \n",
       "2            506924        993295352      2732          529   \n",
       "4            501671        907936167      1586          538   \n",
       "6            259422        508923571      1166          520   \n",
       "\n",
       "   variable1_change_sum_y  acres_sum_y  max_nr_dpa_sum_y  expansion_sum_y  \\\n",
       "0                    -121      1101149           1344125       2652177323   \n",
       "2                     166      1101149           1181431       2295240069   \n",
       "4                     -65      1123445            939356       1775234499   \n",
       "6                     110      1085849            500582        984177962   \n",
       "\n",
       "    diff  diff_nr  \n",
       "0  82320      797  \n",
       "2 -13931      111  \n",
       "4 -22307     -153  \n",
       "6  43245     -404  "
      ]
     },
     "execution_count": 125,
     "metadata": {},
     "output_type": "execute_result"
    }
   ],
   "source": [
    "# find difference in acres between twin thin types\n",
    "\n",
    "enterAcresGF.rx =enterAcresGF.rx.astype(int)\n",
    "#sort by twin and rxpackage\n",
    "enterAcresGF.sort_values(['duo', 'rx'], ascending=True, inplace=True)\n",
    "\n",
    "#subtract min5 from thinbba from thindbh acre sums\n",
    "enterAcresGF['diff'] = enterAcresGF['acres_sum_x'] - enterAcresGF['acres_sum_x'].shift(-1)\n",
    "enterAcresGF['diff_nr'] = enterAcresGF['avgMaxNR'] - enterAcresGF['avgMaxNR'].shift(-1)\n",
    "\n",
    "#remove \n",
    "gf_Ydiff =  enterAcresGF.query(\"rx == 104 or rx == 105 or rx == 204 or rx == 205\")\n",
    "\n",
    "#print first five rows \n",
    "gf_Ydiff.head(n=20)"
   ]
  },
  {
   "cell_type": "code",
   "execution_count": 126,
   "metadata": {
    "ExecuteTime": {
     "end_time": "2017-06-14T22:55:58.608240Z",
     "start_time": "2017-06-14T22:55:58.551202Z"
    },
    "collapsed": false,
    "scrolled": true
   },
   "outputs": [
    {
     "data": {
      "text/plain": [
       "count      4\n",
       "mean      88\n",
       "std      518\n",
       "min     -404\n",
       "25%     -216\n",
       "50%      -21\n",
       "75%      282\n",
       "max      797\n",
       "Name: diff_nr, dtype: float64"
      ]
     },
     "execution_count": 126,
     "metadata": {},
     "output_type": "execute_result"
    }
   ],
   "source": [
    "gf_Ydiff['diff_nr'].describe()"
   ]
  },
  {
   "cell_type": "code",
   "execution_count": 127,
   "metadata": {
    "collapsed": false
   },
   "outputs": [
    {
     "data": {
      "text/plain": [
       "count        4\n",
       "mean     22332\n",
       "std      49476\n",
       "min     -22307\n",
       "25%     -16025\n",
       "50%      14657\n",
       "75%      53014\n",
       "max      82320\n",
       "Name: diff, dtype: float64"
      ]
     },
     "execution_count": 127,
     "metadata": {},
     "output_type": "execute_result"
    }
   ],
   "source": [
    "gf_Ydiff['diff'].describe()"
   ]
  },
  {
   "cell_type": "code",
   "execution_count": 131,
   "metadata": {
    "collapsed": false
   },
   "outputs": [
    {
     "data": {
      "text/html": [
       "<img src=\"graphs/GF_acres.png\" width=\"400\" height=\"250\"/>"
      ],
      "text/plain": [
       "<IPython.core.display.Image object>"
      ]
     },
     "execution_count": 131,
     "metadata": {},
     "output_type": "execute_result"
    }
   ],
   "source": [
    "Image(url= \"graphs/GF_acres.png\", width=400, height=250)"
   ]
  },
  {
   "cell_type": "code",
   "execution_count": 130,
   "metadata": {
    "collapsed": false
   },
   "outputs": [
    {
     "data": {
      "text/html": [
       "<img src=\"graphs/GF_dpa.png\" width=\"500\" height=\"250\"/>"
      ],
      "text/plain": [
       "<IPython.core.display.Image object>"
      ]
     },
     "execution_count": 130,
     "metadata": {},
     "output_type": "execute_result"
    }
   ],
   "source": [
    "Image(url= \"graphs/GF_dpa.png\", width=500, height=250)"
   ]
  },
  {
   "cell_type": "code",
   "execution_count": 128,
   "metadata": {
    "collapsed": false
   },
   "outputs": [
    {
     "data": {
      "text/html": [
       "<img src=\"graphs/GF_NR.png\" width=\"500\" height=\"250\"/>"
      ],
      "text/plain": [
       "<IPython.core.display.Image object>"
      ]
     },
     "execution_count": 128,
     "metadata": {},
     "output_type": "execute_result"
    }
   ],
   "source": [
    "Image(url= \"graphs/GF_NR.png\", width=500, height=250)"
   ]
  },
  {
   "cell_type": "markdown",
   "metadata": {},
   "source": [
    "On the acres where both treatments are effecitve, what is the distrubiton of hazard score change? "
   ]
  },
  {
   "cell_type": "code",
   "execution_count": 132,
   "metadata": {
    "collapsed": false
   },
   "outputs": [
    {
     "data": {
      "text/html": [
       "<img src=\"graphs/GF_hdiff.png\" width=\"500\" height=\"250\"/>"
      ],
      "text/plain": [
       "<IPython.core.display.Image object>"
      ]
     },
     "execution_count": 132,
     "metadata": {},
     "output_type": "execute_result"
    }
   ],
   "source": [
    "Image(url= \"graphs/GF_hdiff.png\", width=500, height=250)"
   ]
  },
  {
   "cell_type": "markdown",
   "metadata": {
    "collapsed": true
   },
   "source": [
    "# What difference does style of surface fuel treatment make? "
   ]
  },
  {
   "cell_type": "code",
   "execution_count": 133,
   "metadata": {
    "ExecuteTime": {
     "end_time": "2017-06-14T22:55:53.799041Z",
     "start_time": "2017-06-14T22:55:53.790035Z"
    },
    "collapsed": true
   },
   "outputs": [],
   "source": [
    "# list of rx values that coorespond 0 and 5 inch DBH minimums\n",
    "l_s = ('10', '33')\n",
    "\n",
    "burn = ('34', '9')"
   ]
  },
  {
   "cell_type": "code",
   "execution_count": 134,
   "metadata": {
    "ExecuteTime": {
     "end_time": "2017-06-14T22:55:53.830062Z",
     "start_time": "2017-06-14T22:55:53.803544Z"
    },
    "collapsed": false
   },
   "outputs": [],
   "source": [
    "#read in the cycle1_optimization created by SQL above from tables in core analysis\n",
    "w_nNR_fuel = pd.read_excel(open('data/weighted_noNR_opt2.xlsx', 'rb'), sheetname='export', lowmemory=False)\n",
    "\n",
    "w_nNR_fuel.biosum_cond_id = w_nNR_opt.biosum_cond_id.astype(str)\n",
    "w_nNR_fuel.rx = w_nNR_opt.rx.astype(str)\n",
    "w_nNR_fuel.rxpackage = w_nNR_opt.rxpackage.astype(str)"
   ]
  },
  {
   "cell_type": "code",
   "execution_count": 135,
   "metadata": {
    "ExecuteTime": {
     "end_time": "2017-06-14T22:55:53.870589Z",
     "start_time": "2017-06-14T22:55:53.834064Z"
    },
    "collapsed": false
   },
   "outputs": [
    {
     "data": {
      "text/html": [
       "<div>\n",
       "<table border=\"1\" class=\"dataframe\">\n",
       "  <thead>\n",
       "    <tr style=\"text-align: right;\">\n",
       "      <th></th>\n",
       "      <th>biosum_cond_id</th>\n",
       "      <th>rxpackage</th>\n",
       "      <th>rx</th>\n",
       "      <th>wHazardChange</th>\n",
       "      <th>MVPPost</th>\n",
       "      <th>acres</th>\n",
       "      <th>fuel</th>\n",
       "    </tr>\n",
       "  </thead>\n",
       "  <tbody>\n",
       "    <tr>\n",
       "      <th>0</th>\n",
       "      <td>1200741010700100571330001</td>\n",
       "      <td>1</td>\n",
       "      <td>100</td>\n",
       "      <td>-1</td>\n",
       "      <td>70</td>\n",
       "      <td>1998</td>\n",
       "      <td>NaN</td>\n",
       "    </tr>\n",
       "    <tr>\n",
       "      <th>1</th>\n",
       "      <td>1200741010700100714590001</td>\n",
       "      <td>1</td>\n",
       "      <td>100</td>\n",
       "      <td>-0</td>\n",
       "      <td>77</td>\n",
       "      <td>1712</td>\n",
       "      <td>NaN</td>\n",
       "    </tr>\n",
       "    <tr>\n",
       "      <th>2</th>\n",
       "      <td>1200741010700100814910001</td>\n",
       "      <td>1</td>\n",
       "      <td>100</td>\n",
       "      <td>-0</td>\n",
       "      <td>89</td>\n",
       "      <td>1799</td>\n",
       "      <td>NaN</td>\n",
       "    </tr>\n",
       "    <tr>\n",
       "      <th>3</th>\n",
       "      <td>1200741010700100880590002</td>\n",
       "      <td>1</td>\n",
       "      <td>100</td>\n",
       "      <td>-0</td>\n",
       "      <td>47</td>\n",
       "      <td>652</td>\n",
       "      <td>NaN</td>\n",
       "    </tr>\n",
       "    <tr>\n",
       "      <th>4</th>\n",
       "      <td>1200741010702300724110001</td>\n",
       "      <td>1</td>\n",
       "      <td>100</td>\n",
       "      <td>-1</td>\n",
       "      <td>56</td>\n",
       "      <td>1998</td>\n",
       "      <td>NaN</td>\n",
       "    </tr>\n",
       "  </tbody>\n",
       "</table>\n",
       "</div>"
      ],
      "text/plain": [
       "              biosum_cond_id rxpackage   rx  wHazardChange  MVPPost  acres  \\\n",
       "0  1200741010700100571330001         1  100             -1       70   1998   \n",
       "1  1200741010700100714590001         1  100             -0       77   1712   \n",
       "2  1200741010700100814910001         1  100             -0       89   1799   \n",
       "3  1200741010700100880590002         1  100             -0       47    652   \n",
       "4  1200741010702300724110001         1  100             -1       56   1998   \n",
       "\n",
       "  fuel  \n",
       "0  NaN  \n",
       "1  NaN  \n",
       "2  NaN  \n",
       "3  NaN  \n",
       "4  NaN  "
      ]
     },
     "execution_count": 135,
     "metadata": {},
     "output_type": "execute_result"
    }
   ],
   "source": [
    "#Create minDBH column and assign 0 or 5 based on treatment\n",
    "w_nNR_fuel.fuel = w_nNR_fuel.ix[w_nNR_fuel.rxpackage.isin(l_s), 'fuel'] = 'ls'\n",
    "w_nNR_fuel.fuel = w_nNR_fuel.ix[w_nNR_fuel.rxpackage.isin(burn), 'fuel'] = 'burn'\n",
    "\n",
    "w_nNR_fuel.head(n=5)\n"
   ]
  },
  {
   "cell_type": "code",
   "execution_count": 137,
   "metadata": {
    "ExecuteTime": {
     "end_time": "2017-06-14T22:55:53.880097Z",
     "start_time": "2017-06-14T22:55:53.873591Z"
    },
    "collapsed": false
   },
   "outputs": [],
   "source": [
    "#group by owner and hazard score, display acres\n",
    "groupby_f = w_nNR_fuel[['rx','fuel','acres']].groupby(['rx','fuel'])"
   ]
  },
  {
   "cell_type": "code",
   "execution_count": 138,
   "metadata": {
    "ExecuteTime": {
     "end_time": "2017-06-14T22:55:53.921123Z",
     "start_time": "2017-06-14T22:55:53.884098Z"
    },
    "collapsed": false
   },
   "outputs": [
    {
     "data": {
      "text/html": [
       "<div>\n",
       "<table border=\"1\" class=\"dataframe\">\n",
       "  <thead>\n",
       "    <tr style=\"text-align: right;\">\n",
       "      <th></th>\n",
       "      <th>rx</th>\n",
       "      <th>fuel</th>\n",
       "      <th>acres sum</th>\n",
       "      <th>counts</th>\n",
       "    </tr>\n",
       "  </thead>\n",
       "  <tbody>\n",
       "    <tr>\n",
       "      <th>0</th>\n",
       "      <td>104</td>\n",
       "      <td>burn</td>\n",
       "      <td>1022114</td>\n",
       "      <td>509</td>\n",
       "    </tr>\n",
       "    <tr>\n",
       "      <th>1</th>\n",
       "      <td>105</td>\n",
       "      <td>ls</td>\n",
       "      <td>538906</td>\n",
       "      <td>265</td>\n",
       "    </tr>\n",
       "    <tr>\n",
       "      <th>2</th>\n",
       "      <td>304</td>\n",
       "      <td>ls</td>\n",
       "      <td>351585</td>\n",
       "      <td>171</td>\n",
       "    </tr>\n",
       "    <tr>\n",
       "      <th>3</th>\n",
       "      <td>305</td>\n",
       "      <td>burn</td>\n",
       "      <td>951239</td>\n",
       "      <td>477</td>\n",
       "    </tr>\n",
       "  </tbody>\n",
       "</table>\n",
       "</div>"
      ],
      "text/plain": [
       "    rx  fuel  acres sum  counts\n",
       "0  104  burn    1022114     509\n",
       "1  105    ls     538906     265\n",
       "2  304    ls     351585     171\n",
       "3  305  burn     951239     477"
      ]
     },
     "execution_count": 138,
     "metadata": {},
     "output_type": "execute_result"
    }
   ],
   "source": [
    "#calculate the sum of acre for minDBH groups, rxpackages and provide count of stands.\n",
    "w_nNR_sf = groupby_f.agg('sum')\\\n",
    "                .rename(columns = lambda x: x + ' sum')\\\n",
    "                .join(pd.DataFrame(groupby_f.size(), \n",
    "                                      columns=['counts']))\\\n",
    "                .reset_index()\n",
    "            \n",
    "\n",
    "w_nNR_sf.head(n=5)"
   ]
  },
  {
   "cell_type": "code",
   "execution_count": 139,
   "metadata": {
    "ExecuteTime": {
     "end_time": "2017-06-14T22:55:54.610081Z",
     "start_time": "2017-06-14T22:55:54.526025Z"
    },
    "collapsed": false
   },
   "outputs": [
    {
     "data": {
      "text/html": [
       "<div>\n",
       "<table border=\"1\" class=\"dataframe\">\n",
       "  <thead>\n",
       "    <tr style=\"text-align: right;\">\n",
       "      <th></th>\n",
       "      <th>rx</th>\n",
       "      <th>fuel</th>\n",
       "      <th>acres sum</th>\n",
       "      <th>counts</th>\n",
       "      <th>pair</th>\n",
       "    </tr>\n",
       "  </thead>\n",
       "  <tbody>\n",
       "    <tr>\n",
       "      <th>0</th>\n",
       "      <td>104</td>\n",
       "      <td>burn</td>\n",
       "      <td>1022114</td>\n",
       "      <td>509</td>\n",
       "      <td>A</td>\n",
       "    </tr>\n",
       "    <tr>\n",
       "      <th>1</th>\n",
       "      <td>105</td>\n",
       "      <td>ls</td>\n",
       "      <td>538906</td>\n",
       "      <td>265</td>\n",
       "      <td>B</td>\n",
       "    </tr>\n",
       "    <tr>\n",
       "      <th>2</th>\n",
       "      <td>304</td>\n",
       "      <td>ls</td>\n",
       "      <td>351585</td>\n",
       "      <td>171</td>\n",
       "      <td>A</td>\n",
       "    </tr>\n",
       "    <tr>\n",
       "      <th>3</th>\n",
       "      <td>305</td>\n",
       "      <td>burn</td>\n",
       "      <td>951239</td>\n",
       "      <td>477</td>\n",
       "      <td>B</td>\n",
       "    </tr>\n",
       "  </tbody>\n",
       "</table>\n",
       "</div>"
      ],
      "text/plain": [
       "    rx  fuel  acres sum  counts pair\n",
       "0  104  burn    1022114     509    A\n",
       "1  105    ls     538906     265    B\n",
       "2  304    ls     351585     171    A\n",
       "3  305  burn     951239     477    B"
      ]
     },
     "execution_count": 139,
     "metadata": {},
     "output_type": "execute_result"
    }
   ],
   "source": [
    "#find the difference in acres between min0 and min5 treatment potential. \n",
    "#create 'pair' column\n",
    "#asssign a specific value to each treatment pair.  ie. treatments that are identical except for min DBH\n",
    "w_nNR_sf.pair = w_nNR_sf.ix[w_nNR_sf.rx.isin(['104', '304']), 'pair'] = 'A'\n",
    "w_nNR_sf.pair = w_nNR_sf.ix[w_nNR_sf.rx.isin(['105', '305']), 'pair'] = 'B'\n",
    "\n",
    "w_nNR_sf.head(n=5)"
   ]
  },
  {
   "cell_type": "code",
   "execution_count": 140,
   "metadata": {
    "collapsed": true
   },
   "outputs": [],
   "source": [
    "#export to csv for graphing in R\n",
    "w_nNR_sf.to_csv(\"outputs/w_nNR_sf.csv\")"
   ]
  },
  {
   "cell_type": "code",
   "execution_count": 141,
   "metadata": {
    "collapsed": false
   },
   "outputs": [
    {
     "data": {
      "text/html": [
       "<div>\n",
       "<table border=\"1\" class=\"dataframe\">\n",
       "  <thead>\n",
       "    <tr style=\"text-align: right;\">\n",
       "      <th></th>\n",
       "      <th>rx</th>\n",
       "      <th>fuel</th>\n",
       "      <th>acres sum</th>\n",
       "      <th>counts</th>\n",
       "      <th>pair</th>\n",
       "    </tr>\n",
       "  </thead>\n",
       "  <tbody>\n",
       "    <tr>\n",
       "      <th>0</th>\n",
       "      <td>104</td>\n",
       "      <td>burn</td>\n",
       "      <td>1022114</td>\n",
       "      <td>509</td>\n",
       "      <td>A</td>\n",
       "    </tr>\n",
       "    <tr>\n",
       "      <th>2</th>\n",
       "      <td>304</td>\n",
       "      <td>ls</td>\n",
       "      <td>351585</td>\n",
       "      <td>171</td>\n",
       "      <td>A</td>\n",
       "    </tr>\n",
       "    <tr>\n",
       "      <th>3</th>\n",
       "      <td>305</td>\n",
       "      <td>burn</td>\n",
       "      <td>951239</td>\n",
       "      <td>477</td>\n",
       "      <td>B</td>\n",
       "    </tr>\n",
       "    <tr>\n",
       "      <th>1</th>\n",
       "      <td>105</td>\n",
       "      <td>ls</td>\n",
       "      <td>538906</td>\n",
       "      <td>265</td>\n",
       "      <td>B</td>\n",
       "    </tr>\n",
       "  </tbody>\n",
       "</table>\n",
       "</div>"
      ],
      "text/plain": [
       "    rx  fuel  acres sum  counts pair\n",
       "0  104  burn    1022114     509    A\n",
       "2  304    ls     351585     171    A\n",
       "3  305  burn     951239     477    B\n",
       "1  105    ls     538906     265    B"
      ]
     },
     "execution_count": 141,
     "metadata": {},
     "output_type": "execute_result"
    }
   ],
   "source": [
    "#sort by twin and rxpackage\n",
    "w_nNR_sf.sort_values(['pair', 'fuel'], ascending=True, inplace=True)\n",
    "w_nNR_sf.head(n=5)"
   ]
  },
  {
   "cell_type": "code",
   "execution_count": 142,
   "metadata": {
    "ExecuteTime": {
     "end_time": "2017-06-14T22:55:54.642602Z",
     "start_time": "2017-06-14T22:55:54.613083Z"
    },
    "collapsed": false
   },
   "outputs": [
    {
     "data": {
      "text/html": [
       "<div>\n",
       "<table border=\"1\" class=\"dataframe\">\n",
       "  <thead>\n",
       "    <tr style=\"text-align: right;\">\n",
       "      <th></th>\n",
       "      <th>rx</th>\n",
       "      <th>fuel</th>\n",
       "      <th>acres sum</th>\n",
       "      <th>counts</th>\n",
       "      <th>pair</th>\n",
       "      <th>diff</th>\n",
       "    </tr>\n",
       "  </thead>\n",
       "  <tbody>\n",
       "    <tr>\n",
       "      <th>0</th>\n",
       "      <td>104</td>\n",
       "      <td>burn</td>\n",
       "      <td>1022114</td>\n",
       "      <td>509</td>\n",
       "      <td>A</td>\n",
       "      <td>670529</td>\n",
       "    </tr>\n",
       "    <tr>\n",
       "      <th>3</th>\n",
       "      <td>305</td>\n",
       "      <td>burn</td>\n",
       "      <td>951239</td>\n",
       "      <td>477</td>\n",
       "      <td>B</td>\n",
       "      <td>412333</td>\n",
       "    </tr>\n",
       "  </tbody>\n",
       "</table>\n",
       "</div>"
      ],
      "text/plain": [
       "    rx  fuel  acres sum  counts pair   diff\n",
       "0  104  burn    1022114     509    A 670529\n",
       "3  305  burn     951239     477    B 412333"
      ]
     },
     "execution_count": 142,
     "metadata": {},
     "output_type": "execute_result"
    }
   ],
   "source": [
    "# find difference in acres between min0 and min5 in each pair\n",
    "#group by minDBH and pair, display acres\n",
    "\n",
    "#subtract min5 from min0 acre sums\n",
    "w_nNR_sf['diff'] = w_nNR_sf['acres sum'] - w_nNR_sf['acres sum'].shift(-1)\n",
    "\n",
    "#remove the min5 rows from dataframe\n",
    "w_nNR_sfdiff = w_nNR_sf[w_nNR_sf['fuel'] == 'burn']\n",
    "\n",
    "#print first five rows\n",
    "w_nNR_sfdiff.head(n=5)"
   ]
  },
  {
   "cell_type": "code",
   "execution_count": 143,
   "metadata": {
    "ExecuteTime": {
     "end_time": "2017-06-14T22:55:54.700141Z",
     "start_time": "2017-06-14T22:55:54.646104Z"
    },
    "collapsed": false
   },
   "outputs": [
    {
     "data": {
      "text/plain": [
       "count        2\n",
       "mean    541431\n",
       "std     182572\n",
       "min     412333\n",
       "25%     476882\n",
       "50%     541431\n",
       "75%     605980\n",
       "max     670529\n",
       "Name: diff, dtype: float64"
      ]
     },
     "execution_count": 143,
     "metadata": {},
     "output_type": "execute_result"
    }
   ],
   "source": [
    "#get statistics for difference in acreage between pairs. \n",
    "w_nNR_sfdiff['diff'].describe()"
   ]
  },
  {
   "cell_type": "code",
   "execution_count": 144,
   "metadata": {
    "collapsed": false
   },
   "outputs": [
    {
     "data": {
      "text/html": [
       "<img src=\"graphs/SF_treat.png\" width=\"400\" height=\"250\"/>"
      ],
      "text/plain": [
       "<IPython.core.display.Image object>"
      ]
     },
     "execution_count": 144,
     "metadata": {},
     "output_type": "execute_result"
    }
   ],
   "source": [
    "Image(url= \"graphs/SF_treat.png\", width=400, height=250)"
   ]
  },
  {
   "cell_type": "code",
   "execution_count": 145,
   "metadata": {
    "collapsed": false
   },
   "outputs": [
    {
     "data": {
      "text/html": [
       "<img src=\"graphs/SF2.png\" width=\"400\" height=\"250\"/>"
      ],
      "text/plain": [
       "<IPython.core.display.Image object>"
      ]
     },
     "execution_count": 145,
     "metadata": {},
     "output_type": "execute_result"
    }
   ],
   "source": [
    "Image(url= \"graphs/SF2.png\", width=400, height=250)"
   ]
  },
  {
   "cell_type": "markdown",
   "metadata": {
    "ExecuteTime": {
     "end_time": "2017-06-07T22:13:06.106024Z",
     "start_time": "2017-06-07T22:13:06.101521Z"
    },
    "collapsed": true
   },
   "source": [
    "# How do log length treatments compare to WT ones in terms of cost? IN terms of revenues? Is the extra net revenue from selling more chips (and perhaps implementing a cheaper surface fuel treatment) offsetting the extra cost of doing whole tree harvest (if in fact WT is more expensive)? (1-4 vs. 29-32)"
   ]
  },
  {
   "cell_type": "code",
   "execution_count": 146,
   "metadata": {
    "ExecuteTime": {
     "end_time": "2017-06-08T22:18:48.992464Z",
     "start_time": "2017-06-08T22:18:44.885551Z"
    },
    "collapsed": false
   },
   "outputs": [
    {
     "data": {
      "text/html": [
       "<div>\n",
       "<table border=\"1\" class=\"dataframe\">\n",
       "  <thead>\n",
       "    <tr style=\"text-align: right;\">\n",
       "      <th></th>\n",
       "      <th>biosum_cond_id</th>\n",
       "      <th>rxpackage</th>\n",
       "      <th>chip_yield_cf</th>\n",
       "      <th>merch_yield_cf</th>\n",
       "      <th>chip_yield_gt</th>\n",
       "      <th>merch_yield_gt</th>\n",
       "      <th>chip_val_dpa</th>\n",
       "      <th>merch_val_dpa</th>\n",
       "      <th>harvest_onsite_cpa</th>\n",
       "      <th>haul_chip_cpa</th>\n",
       "      <th>haul_merch_cpa</th>\n",
       "      <th>merch_chip_nr_dpa</th>\n",
       "      <th>merch_nr_dpa</th>\n",
       "      <th>max_nr_dpa</th>\n",
       "    </tr>\n",
       "  </thead>\n",
       "  <tbody>\n",
       "    <tr>\n",
       "      <th>0</th>\n",
       "      <td>1200641050705900795510001</td>\n",
       "      <td>15</td>\n",
       "      <td>267</td>\n",
       "      <td>514</td>\n",
       "      <td>6</td>\n",
       "      <td>11</td>\n",
       "      <td>107</td>\n",
       "      <td>1118</td>\n",
       "      <td>1748</td>\n",
       "      <td>64</td>\n",
       "      <td>53</td>\n",
       "      <td>-640</td>\n",
       "      <td>-683</td>\n",
       "      <td>-640</td>\n",
       "    </tr>\n",
       "    <tr>\n",
       "      <th>1</th>\n",
       "      <td>1200741010700100522500001</td>\n",
       "      <td>1</td>\n",
       "      <td>506</td>\n",
       "      <td>871</td>\n",
       "      <td>10</td>\n",
       "      <td>18</td>\n",
       "      <td>184</td>\n",
       "      <td>1947</td>\n",
       "      <td>2048</td>\n",
       "      <td>77</td>\n",
       "      <td>159</td>\n",
       "      <td>-153</td>\n",
       "      <td>-260</td>\n",
       "      <td>-153</td>\n",
       "    </tr>\n",
       "    <tr>\n",
       "      <th>2</th>\n",
       "      <td>1200741010700100571330001</td>\n",
       "      <td>1</td>\n",
       "      <td>429</td>\n",
       "      <td>946</td>\n",
       "      <td>10</td>\n",
       "      <td>22</td>\n",
       "      <td>180</td>\n",
       "      <td>1924</td>\n",
       "      <td>4801</td>\n",
       "      <td>25</td>\n",
       "      <td>56</td>\n",
       "      <td>-2778</td>\n",
       "      <td>-2933</td>\n",
       "      <td>-2778</td>\n",
       "    </tr>\n",
       "    <tr>\n",
       "      <th>3</th>\n",
       "      <td>1200741010700100571330001</td>\n",
       "      <td>2</td>\n",
       "      <td>449</td>\n",
       "      <td>994</td>\n",
       "      <td>10</td>\n",
       "      <td>23</td>\n",
       "      <td>189</td>\n",
       "      <td>2016</td>\n",
       "      <td>4487</td>\n",
       "      <td>26</td>\n",
       "      <td>59</td>\n",
       "      <td>-2367</td>\n",
       "      <td>-2530</td>\n",
       "      <td>-2367</td>\n",
       "    </tr>\n",
       "    <tr>\n",
       "      <th>4</th>\n",
       "      <td>1200741010700100571330001</td>\n",
       "      <td>3</td>\n",
       "      <td>367</td>\n",
       "      <td>755</td>\n",
       "      <td>9</td>\n",
       "      <td>18</td>\n",
       "      <td>154</td>\n",
       "      <td>1549</td>\n",
       "      <td>2367</td>\n",
       "      <td>21</td>\n",
       "      <td>45</td>\n",
       "      <td>-730</td>\n",
       "      <td>-863</td>\n",
       "      <td>-730</td>\n",
       "    </tr>\n",
       "  </tbody>\n",
       "</table>\n",
       "</div>"
      ],
      "text/plain": [
       "              biosum_cond_id rxpackage  chip_yield_cf  merch_yield_cf  \\\n",
       "0  1200641050705900795510001        15            267             514   \n",
       "1  1200741010700100522500001         1            506             871   \n",
       "2  1200741010700100571330001         1            429             946   \n",
       "3  1200741010700100571330001         2            449             994   \n",
       "4  1200741010700100571330001         3            367             755   \n",
       "\n",
       "   chip_yield_gt  merch_yield_gt  chip_val_dpa  merch_val_dpa  \\\n",
       "0              6              11           107           1118   \n",
       "1             10              18           184           1947   \n",
       "2             10              22           180           1924   \n",
       "3             10              23           189           2016   \n",
       "4              9              18           154           1549   \n",
       "\n",
       "   harvest_onsite_cpa  haul_chip_cpa  haul_merch_cpa  merch_chip_nr_dpa  \\\n",
       "0                1748             64              53               -640   \n",
       "1                2048             77             159               -153   \n",
       "2                4801             25              56              -2778   \n",
       "3                4487             26              59              -2367   \n",
       "4                2367             21              45               -730   \n",
       "\n",
       "   merch_nr_dpa  max_nr_dpa  \n",
       "0          -683        -640  \n",
       "1          -260        -153  \n",
       "2         -2933       -2778  \n",
       "3         -2530       -2367  \n",
       "4          -863        -730  "
      ]
     },
     "execution_count": 146,
     "metadata": {},
     "output_type": "execute_result"
    }
   ],
   "source": [
    "#read in the product cost/rev table from core analysis for rxpackage \n",
    "money = pd.read_excel(open('data/product.xlsx', 'rb'), sheetname='product', lowmemory=False)\n",
    "#change a couple columns to string\n",
    "money.biosum_cond_id = money.biosum_cond_id.astype(str)\n",
    "money.rxpackage = money.rxpackage.astype(str)\n",
    "#print first five records of table\n",
    "money.head(n=5)"
   ]
  },
  {
   "cell_type": "code",
   "execution_count": 147,
   "metadata": {
    "ExecuteTime": {
     "end_time": "2017-06-08T22:18:49.105043Z",
     "start_time": "2017-06-08T22:18:48.995465Z"
    },
    "collapsed": false
   },
   "outputs": [
    {
     "data": {
      "text/html": [
       "<div>\n",
       "<table border=\"1\" class=\"dataframe\">\n",
       "  <thead>\n",
       "    <tr style=\"text-align: right;\">\n",
       "      <th></th>\n",
       "      <th>biosum_cond_id</th>\n",
       "      <th>rxpackage</th>\n",
       "      <th>chip_yield_cf</th>\n",
       "      <th>merch_yield_cf</th>\n",
       "      <th>chip_yield_gt</th>\n",
       "      <th>merch_yield_gt</th>\n",
       "      <th>chip_val_dpa</th>\n",
       "      <th>merch_val_dpa</th>\n",
       "      <th>harvest_onsite_cpa</th>\n",
       "      <th>haul_chip_cpa</th>\n",
       "      <th>haul_merch_cpa</th>\n",
       "      <th>merch_chip_nr_dpa</th>\n",
       "      <th>merch_nr_dpa</th>\n",
       "      <th>max_nr_dpa</th>\n",
       "      <th>twofer</th>\n",
       "    </tr>\n",
       "  </thead>\n",
       "  <tbody>\n",
       "    <tr>\n",
       "      <th>1</th>\n",
       "      <td>1200741010700100522500001</td>\n",
       "      <td>1</td>\n",
       "      <td>506</td>\n",
       "      <td>871</td>\n",
       "      <td>10</td>\n",
       "      <td>18</td>\n",
       "      <td>184</td>\n",
       "      <td>1947</td>\n",
       "      <td>2048</td>\n",
       "      <td>77</td>\n",
       "      <td>159</td>\n",
       "      <td>-153</td>\n",
       "      <td>-260</td>\n",
       "      <td>-153</td>\n",
       "      <td>A</td>\n",
       "    </tr>\n",
       "    <tr>\n",
       "      <th>2</th>\n",
       "      <td>1200741010700100571330001</td>\n",
       "      <td>1</td>\n",
       "      <td>429</td>\n",
       "      <td>946</td>\n",
       "      <td>10</td>\n",
       "      <td>22</td>\n",
       "      <td>180</td>\n",
       "      <td>1924</td>\n",
       "      <td>4801</td>\n",
       "      <td>25</td>\n",
       "      <td>56</td>\n",
       "      <td>-2778</td>\n",
       "      <td>-2933</td>\n",
       "      <td>-2778</td>\n",
       "      <td>A</td>\n",
       "    </tr>\n",
       "    <tr>\n",
       "      <th>3</th>\n",
       "      <td>1200741010700100571330001</td>\n",
       "      <td>2</td>\n",
       "      <td>449</td>\n",
       "      <td>994</td>\n",
       "      <td>10</td>\n",
       "      <td>23</td>\n",
       "      <td>189</td>\n",
       "      <td>2016</td>\n",
       "      <td>4487</td>\n",
       "      <td>26</td>\n",
       "      <td>59</td>\n",
       "      <td>-2367</td>\n",
       "      <td>-2530</td>\n",
       "      <td>-2367</td>\n",
       "      <td>B</td>\n",
       "    </tr>\n",
       "    <tr>\n",
       "      <th>4</th>\n",
       "      <td>1200741010700100571330001</td>\n",
       "      <td>3</td>\n",
       "      <td>367</td>\n",
       "      <td>755</td>\n",
       "      <td>9</td>\n",
       "      <td>18</td>\n",
       "      <td>154</td>\n",
       "      <td>1549</td>\n",
       "      <td>2367</td>\n",
       "      <td>21</td>\n",
       "      <td>45</td>\n",
       "      <td>-730</td>\n",
       "      <td>-863</td>\n",
       "      <td>-730</td>\n",
       "      <td>C</td>\n",
       "    </tr>\n",
       "    <tr>\n",
       "      <th>5</th>\n",
       "      <td>1200741010700100571330001</td>\n",
       "      <td>4</td>\n",
       "      <td>672</td>\n",
       "      <td>972</td>\n",
       "      <td>16</td>\n",
       "      <td>23</td>\n",
       "      <td>283</td>\n",
       "      <td>1979</td>\n",
       "      <td>4738</td>\n",
       "      <td>39</td>\n",
       "      <td>58</td>\n",
       "      <td>-2572</td>\n",
       "      <td>-2817</td>\n",
       "      <td>-2572</td>\n",
       "      <td>D</td>\n",
       "    </tr>\n",
       "  </tbody>\n",
       "</table>\n",
       "</div>"
      ],
      "text/plain": [
       "              biosum_cond_id rxpackage  chip_yield_cf  merch_yield_cf  \\\n",
       "1  1200741010700100522500001         1            506             871   \n",
       "2  1200741010700100571330001         1            429             946   \n",
       "3  1200741010700100571330001         2            449             994   \n",
       "4  1200741010700100571330001         3            367             755   \n",
       "5  1200741010700100571330001         4            672             972   \n",
       "\n",
       "   chip_yield_gt  merch_yield_gt  chip_val_dpa  merch_val_dpa  \\\n",
       "1             10              18           184           1947   \n",
       "2             10              22           180           1924   \n",
       "3             10              23           189           2016   \n",
       "4              9              18           154           1549   \n",
       "5             16              23           283           1979   \n",
       "\n",
       "   harvest_onsite_cpa  haul_chip_cpa  haul_merch_cpa  merch_chip_nr_dpa  \\\n",
       "1                2048             77             159               -153   \n",
       "2                4801             25              56              -2778   \n",
       "3                4487             26              59              -2367   \n",
       "4                2367             21              45               -730   \n",
       "5                4738             39              58              -2572   \n",
       "\n",
       "   merch_nr_dpa  max_nr_dpa twofer  \n",
       "1          -260        -153      A  \n",
       "2         -2933       -2778      A  \n",
       "3         -2530       -2367      B  \n",
       "4          -863        -730      C  \n",
       "5         -2817       -2572      D  "
      ]
     },
     "execution_count": 147,
     "metadata": {},
     "output_type": "execute_result"
    }
   ],
   "source": [
    "#create a column 'twofer'\n",
    "#assign a 'twofer' value to each pair of treatments that are identical except for harvest type\n",
    "money.twofer = money.ix[money.rxpackage.isin(['1', '29']), 'twofer'] = 'A'\n",
    "money.twofer = money.ix[money.rxpackage.isin(['2', '30']), 'twofer'] = 'B'\n",
    "money.twofer = money.ix[money.rxpackage.isin(['3', '31']), 'twofer'] = 'C'\n",
    "money.twofer = money.ix[money.rxpackage.isin(['4', '32']), 'twofer'] = 'D'\n",
    "\n",
    "#drop rows without a twofer value, we don't care about them right now. \n",
    "moneyN = money[pd.notnull(money['twofer'])]\n",
    "\n",
    "moneyN.head(n=5)"
   ]
  },
  {
   "cell_type": "code",
   "execution_count": 148,
   "metadata": {
    "collapsed": false
   },
   "outputs": [
    {
     "data": {
      "text/html": [
       "<div>\n",
       "<table border=\"1\" class=\"dataframe\">\n",
       "  <thead>\n",
       "    <tr style=\"text-align: right;\">\n",
       "      <th></th>\n",
       "      <th>index</th>\n",
       "      <th>biosum_cond_id</th>\n",
       "      <th>twofer</th>\n",
       "      <th>count</th>\n",
       "    </tr>\n",
       "  </thead>\n",
       "  <tbody>\n",
       "    <tr>\n",
       "      <th>0</th>\n",
       "      <td>1</td>\n",
       "      <td>1200741010700100571330001</td>\n",
       "      <td>A</td>\n",
       "      <td>2</td>\n",
       "    </tr>\n",
       "    <tr>\n",
       "      <th>1</th>\n",
       "      <td>2</td>\n",
       "      <td>1200741010700100571330001</td>\n",
       "      <td>B</td>\n",
       "      <td>2</td>\n",
       "    </tr>\n",
       "  </tbody>\n",
       "</table>\n",
       "</div>"
      ],
      "text/plain": [
       "   index             biosum_cond_id twofer  count\n",
       "0      1  1200741010700100571330001      A      2\n",
       "1      2  1200741010700100571330001      B      2"
      ]
     },
     "execution_count": 148,
     "metadata": {},
     "output_type": "execute_result"
    }
   ],
   "source": [
    "#get a count of the number of records in each group.\n",
    "groupby_tf = moneyN.groupby(['biosum_cond_id', 'twofer']).size().reset_index(name='count')\n",
    "#filter for biosumID/package groups that have a count of 2, meaning the stand could be entered by each package in the group. \n",
    "groupby_tf=pd.DataFrame(groupby_tf.loc[groupby_tf['count'] == 2])            \n",
    "groupby_tf.reset_index(inplace=True) \n",
    "groupby_tf.head(n=2)"
   ]
  },
  {
   "cell_type": "code",
   "execution_count": 149,
   "metadata": {
    "collapsed": true
   },
   "outputs": [],
   "source": [
    "#create a new table that only contains the records for stands/packages that could be entered by both packages in the twin\n",
    "#merge with original table to get the variable values and max_nr values. \n",
    "moneyN = pd.merge(moneyN, groupby_tf, how='inner', on=['biosum_cond_id', 'twofer'])\n",
    "\n",
    "#check out max_nr graph in R_graphing, link below"
   ]
  },
  {
   "cell_type": "code",
   "execution_count": 150,
   "metadata": {
    "ExecuteTime": {
     "end_time": "2017-06-08T22:18:49.349717Z",
     "start_time": "2017-06-08T22:18:49.110547Z"
    },
    "collapsed": false
   },
   "outputs": [
    {
     "data": {
      "text/html": [
       "<div>\n",
       "<table border=\"1\" class=\"dataframe\">\n",
       "  <thead>\n",
       "    <tr style=\"text-align: right;\">\n",
       "      <th></th>\n",
       "      <th>biosum_cond_id</th>\n",
       "      <th>rxpackage</th>\n",
       "      <th>chip_yield_cf</th>\n",
       "      <th>merch_yield_cf</th>\n",
       "      <th>chip_yield_gt</th>\n",
       "      <th>merch_yield_gt</th>\n",
       "      <th>chip_val_dpa</th>\n",
       "      <th>merch_val_dpa</th>\n",
       "      <th>harvest_onsite_cpa</th>\n",
       "      <th>haul_chip_cpa</th>\n",
       "      <th>haul_merch_cpa</th>\n",
       "      <th>merch_chip_nr_dpa</th>\n",
       "      <th>merch_nr_dpa</th>\n",
       "      <th>max_nr_dpa</th>\n",
       "      <th>twofer</th>\n",
       "      <th>index</th>\n",
       "      <th>count</th>\n",
       "    </tr>\n",
       "  </thead>\n",
       "  <tbody>\n",
       "    <tr>\n",
       "      <th>0</th>\n",
       "      <td>1200741010700100571330001</td>\n",
       "      <td>1</td>\n",
       "      <td>429</td>\n",
       "      <td>946</td>\n",
       "      <td>10</td>\n",
       "      <td>22</td>\n",
       "      <td>180</td>\n",
       "      <td>1924</td>\n",
       "      <td>4801</td>\n",
       "      <td>25</td>\n",
       "      <td>56</td>\n",
       "      <td>-2778</td>\n",
       "      <td>-2933</td>\n",
       "      <td>-2778</td>\n",
       "      <td>A</td>\n",
       "      <td>1</td>\n",
       "      <td>2</td>\n",
       "    </tr>\n",
       "    <tr>\n",
       "      <th>1</th>\n",
       "      <td>1200741010700100571330001</td>\n",
       "      <td>29</td>\n",
       "      <td>37</td>\n",
       "      <td>946</td>\n",
       "      <td>1</td>\n",
       "      <td>22</td>\n",
       "      <td>16</td>\n",
       "      <td>1924</td>\n",
       "      <td>4774</td>\n",
       "      <td>2</td>\n",
       "      <td>56</td>\n",
       "      <td>-2893</td>\n",
       "      <td>-2907</td>\n",
       "      <td>-2893</td>\n",
       "      <td>A</td>\n",
       "      <td>1</td>\n",
       "      <td>2</td>\n",
       "    </tr>\n",
       "    <tr>\n",
       "      <th>2</th>\n",
       "      <td>1200741010700100571330001</td>\n",
       "      <td>2</td>\n",
       "      <td>449</td>\n",
       "      <td>994</td>\n",
       "      <td>10</td>\n",
       "      <td>23</td>\n",
       "      <td>189</td>\n",
       "      <td>2016</td>\n",
       "      <td>4487</td>\n",
       "      <td>26</td>\n",
       "      <td>59</td>\n",
       "      <td>-2367</td>\n",
       "      <td>-2530</td>\n",
       "      <td>-2367</td>\n",
       "      <td>B</td>\n",
       "      <td>2</td>\n",
       "      <td>2</td>\n",
       "    </tr>\n",
       "    <tr>\n",
       "      <th>3</th>\n",
       "      <td>1200741010700100571330001</td>\n",
       "      <td>30</td>\n",
       "      <td>37</td>\n",
       "      <td>994</td>\n",
       "      <td>1</td>\n",
       "      <td>23</td>\n",
       "      <td>16</td>\n",
       "      <td>2016</td>\n",
       "      <td>4726</td>\n",
       "      <td>2</td>\n",
       "      <td>59</td>\n",
       "      <td>-2756</td>\n",
       "      <td>-2770</td>\n",
       "      <td>-2756</td>\n",
       "      <td>B</td>\n",
       "      <td>2</td>\n",
       "      <td>2</td>\n",
       "    </tr>\n",
       "    <tr>\n",
       "      <th>4</th>\n",
       "      <td>1200741010700100571330001</td>\n",
       "      <td>3</td>\n",
       "      <td>367</td>\n",
       "      <td>755</td>\n",
       "      <td>9</td>\n",
       "      <td>18</td>\n",
       "      <td>154</td>\n",
       "      <td>1549</td>\n",
       "      <td>2367</td>\n",
       "      <td>21</td>\n",
       "      <td>45</td>\n",
       "      <td>-730</td>\n",
       "      <td>-863</td>\n",
       "      <td>-730</td>\n",
       "      <td>C</td>\n",
       "      <td>3</td>\n",
       "      <td>2</td>\n",
       "    </tr>\n",
       "  </tbody>\n",
       "</table>\n",
       "</div>"
      ],
      "text/plain": [
       "              biosum_cond_id  rxpackage  chip_yield_cf  merch_yield_cf  \\\n",
       "0  1200741010700100571330001          1            429             946   \n",
       "1  1200741010700100571330001         29             37             946   \n",
       "2  1200741010700100571330001          2            449             994   \n",
       "3  1200741010700100571330001         30             37             994   \n",
       "4  1200741010700100571330001          3            367             755   \n",
       "\n",
       "   chip_yield_gt  merch_yield_gt  chip_val_dpa  merch_val_dpa  \\\n",
       "0             10              22           180           1924   \n",
       "1              1              22            16           1924   \n",
       "2             10              23           189           2016   \n",
       "3              1              23            16           2016   \n",
       "4              9              18           154           1549   \n",
       "\n",
       "   harvest_onsite_cpa  haul_chip_cpa  haul_merch_cpa  merch_chip_nr_dpa  \\\n",
       "0                4801             25              56              -2778   \n",
       "1                4774              2              56              -2893   \n",
       "2                4487             26              59              -2367   \n",
       "3                4726              2              59              -2756   \n",
       "4                2367             21              45               -730   \n",
       "\n",
       "   merch_nr_dpa  max_nr_dpa twofer  index  count  \n",
       "0         -2933       -2778      A      1      2  \n",
       "1         -2907       -2893      A      1      2  \n",
       "2         -2530       -2367      B      2      2  \n",
       "3         -2770       -2756      B      2      2  \n",
       "4          -863        -730      C      3      2  "
      ]
     },
     "execution_count": 150,
     "metadata": {},
     "output_type": "execute_result"
    }
   ],
   "source": [
    "#gotta change rxpackage for sorting\n",
    "moneyN.rxpackage = moneyN.rxpackage.astype(int)\n",
    "#sort by twofer and rxpackage\n",
    "moneyN.sort_values(['biosum_cond_id', 'twofer', 'rxpackage'], ascending=True, inplace=True)\n",
    "\n",
    "moneyN.head(n=5)"
   ]
  },
  {
   "cell_type": "code",
   "execution_count": 151,
   "metadata": {
    "ExecuteTime": {
     "end_time": "2017-06-08T22:18:49.687456Z",
     "start_time": "2017-06-08T22:18:49.353219Z"
    },
    "collapsed": false,
    "scrolled": true
   },
   "outputs": [],
   "source": [
    "# find difference in harvest cost between CTL and WT harvest systems\n",
    "\n",
    "#subtract CTL from WT harvest costs\n",
    "moneyN['diff_cost'] = moneyN['harvest_onsite_cpa'] - moneyN['harvest_onsite_cpa'].shift(-1)\n",
    "moneyN['diff_cf'] = moneyN['chip_yield_cf'] - moneyN['chip_yield_cf'].shift(-1)\n",
    "moneyN['diff_nr'] = moneyN['max_nr_dpa'] - moneyN['max_nr_dpa'].shift(-1)\n",
    "\n",
    "moneyN.to_csv('outputs/moneyN.csv')\n",
    "\n",
    "#remove the CTL rows from dataframe\n",
    "moneyN = moneyN[moneyN['rxpackage'] < 5]\n",
    "\n",
    "\n",
    "#print first five rows \n",
    "#contains the difference in acres effectively treated and net revenue.  \n",
    "#diff_cost = WT cost - CTL cost \n",
    "#dfff_cf = WT chip_yield_cf - CTL chip_yield_cf\n",
    "#dfff_nr = WT max net rev - CTL max net rev\n"
   ]
  },
  {
   "cell_type": "code",
   "execution_count": 152,
   "metadata": {
    "collapsed": false
   },
   "outputs": [
    {
     "data": {
      "text/html": [
       "<div>\n",
       "<table border=\"1\" class=\"dataframe\">\n",
       "  <thead>\n",
       "    <tr style=\"text-align: right;\">\n",
       "      <th></th>\n",
       "      <th>biosum_cond_id</th>\n",
       "      <th>rxpackage</th>\n",
       "      <th>chip_yield_cf</th>\n",
       "      <th>merch_yield_cf</th>\n",
       "      <th>chip_yield_gt</th>\n",
       "      <th>merch_yield_gt</th>\n",
       "      <th>chip_val_dpa</th>\n",
       "      <th>merch_val_dpa</th>\n",
       "      <th>harvest_onsite_cpa</th>\n",
       "      <th>haul_chip_cpa</th>\n",
       "      <th>haul_merch_cpa</th>\n",
       "      <th>merch_chip_nr_dpa</th>\n",
       "      <th>merch_nr_dpa</th>\n",
       "      <th>max_nr_dpa</th>\n",
       "      <th>twofer</th>\n",
       "      <th>index</th>\n",
       "      <th>count</th>\n",
       "      <th>diff_cost</th>\n",
       "      <th>diff_cf</th>\n",
       "      <th>diff_nr</th>\n",
       "    </tr>\n",
       "  </thead>\n",
       "  <tbody>\n",
       "    <tr>\n",
       "      <th>0</th>\n",
       "      <td>1200741010700100571330001</td>\n",
       "      <td>1</td>\n",
       "      <td>429</td>\n",
       "      <td>946</td>\n",
       "      <td>10</td>\n",
       "      <td>22</td>\n",
       "      <td>180</td>\n",
       "      <td>1924</td>\n",
       "      <td>4801</td>\n",
       "      <td>25</td>\n",
       "      <td>56</td>\n",
       "      <td>-2778</td>\n",
       "      <td>-2933</td>\n",
       "      <td>-2778</td>\n",
       "      <td>A</td>\n",
       "      <td>1</td>\n",
       "      <td>2</td>\n",
       "      <td>27</td>\n",
       "      <td>392</td>\n",
       "      <td>116</td>\n",
       "    </tr>\n",
       "  </tbody>\n",
       "</table>\n",
       "</div>"
      ],
      "text/plain": [
       "              biosum_cond_id  rxpackage  chip_yield_cf  merch_yield_cf  \\\n",
       "0  1200741010700100571330001          1            429             946   \n",
       "\n",
       "   chip_yield_gt  merch_yield_gt  chip_val_dpa  merch_val_dpa  \\\n",
       "0             10              22           180           1924   \n",
       "\n",
       "   harvest_onsite_cpa  haul_chip_cpa  haul_merch_cpa  merch_chip_nr_dpa  \\\n",
       "0                4801             25              56              -2778   \n",
       "\n",
       "   merch_nr_dpa  max_nr_dpa twofer  index  count  diff_cost  diff_cf  diff_nr  \n",
       "0         -2933       -2778      A      1      2         27      392      116  "
      ]
     },
     "execution_count": 152,
     "metadata": {},
     "output_type": "execute_result"
    }
   ],
   "source": [
    "moneyN.head(n=1)"
   ]
  },
  {
   "cell_type": "code",
   "execution_count": 153,
   "metadata": {
    "collapsed": false
   },
   "outputs": [
    {
     "data": {
      "text/html": [
       "<div>\n",
       "<table border=\"1\" class=\"dataframe\">\n",
       "  <thead>\n",
       "    <tr style=\"text-align: right;\">\n",
       "      <th></th>\n",
       "      <th>twofer</th>\n",
       "      <th>rxpackage</th>\n",
       "      <th>diff_cost_mean</th>\n",
       "      <th>diff_cf_mean</th>\n",
       "      <th>diff_nr_mean</th>\n",
       "    </tr>\n",
       "  </thead>\n",
       "  <tbody>\n",
       "    <tr>\n",
       "      <th>0</th>\n",
       "      <td>A</td>\n",
       "      <td>1</td>\n",
       "      <td>-918</td>\n",
       "      <td>913</td>\n",
       "      <td>1145</td>\n",
       "    </tr>\n",
       "    <tr>\n",
       "      <th>1</th>\n",
       "      <td>B</td>\n",
       "      <td>2</td>\n",
       "      <td>-1231</td>\n",
       "      <td>923</td>\n",
       "      <td>1446</td>\n",
       "    </tr>\n",
       "    <tr>\n",
       "      <th>2</th>\n",
       "      <td>C</td>\n",
       "      <td>3</td>\n",
       "      <td>-746</td>\n",
       "      <td>775</td>\n",
       "      <td>946</td>\n",
       "    </tr>\n",
       "    <tr>\n",
       "      <th>3</th>\n",
       "      <td>D</td>\n",
       "      <td>4</td>\n",
       "      <td>-863</td>\n",
       "      <td>778</td>\n",
       "      <td>1049</td>\n",
       "    </tr>\n",
       "  </tbody>\n",
       "</table>\n",
       "</div>"
      ],
      "text/plain": [
       "  twofer  rxpackage  diff_cost_mean  diff_cf_mean  diff_nr_mean\n",
       "0      A          1            -918           913          1145\n",
       "1      B          2           -1231           923          1446\n",
       "2      C          3            -746           775           946\n",
       "3      D          4            -863           778          1049"
      ]
     },
     "execution_count": 153,
     "metadata": {},
     "output_type": "execute_result"
    }
   ],
   "source": [
    "\n",
    "#group by twin and variable effective yn , display acres\n",
    "groupby_money = moneyN[['twofer', 'rxpackage', 'diff_cost','diff_cf', 'diff_nr']].groupby(['twofer', 'rxpackage'])\n",
    "#aggregate records by rxpackage\n",
    "money_sum = groupby_money.agg('mean')\\\n",
    "                .rename(columns = lambda x: x + '_mean')\\\n",
    "                .reset_index()\n",
    "\n",
    "money_sum.head(n=5)"
   ]
  },
  {
   "cell_type": "code",
   "execution_count": 154,
   "metadata": {
    "ExecuteTime": {
     "end_time": "2017-06-08T22:18:51.997876Z",
     "start_time": "2017-06-08T22:18:49.690458Z"
    },
    "collapsed": false
   },
   "outputs": [
    {
     "data": {
      "text/plain": [
       "count       4\n",
       "mean     -940\n",
       "std       207\n",
       "min     -1231\n",
       "25%      -996\n",
       "50%      -891\n",
       "75%      -834\n",
       "max      -746\n",
       "Name: diff_cost_mean, dtype: float64"
      ]
     },
     "execution_count": 154,
     "metadata": {},
     "output_type": "execute_result"
    }
   ],
   "source": [
    "#get statistics for differences\n",
    "money_sum['diff_cost_mean'].describe()"
   ]
  },
  {
   "cell_type": "code",
   "execution_count": 155,
   "metadata": {
    "ExecuteTime": {
     "end_time": "2017-06-08T22:18:52.060921Z",
     "start_time": "2017-06-08T22:18:52.000879Z"
    },
    "collapsed": false
   },
   "outputs": [
    {
     "data": {
      "text/plain": [
       "count   4003\n",
       "mean     854\n",
       "std      517\n",
       "min       14\n",
       "25%      513\n",
       "50%      705\n",
       "75%     1080\n",
       "max     6923\n",
       "Name: diff_cf, dtype: float64"
      ]
     },
     "execution_count": 155,
     "metadata": {},
     "output_type": "execute_result"
    }
   ],
   "source": [
    "#get statistics for differences\n",
    "moneyN['diff_cf'].describe()"
   ]
  },
  {
   "cell_type": "code",
   "execution_count": 156,
   "metadata": {
    "ExecuteTime": {
     "end_time": "2017-06-08T22:18:52.112459Z",
     "start_time": "2017-06-08T22:18:52.063422Z"
    },
    "collapsed": false
   },
   "outputs": [
    {
     "data": {
      "text/plain": [
       "count    4003\n",
       "mean     1160\n",
       "std      1001\n",
       "min     -1313\n",
       "25%       484\n",
       "50%       930\n",
       "75%      1585\n",
       "max     13883\n",
       "Name: diff_nr, dtype: float64"
      ]
     },
     "execution_count": 156,
     "metadata": {},
     "output_type": "execute_result"
    }
   ],
   "source": [
    "#get statistics for differences\n",
    "moneyN['diff_nr'].describe()"
   ]
  },
  {
   "cell_type": "code",
   "execution_count": 157,
   "metadata": {
    "collapsed": false
   },
   "outputs": [
    {
     "data": {
      "text/html": [
       "<img src=\"graphs/harv.png\" width=\"400\" height=\"250\"/>"
      ],
      "text/plain": [
       "<IPython.core.display.Image object>"
      ]
     },
     "execution_count": 157,
     "metadata": {},
     "output_type": "execute_result"
    }
   ],
   "source": [
    "Image(url= \"graphs/harv.png\", width=400, height=250)"
   ]
  },
  {
   "cell_type": "code",
   "execution_count": 159,
   "metadata": {
    "collapsed": false
   },
   "outputs": [
    {
     "data": {
      "text/html": [
       "<img src=\"graphs/harv2.png\" width=\"400\" height=\"250\"/>"
      ],
      "text/plain": [
       "<IPython.core.display.Image object>"
      ]
     },
     "execution_count": 159,
     "metadata": {},
     "output_type": "execute_result"
    }
   ],
   "source": [
    "Image(url= \"graphs/harv2.png\", width=400, height=250)"
   ]
  },
  {
   "cell_type": "markdown",
   "metadata": {},
   "source": [
    "# How much wood and energy produced? "
   ]
  },
  {
   "cell_type": "markdown",
   "metadata": {},
   "source": [
    "Using the selected 'best' treatment for each stand, how much wood is produced? Bioenergy?  On how many stands does harvesting energy wood increase the max_nr? What are the total treatment and haul costs? "
   ]
  },
  {
   "cell_type": "code",
   "execution_count": 160,
   "metadata": {
    "ExecuteTime": {
     "end_time": "2017-06-08T22:18:52.235045Z",
     "start_time": "2017-06-08T22:18:52.115960Z"
    },
    "collapsed": false
   },
   "outputs": [
    {
     "data": {
      "text/html": [
       "<div>\n",
       "<table border=\"1\" class=\"dataframe\">\n",
       "  <thead>\n",
       "    <tr style=\"text-align: right;\">\n",
       "      <th></th>\n",
       "      <th>biosum_cond_id</th>\n",
       "      <th>rxpackage</th>\n",
       "      <th>chip_yield_cf</th>\n",
       "      <th>merch_yield_cf</th>\n",
       "      <th>chip_yield_gt</th>\n",
       "      <th>merch_yield_gt</th>\n",
       "      <th>chip_val_dpa</th>\n",
       "      <th>merch_val_dpa</th>\n",
       "      <th>harvest_onsite_cpa</th>\n",
       "      <th>haul_chip_cpa</th>\n",
       "      <th>haul_merch_cpa</th>\n",
       "      <th>merch_chip_nr_dpa</th>\n",
       "      <th>merch_nr_dpa</th>\n",
       "      <th>max_nr_dpa</th>\n",
       "    </tr>\n",
       "  </thead>\n",
       "  <tbody>\n",
       "    <tr>\n",
       "      <th>0</th>\n",
       "      <td>1200641050705900795510001</td>\n",
       "      <td>15</td>\n",
       "      <td>367</td>\n",
       "      <td>755</td>\n",
       "      <td>9</td>\n",
       "      <td>18</td>\n",
       "      <td>154</td>\n",
       "      <td>1549</td>\n",
       "      <td>2367</td>\n",
       "      <td>21</td>\n",
       "      <td>45</td>\n",
       "      <td>-730</td>\n",
       "      <td>-863</td>\n",
       "      <td>-730</td>\n",
       "    </tr>\n",
       "    <tr>\n",
       "      <th>1</th>\n",
       "      <td>1200741010700100522500001</td>\n",
       "      <td>1</td>\n",
       "      <td>426</td>\n",
       "      <td>3064</td>\n",
       "      <td>10</td>\n",
       "      <td>67</td>\n",
       "      <td>176</td>\n",
       "      <td>7220</td>\n",
       "      <td>3625</td>\n",
       "      <td>129</td>\n",
       "      <td>989</td>\n",
       "      <td>2653</td>\n",
       "      <td>2606</td>\n",
       "      <td>2653</td>\n",
       "    </tr>\n",
       "    <tr>\n",
       "      <th>2</th>\n",
       "      <td>1200741010700100571330001</td>\n",
       "      <td>1</td>\n",
       "      <td>603</td>\n",
       "      <td>841</td>\n",
       "      <td>13</td>\n",
       "      <td>18</td>\n",
       "      <td>236</td>\n",
       "      <td>1855</td>\n",
       "      <td>5323</td>\n",
       "      <td>78</td>\n",
       "      <td>74</td>\n",
       "      <td>-3383</td>\n",
       "      <td>-3542</td>\n",
       "      <td>-3383</td>\n",
       "    </tr>\n",
       "    <tr>\n",
       "      <th>3</th>\n",
       "      <td>1200741010700100571330001</td>\n",
       "      <td>2</td>\n",
       "      <td>603</td>\n",
       "      <td>841</td>\n",
       "      <td>13</td>\n",
       "      <td>18</td>\n",
       "      <td>236</td>\n",
       "      <td>1855</td>\n",
       "      <td>5323</td>\n",
       "      <td>78</td>\n",
       "      <td>74</td>\n",
       "      <td>-3383</td>\n",
       "      <td>-3542</td>\n",
       "      <td>-3383</td>\n",
       "    </tr>\n",
       "    <tr>\n",
       "      <th>4</th>\n",
       "      <td>1200741010700100571330001</td>\n",
       "      <td>3</td>\n",
       "      <td>987</td>\n",
       "      <td>464</td>\n",
       "      <td>22</td>\n",
       "      <td>9</td>\n",
       "      <td>390</td>\n",
       "      <td>946</td>\n",
       "      <td>3095</td>\n",
       "      <td>199</td>\n",
       "      <td>83</td>\n",
       "      <td>-2041</td>\n",
       "      <td>-2232</td>\n",
       "      <td>-2041</td>\n",
       "    </tr>\n",
       "  </tbody>\n",
       "</table>\n",
       "</div>"
      ],
      "text/plain": [
       "              biosum_cond_id rxpackage  chip_yield_cf  merch_yield_cf  \\\n",
       "0  1200641050705900795510001        15            367             755   \n",
       "1  1200741010700100522500001         1            426            3064   \n",
       "2  1200741010700100571330001         1            603             841   \n",
       "3  1200741010700100571330001         2            603             841   \n",
       "4  1200741010700100571330001         3            987             464   \n",
       "\n",
       "   chip_yield_gt  merch_yield_gt  chip_val_dpa  merch_val_dpa  \\\n",
       "0              9              18           154           1549   \n",
       "1             10              67           176           7220   \n",
       "2             13              18           236           1855   \n",
       "3             13              18           236           1855   \n",
       "4             22               9           390            946   \n",
       "\n",
       "   harvest_onsite_cpa  haul_chip_cpa  haul_merch_cpa  merch_chip_nr_dpa  \\\n",
       "0                2367             21              45               -730   \n",
       "1                3625            129             989               2653   \n",
       "2                5323             78              74              -3383   \n",
       "3                5323             78              74              -3383   \n",
       "4                3095            199              83              -2041   \n",
       "\n",
       "   merch_nr_dpa  max_nr_dpa  \n",
       "0          -863        -730  \n",
       "1          2606        2653  \n",
       "2         -3542       -3383  \n",
       "3         -3542       -3383  \n",
       "4         -2232       -2041  "
      ]
     },
     "execution_count": 160,
     "metadata": {},
     "output_type": "execute_result"
    }
   ],
   "source": [
    "#read in the product cost/rev table from core analysis for rxpackage for the 'best' treatments (weighted average)\n",
    "product = pd.read_excel(open('data/effective_products.xlsx', 'rb'), sheetname='effective_products', lowmemory=False)\n",
    "#change a couple columns to string\n",
    "product.biosum_cond_id = money.biosum_cond_id.astype(str)\n",
    "product.rxpackage = money.rxpackage.astype(str)\n",
    "#print first five records of table\n",
    "product.head(n=5)"
   ]
  },
  {
   "cell_type": "code",
   "execution_count": 161,
   "metadata": {
    "ExecuteTime": {
     "end_time": "2017-06-08T22:18:52.287582Z",
     "start_time": "2017-06-08T22:18:52.240548Z"
    },
    "collapsed": false
   },
   "outputs": [
    {
     "data": {
      "text/plain": [
       "biosum_cond_id             inf\n",
       "rxpackage                  inf\n",
       "chip_yield_cf        1699017.6\n",
       "merch_yield_cf       2941525.3\n",
       "chip_yield_gt          35568.3\n",
       "merch_yield_gt         62834.0\n",
       "chip_val_dpa          640230.2\n",
       "merch_val_dpa        6410712.1\n",
       "harvest_onsite_cpa   5602252.3\n",
       "haul_chip_cpa         247441.9\n",
       "haul_merch_cpa        421612.9\n",
       "merch_chip_nr_dpa     779635.2\n",
       "merch_nr_dpa          386846.9\n",
       "max_nr_dpa            781827.9\n",
       "dtype: float64"
      ]
     },
     "execution_count": 161,
     "metadata": {},
     "output_type": "execute_result"
    }
   ],
   "source": [
    "#calculate the sum of all rows\n",
    "\n",
    "#turn off pesky scientific notation\n",
    "pd.set_option('display.float_format', lambda x: '%.1f' % x)\n",
    "#perform sum\n",
    "product.sum(axis=0)"
   ]
  },
  {
   "cell_type": "code",
   "execution_count": 162,
   "metadata": {
    "ExecuteTime": {
     "end_time": "2017-06-08T22:18:52.425179Z",
     "start_time": "2017-06-08T22:18:52.290584Z"
    },
    "collapsed": false
   },
   "outputs": [
    {
     "data": {
      "text/html": [
       "<div>\n",
       "<table border=\"1\" class=\"dataframe\">\n",
       "  <thead>\n",
       "    <tr style=\"text-align: right;\">\n",
       "      <th></th>\n",
       "      <th>biosum_cond_id</th>\n",
       "      <th>rxpackage</th>\n",
       "      <th>owngrpcd</th>\n",
       "      <th>acres</th>\n",
       "      <th>merch_haul_cost_psite</th>\n",
       "      <th>merch_haul_cost_sum</th>\n",
       "      <th>merch_vol_cf_sum</th>\n",
       "      <th>merch_dollars_val_sum</th>\n",
       "      <th>chip_haul_cost_psite</th>\n",
       "      <th>chip_haul_cost_sum</th>\n",
       "      <th>chip_yield_gt_sum</th>\n",
       "      <th>chip_dollars_val_sum</th>\n",
       "      <th>net_rev_dollars_sum</th>\n",
       "      <th>harv_costs_sum</th>\n",
       "      <th>haul_costs_sum</th>\n",
       "    </tr>\n",
       "  </thead>\n",
       "  <tbody>\n",
       "    <tr>\n",
       "      <th>0</th>\n",
       "      <td>1200641050705900795510001</td>\n",
       "      <td>15</td>\n",
       "      <td>10</td>\n",
       "      <td>1998.1</td>\n",
       "      <td>580</td>\n",
       "      <td>89337.8</td>\n",
       "      <td>1508468.9</td>\n",
       "      <td>3094140.6</td>\n",
       "      <td>593</td>\n",
       "      <td>41820.8</td>\n",
       "      <td>17067.0</td>\n",
       "      <td>307205.7</td>\n",
       "      <td>-1459592.3</td>\n",
       "      <td>4729780.0</td>\n",
       "      <td>131158.6</td>\n",
       "    </tr>\n",
       "    <tr>\n",
       "      <th>1</th>\n",
       "      <td>1200741010700100522500001</td>\n",
       "      <td>1</td>\n",
       "      <td>10</td>\n",
       "      <td>1820.5</td>\n",
       "      <td>580</td>\n",
       "      <td>1799560.6</td>\n",
       "      <td>5578803.5</td>\n",
       "      <td>13143956.6</td>\n",
       "      <td>593</td>\n",
       "      <td>235662.5</td>\n",
       "      <td>17849.3</td>\n",
       "      <td>321288.2</td>\n",
       "      <td>4830530.4</td>\n",
       "      <td>6599491.4</td>\n",
       "      <td>2035223.1</td>\n",
       "    </tr>\n",
       "    <tr>\n",
       "      <th>2</th>\n",
       "      <td>1200741010700100571330001</td>\n",
       "      <td>1</td>\n",
       "      <td>10</td>\n",
       "      <td>1712.0</td>\n",
       "      <td>580</td>\n",
       "      <td>126981.2</td>\n",
       "      <td>1440454.2</td>\n",
       "      <td>3175785.5</td>\n",
       "      <td>593</td>\n",
       "      <td>132755.9</td>\n",
       "      <td>22462.7</td>\n",
       "      <td>404329.0</td>\n",
       "      <td>-5792166.5</td>\n",
       "      <td>9112543.8</td>\n",
       "      <td>259737.1</td>\n",
       "    </tr>\n",
       "    <tr>\n",
       "      <th>3</th>\n",
       "      <td>1200741010700100571330001</td>\n",
       "      <td>2</td>\n",
       "      <td>10</td>\n",
       "      <td>1712.0</td>\n",
       "      <td>481</td>\n",
       "      <td>142722.5</td>\n",
       "      <td>794212.9</td>\n",
       "      <td>1620194.3</td>\n",
       "      <td>606</td>\n",
       "      <td>340591.4</td>\n",
       "      <td>37110.0</td>\n",
       "      <td>667980.3</td>\n",
       "      <td>-3494520.1</td>\n",
       "      <td>5299380.9</td>\n",
       "      <td>483313.8</td>\n",
       "    </tr>\n",
       "    <tr>\n",
       "      <th>4</th>\n",
       "      <td>1200741010700100571330001</td>\n",
       "      <td>3</td>\n",
       "      <td>10</td>\n",
       "      <td>2001.4</td>\n",
       "      <td>580</td>\n",
       "      <td>392671.5</td>\n",
       "      <td>2688525.5</td>\n",
       "      <td>6048071.2</td>\n",
       "      <td>593</td>\n",
       "      <td>0.0</td>\n",
       "      <td>0.0</td>\n",
       "      <td>0.0</td>\n",
       "      <td>766349.5</td>\n",
       "      <td>4889050.2</td>\n",
       "      <td>392671.5</td>\n",
       "    </tr>\n",
       "  </tbody>\n",
       "</table>\n",
       "</div>"
      ],
      "text/plain": [
       "              biosum_cond_id rxpackage  owngrpcd  acres  \\\n",
       "0  1200641050705900795510001        15        10 1998.1   \n",
       "1  1200741010700100522500001         1        10 1820.5   \n",
       "2  1200741010700100571330001         1        10 1712.0   \n",
       "3  1200741010700100571330001         2        10 1712.0   \n",
       "4  1200741010700100571330001         3        10 2001.4   \n",
       "\n",
       "   merch_haul_cost_psite  merch_haul_cost_sum  merch_vol_cf_sum  \\\n",
       "0                    580              89337.8         1508468.9   \n",
       "1                    580            1799560.6         5578803.5   \n",
       "2                    580             126981.2         1440454.2   \n",
       "3                    481             142722.5          794212.9   \n",
       "4                    580             392671.5         2688525.5   \n",
       "\n",
       "   merch_dollars_val_sum  chip_haul_cost_psite  chip_haul_cost_sum  \\\n",
       "0              3094140.6                   593             41820.8   \n",
       "1             13143956.6                   593            235662.5   \n",
       "2              3175785.5                   593            132755.9   \n",
       "3              1620194.3                   606            340591.4   \n",
       "4              6048071.2                   593                 0.0   \n",
       "\n",
       "   chip_yield_gt_sum  chip_dollars_val_sum  net_rev_dollars_sum  \\\n",
       "0            17067.0              307205.7           -1459592.3   \n",
       "1            17849.3              321288.2            4830530.4   \n",
       "2            22462.7              404329.0           -5792166.5   \n",
       "3            37110.0              667980.3           -3494520.1   \n",
       "4                0.0                   0.0             766349.5   \n",
       "\n",
       "   harv_costs_sum  haul_costs_sum  \n",
       "0       4729780.0        131158.6  \n",
       "1       6599491.4       2035223.1  \n",
       "2       9112543.8        259737.1  \n",
       "3       5299380.9        483313.8  \n",
       "4       4889050.2        392671.5  "
      ]
     },
     "execution_count": 162,
     "metadata": {},
     "output_type": "execute_result"
    }
   ],
   "source": [
    "#We can also bring in the stand cost/rev table to get the expanded (by acre results)\n",
    "#read in the stand cost/rev table from core analysis for rxpackage for the 'best' treatments (weighted average)\n",
    "stand = pd.read_excel(open('data/effective_stand.xlsx', 'rb'), sheetname='effective_stand', lowmemory=False)\n",
    "#change a couple columns to string\n",
    "stand.biosum_cond_id = money.biosum_cond_id.astype(str)\n",
    "stand.rxpackage = money.rxpackage.astype(str)\n",
    "#print first five records of table\n",
    "stand.head(n=5)"
   ]
  },
  {
   "cell_type": "code",
   "execution_count": 163,
   "metadata": {
    "ExecuteTime": {
     "end_time": "2017-06-08T22:18:52.475217Z",
     "start_time": "2017-06-08T22:18:52.427681Z"
    },
    "collapsed": false
   },
   "outputs": [
    {
     "data": {
      "text/plain": [
       "biosum_cond_id                   inf\n",
       "rxpackage                        inf\n",
       "owngrpcd                      9870.0\n",
       "acres                      1609168.8\n",
       "merch_haul_cost_psite       429137.0\n",
       "merch_haul_cost_sum      436465474.7\n",
       "merch_vol_cf_sum        3157098110.3\n",
       "merch_dollars_val_sum   6867485310.5\n",
       "chip_haul_cost_psite        466123.0\n",
       "chip_haul_cost_sum       238252464.1\n",
       "chip_yield_gt_sum         35857545.8\n",
       "chip_dollars_val_sum     645435823.6\n",
       "net_rev_dollars_sum     1087600823.1\n",
       "harv_costs_sum          5752625226.7\n",
       "haul_costs_sum           674717938.8\n",
       "dtype: float64"
      ]
     },
     "execution_count": 163,
     "metadata": {},
     "output_type": "execute_result"
    }
   ],
   "source": [
    "#calculate the sum of all rows\n",
    "#perform sum\n",
    "stand.sum(axis=0)\n",
    "#divide by acres for pa values"
   ]
  },
  {
   "cell_type": "code",
   "execution_count": 164,
   "metadata": {
    "ExecuteTime": {
     "end_time": "2017-06-08T22:18:52.520248Z",
     "start_time": "2017-06-08T22:18:52.478217Z"
    },
    "collapsed": false
   },
   "outputs": [
    {
     "data": {
      "text/html": [
       "<div>\n",
       "<table border=\"1\" class=\"dataframe\">\n",
       "  <thead>\n",
       "    <tr style=\"text-align: right;\">\n",
       "      <th></th>\n",
       "      <th>biosum_cond_id</th>\n",
       "      <th>rxpackage</th>\n",
       "      <th>chip_yield_cf</th>\n",
       "      <th>merch_yield_cf</th>\n",
       "      <th>chip_yield_gt</th>\n",
       "      <th>merch_yield_gt</th>\n",
       "      <th>chip_val_dpa</th>\n",
       "      <th>merch_val_dpa</th>\n",
       "      <th>harvest_onsite_cpa</th>\n",
       "      <th>haul_chip_cpa</th>\n",
       "      <th>haul_merch_cpa</th>\n",
       "      <th>merch_chip_nr_dpa</th>\n",
       "      <th>merch_nr_dpa</th>\n",
       "      <th>max_nr_dpa</th>\n",
       "      <th>bioRev</th>\n",
       "    </tr>\n",
       "  </thead>\n",
       "  <tbody>\n",
       "    <tr>\n",
       "      <th>0</th>\n",
       "      <td>1200641050705900795510001</td>\n",
       "      <td>15</td>\n",
       "      <td>366.9</td>\n",
       "      <td>755.0</td>\n",
       "      <td>8.5</td>\n",
       "      <td>17.6</td>\n",
       "      <td>153.7</td>\n",
       "      <td>1548.5</td>\n",
       "      <td>2367.2</td>\n",
       "      <td>20.9</td>\n",
       "      <td>44.7</td>\n",
       "      <td>-730.5</td>\n",
       "      <td>-863.3</td>\n",
       "      <td>-730.5</td>\n",
       "      <td>Y</td>\n",
       "    </tr>\n",
       "    <tr>\n",
       "      <th>1</th>\n",
       "      <td>1200741010700100522500001</td>\n",
       "      <td>1</td>\n",
       "      <td>425.9</td>\n",
       "      <td>3064.5</td>\n",
       "      <td>9.8</td>\n",
       "      <td>67.2</td>\n",
       "      <td>176.5</td>\n",
       "      <td>7220.0</td>\n",
       "      <td>3625.1</td>\n",
       "      <td>129.5</td>\n",
       "      <td>988.5</td>\n",
       "      <td>2653.4</td>\n",
       "      <td>2606.4</td>\n",
       "      <td>2653.4</td>\n",
       "      <td>Y</td>\n",
       "    </tr>\n",
       "    <tr>\n",
       "      <th>2</th>\n",
       "      <td>1200741010700100571330001</td>\n",
       "      <td>1</td>\n",
       "      <td>603.4</td>\n",
       "      <td>841.4</td>\n",
       "      <td>13.1</td>\n",
       "      <td>18.1</td>\n",
       "      <td>236.2</td>\n",
       "      <td>1855.0</td>\n",
       "      <td>5322.8</td>\n",
       "      <td>77.5</td>\n",
       "      <td>74.2</td>\n",
       "      <td>-3383.3</td>\n",
       "      <td>-3541.9</td>\n",
       "      <td>-3383.3</td>\n",
       "      <td>Y</td>\n",
       "    </tr>\n",
       "    <tr>\n",
       "      <th>3</th>\n",
       "      <td>1200741010700100571330001</td>\n",
       "      <td>2</td>\n",
       "      <td>603.4</td>\n",
       "      <td>841.4</td>\n",
       "      <td>13.1</td>\n",
       "      <td>18.1</td>\n",
       "      <td>236.2</td>\n",
       "      <td>1855.0</td>\n",
       "      <td>5322.8</td>\n",
       "      <td>77.5</td>\n",
       "      <td>74.2</td>\n",
       "      <td>-3383.3</td>\n",
       "      <td>-3541.9</td>\n",
       "      <td>-3383.3</td>\n",
       "      <td>Y</td>\n",
       "    </tr>\n",
       "    <tr>\n",
       "      <th>4</th>\n",
       "      <td>1200741010700100571330001</td>\n",
       "      <td>3</td>\n",
       "      <td>986.9</td>\n",
       "      <td>463.9</td>\n",
       "      <td>21.7</td>\n",
       "      <td>9.4</td>\n",
       "      <td>390.2</td>\n",
       "      <td>946.4</td>\n",
       "      <td>3095.4</td>\n",
       "      <td>198.9</td>\n",
       "      <td>83.4</td>\n",
       "      <td>-2041.2</td>\n",
       "      <td>-2232.4</td>\n",
       "      <td>-2041.2</td>\n",
       "      <td>Y</td>\n",
       "    </tr>\n",
       "  </tbody>\n",
       "</table>\n",
       "</div>"
      ],
      "text/plain": [
       "              biosum_cond_id rxpackage  chip_yield_cf  merch_yield_cf  \\\n",
       "0  1200641050705900795510001        15          366.9           755.0   \n",
       "1  1200741010700100522500001         1          425.9          3064.5   \n",
       "2  1200741010700100571330001         1          603.4           841.4   \n",
       "3  1200741010700100571330001         2          603.4           841.4   \n",
       "4  1200741010700100571330001         3          986.9           463.9   \n",
       "\n",
       "   chip_yield_gt  merch_yield_gt  chip_val_dpa  merch_val_dpa  \\\n",
       "0            8.5            17.6         153.7         1548.5   \n",
       "1            9.8            67.2         176.5         7220.0   \n",
       "2           13.1            18.1         236.2         1855.0   \n",
       "3           13.1            18.1         236.2         1855.0   \n",
       "4           21.7             9.4         390.2          946.4   \n",
       "\n",
       "   harvest_onsite_cpa  haul_chip_cpa  haul_merch_cpa  merch_chip_nr_dpa  \\\n",
       "0              2367.2           20.9            44.7             -730.5   \n",
       "1              3625.1          129.5           988.5             2653.4   \n",
       "2              5322.8           77.5            74.2            -3383.3   \n",
       "3              5322.8           77.5            74.2            -3383.3   \n",
       "4              3095.4          198.9            83.4            -2041.2   \n",
       "\n",
       "   merch_nr_dpa  max_nr_dpa bioRev  \n",
       "0        -863.3      -730.5      Y  \n",
       "1        2606.4      2653.4      Y  \n",
       "2       -3541.9     -3383.3      Y  \n",
       "3       -3541.9     -3383.3      Y  \n",
       "4       -2232.4     -2041.2      Y  "
      ]
     },
     "execution_count": 164,
     "metadata": {},
     "output_type": "execute_result"
    }
   ],
   "source": [
    "#which stands had a higher max_nr by including bioenergy wood?\n",
    "#add column bioRev\n",
    "product['bioRev']=np.NaN\n",
    "#if max nr is greater than merch nr, then bioRev is Y\n",
    "product.loc[product.max_nr_dpa > product.merch_nr_dpa,['bioRev']] = 'Y'; product\n",
    "#if max nr is the same as merch_nr then we know including chips made it less profitable, so bioRev is N\n",
    "product.loc[product.max_nr_dpa == product.merch_nr_dpa,['bioRev']] = 'N'; product\n",
    "product.head(n=5)"
   ]
  },
  {
   "cell_type": "code",
   "execution_count": 165,
   "metadata": {
    "ExecuteTime": {
     "end_time": "2017-06-08T22:18:52.537759Z",
     "start_time": "2017-06-08T22:18:52.523249Z"
    },
    "collapsed": false
   },
   "outputs": [
    {
     "name": "stdout",
     "output_type": "stream",
     "text": [
      "  bioRev  biosum_cond_id\n",
      "0      N              75\n",
      "1      Y            1429\n"
     ]
    }
   ],
   "source": [
    "#count the number of stands that fall into the bioRev = Y and bioRev = N categories. \n",
    "p=product[['biosum_cond_id','bioRev']].groupby(['bioRev']).count().reset_index()\n",
    "print(p)"
   ]
  },
  {
   "cell_type": "code",
   "execution_count": 166,
   "metadata": {
    "collapsed": false
   },
   "outputs": [
    {
     "name": "stdout",
     "output_type": "stream",
     "text": [
      "94.89144316730524\n"
     ]
    }
   ],
   "source": [
    "#what is the percentage?\n",
    "per = (743/(40+743))*100\n",
    "print(per)"
   ]
  },
  {
   "cell_type": "markdown",
   "metadata": {},
   "source": [
    "# Effect of closing a mill on area treated and net revenue overall."
   ]
  },
  {
   "cell_type": "markdown",
   "metadata": {},
   "source": [
    "For this inquiry I created a new core analysis run, weightedAvg_mill, in which everything is the same as weightedAvg, but two mills were removed.  Elkhorn Biomass and Haines merch wood mill. The results show what happens when a regional mill closes. "
   ]
  },
  {
   "cell_type": "code",
   "execution_count": 167,
   "metadata": {
    "ExecuteTime": {
     "end_time": "2017-06-08T22:18:52.584793Z",
     "start_time": "2017-06-08T22:18:52.541261Z"
    },
    "collapsed": true
   },
   "outputs": [],
   "source": [
    "#read in the weighted_NR_mill table (which is the cycle1_best_rx_summary from CORE ANALYSIS for weightedAvg_mill scenario, not based on NET REV)\n",
    "mill = pd.read_excel(open('data/weighted_NR_mill.xlsx', 'rb'), sheetname='cycle1_best_rx_summary', lowmemory=False)\n"
   ]
  },
  {
   "cell_type": "code",
   "execution_count": 168,
   "metadata": {
    "ExecuteTime": {
     "end_time": "2017-06-08T22:18:52.606308Z",
     "start_time": "2017-06-08T22:18:52.588796Z"
    },
    "collapsed": false
   },
   "outputs": [
    {
     "data": {
      "text/html": [
       "<div>\n",
       "<table border=\"1\" class=\"dataframe\">\n",
       "  <thead>\n",
       "    <tr style=\"text-align: right;\">\n",
       "      <th></th>\n",
       "      <th>biosum_cond_id</th>\n",
       "      <th>rx</th>\n",
       "      <th>acres</th>\n",
       "      <th>owngrpcd</th>\n",
       "      <th>optimization_value</th>\n",
       "      <th>tiebreaker_value</th>\n",
       "      <th>rx_intensity</th>\n",
       "    </tr>\n",
       "  </thead>\n",
       "  <tbody>\n",
       "    <tr>\n",
       "      <th>0</th>\n",
       "      <td>1200741010700100571330001</td>\n",
       "      <td>107</td>\n",
       "      <td>1998.1</td>\n",
       "      <td>10</td>\n",
       "      <td>-0.3</td>\n",
       "      <td>84.7</td>\n",
       "      <td>nan</td>\n",
       "    </tr>\n",
       "    <tr>\n",
       "      <th>1</th>\n",
       "      <td>1200741010700100600620001</td>\n",
       "      <td>104</td>\n",
       "      <td>1820.5</td>\n",
       "      <td>10</td>\n",
       "      <td>-0.2</td>\n",
       "      <td>83.3</td>\n",
       "      <td>nan</td>\n",
       "    </tr>\n",
       "    <tr>\n",
       "      <th>2</th>\n",
       "      <td>1200741010700100736160001</td>\n",
       "      <td>115</td>\n",
       "      <td>2001.4</td>\n",
       "      <td>10</td>\n",
       "      <td>-0.0</td>\n",
       "      <td>23.7</td>\n",
       "      <td>nan</td>\n",
       "    </tr>\n",
       "    <tr>\n",
       "      <th>3</th>\n",
       "      <td>1200741010700100745730001</td>\n",
       "      <td>114</td>\n",
       "      <td>1764.1</td>\n",
       "      <td>10</td>\n",
       "      <td>-0.2</td>\n",
       "      <td>61.1</td>\n",
       "      <td>nan</td>\n",
       "    </tr>\n",
       "    <tr>\n",
       "      <th>4</th>\n",
       "      <td>1200741010700100814910001</td>\n",
       "      <td>116</td>\n",
       "      <td>1799.2</td>\n",
       "      <td>10</td>\n",
       "      <td>-0.5</td>\n",
       "      <td>85.9</td>\n",
       "      <td>nan</td>\n",
       "    </tr>\n",
       "  </tbody>\n",
       "</table>\n",
       "</div>"
      ],
      "text/plain": [
       "              biosum_cond_id   rx  acres  owngrpcd  optimization_value  \\\n",
       "0  1200741010700100571330001  107 1998.1        10                -0.3   \n",
       "1  1200741010700100600620001  104 1820.5        10                -0.2   \n",
       "2  1200741010700100736160001  115 2001.4        10                -0.0   \n",
       "3  1200741010700100745730001  114 1764.1        10                -0.2   \n",
       "4  1200741010700100814910001  116 1799.2        10                -0.5   \n",
       "\n",
       "   tiebreaker_value  rx_intensity  \n",
       "0              84.7           nan  \n",
       "1              83.3           nan  \n",
       "2              23.7           nan  \n",
       "3              61.1           nan  \n",
       "4              85.9           nan  "
      ]
     },
     "execution_count": 168,
     "metadata": {},
     "output_type": "execute_result"
    }
   ],
   "source": [
    "#display top 5 lines of table\n",
    "mill.head(n=5)"
   ]
  },
  {
   "cell_type": "code",
   "execution_count": 169,
   "metadata": {
    "ExecuteTime": {
     "end_time": "2017-06-08T22:18:52.620818Z",
     "start_time": "2017-06-08T22:18:52.609810Z"
    },
    "collapsed": true
   },
   "outputs": [],
   "source": [
    "#group by owner and hazard score, display acres\n",
    "groupby_w = mill[['owngrpcd', 'rx', 'acres']].groupby(['owngrpcd', 'rx'])\n"
   ]
  },
  {
   "cell_type": "code",
   "execution_count": 170,
   "metadata": {
    "ExecuteTime": {
     "end_time": "2017-06-08T22:18:52.660346Z",
     "start_time": "2017-06-08T22:18:52.623820Z"
    },
    "collapsed": false,
    "scrolled": true
   },
   "outputs": [
    {
     "data": {
      "text/html": [
       "<div>\n",
       "<table border=\"1\" class=\"dataframe\">\n",
       "  <thead>\n",
       "    <tr style=\"text-align: right;\">\n",
       "      <th></th>\n",
       "      <th>owngrpcd</th>\n",
       "      <th>rx</th>\n",
       "      <th>acres sum</th>\n",
       "      <th>counts</th>\n",
       "    </tr>\n",
       "  </thead>\n",
       "  <tbody>\n",
       "    <tr>\n",
       "      <th>0</th>\n",
       "      <td>10</td>\n",
       "      <td>100</td>\n",
       "      <td>22183.9</td>\n",
       "      <td>13</td>\n",
       "    </tr>\n",
       "    <tr>\n",
       "      <th>1</th>\n",
       "      <td>10</td>\n",
       "      <td>101</td>\n",
       "      <td>1978.8</td>\n",
       "      <td>2</td>\n",
       "    </tr>\n",
       "    <tr>\n",
       "      <th>2</th>\n",
       "      <td>10</td>\n",
       "      <td>102</td>\n",
       "      <td>18739.6</td>\n",
       "      <td>10</td>\n",
       "    </tr>\n",
       "    <tr>\n",
       "      <th>3</th>\n",
       "      <td>10</td>\n",
       "      <td>103</td>\n",
       "      <td>1885.6</td>\n",
       "      <td>1</td>\n",
       "    </tr>\n",
       "    <tr>\n",
       "      <th>4</th>\n",
       "      <td>10</td>\n",
       "      <td>104</td>\n",
       "      <td>156987.7</td>\n",
       "      <td>87</td>\n",
       "    </tr>\n",
       "  </tbody>\n",
       "</table>\n",
       "</div>"
      ],
      "text/plain": [
       "   owngrpcd   rx  acres sum  counts\n",
       "0        10  100    22183.9      13\n",
       "1        10  101     1978.8       2\n",
       "2        10  102    18739.6      10\n",
       "3        10  103     1885.6       1\n",
       "4        10  104   156987.7      87"
      ]
     },
     "execution_count": 170,
     "metadata": {},
     "output_type": "execute_result"
    }
   ],
   "source": [
    "#calculate the sum of acres, by ownergroup and hazard score, for intial conditions, also provide a count. \n",
    "mill = groupby_w.agg('sum')\\\n",
    "                .rename(columns = lambda x: x + ' sum')\\\n",
    "                .join(pd.DataFrame(groupby_w.size(), \n",
    "                                      columns=['counts']))\\\n",
    "                .reset_index()\n",
    "\n",
    "#print the first five lines of the new table\n",
    "mill.head(n=5)"
   ]
  },
  {
   "cell_type": "code",
   "execution_count": 171,
   "metadata": {
    "ExecuteTime": {
     "end_time": "2017-06-08T22:18:52.948051Z",
     "start_time": "2017-06-08T22:18:52.663348Z"
    },
    "collapsed": false
   },
   "outputs": [
    {
     "data": {
      "text/html": [
       "<div>\n",
       "<table border=\"1\" class=\"dataframe\">\n",
       "  <thead>\n",
       "    <tr style=\"text-align: right;\">\n",
       "      <th></th>\n",
       "      <th>owngrpcd</th>\n",
       "      <th>rx</th>\n",
       "      <th>acres sum</th>\n",
       "      <th>counts</th>\n",
       "      <th>percent</th>\n",
       "    </tr>\n",
       "  </thead>\n",
       "  <tbody>\n",
       "    <tr>\n",
       "      <th>0</th>\n",
       "      <td>10</td>\n",
       "      <td>100</td>\n",
       "      <td>11674.0</td>\n",
       "      <td>9</td>\n",
       "      <td>0.5</td>\n",
       "    </tr>\n",
       "    <tr>\n",
       "      <th>1</th>\n",
       "      <td>10</td>\n",
       "      <td>101</td>\n",
       "      <td>5974.1</td>\n",
       "      <td>4</td>\n",
       "      <td>0.3</td>\n",
       "    </tr>\n",
       "    <tr>\n",
       "      <th>2</th>\n",
       "      <td>10</td>\n",
       "      <td>102</td>\n",
       "      <td>8918.1</td>\n",
       "      <td>6</td>\n",
       "      <td>0.4</td>\n",
       "    </tr>\n",
       "    <tr>\n",
       "      <th>3</th>\n",
       "      <td>10</td>\n",
       "      <td>103</td>\n",
       "      <td>13506.2</td>\n",
       "      <td>7</td>\n",
       "      <td>0.6</td>\n",
       "    </tr>\n",
       "    <tr>\n",
       "      <th>4</th>\n",
       "      <td>10</td>\n",
       "      <td>104</td>\n",
       "      <td>77155.4</td>\n",
       "      <td>42</td>\n",
       "      <td>3.6</td>\n",
       "    </tr>\n",
       "  </tbody>\n",
       "</table>\n",
       "</div>"
      ],
      "text/plain": [
       "   owngrpcd   rx  acres sum  counts  percent\n",
       "0        10  100    11674.0       9      0.5\n",
       "1        10  101     5974.1       4      0.3\n",
       "2        10  102     8918.1       6      0.4\n",
       "3        10  103    13506.2       7      0.6\n",
       "4        10  104    77155.4      42      3.6"
      ]
     },
     "execution_count": 171,
     "metadata": {},
     "output_type": "execute_result"
    }
   ],
   "source": [
    "#find percentage of acres treated by each rx by owner group\n",
    "#NOTE: percentages are of owner group acre totals, NOT of combined total acres\n",
    "mill['percent']=np.NaN\n",
    "mill['percent'][mill.owngrpcd==10]=(mill['acres sum']/fed)*100\n",
    "mill['percent'][mill.owngrpcd==40]=(mill['acres sum']/private)*100\n",
    "fe_nNR.head(n=5)"
   ]
  },
  {
   "cell_type": "markdown",
   "metadata": {},
   "source": [
    "Dataframe **fe_nNR**: ownergroup, rx, sum of acres, counts, and percent of subgroup total acres, that COULD be treated effectively by at least one treatment. "
   ]
  },
  {
   "cell_type": "code",
   "execution_count": 172,
   "metadata": {
    "ExecuteTime": {
     "end_time": "2017-06-08T22:18:52.960059Z",
     "start_time": "2017-06-08T22:18:52.951052Z"
    },
    "collapsed": true
   },
   "outputs": [],
   "source": [
    "#total up acres that are able to be treated by an rx by ownertype\n",
    "fed_treat3=mill[mill[\"owngrpcd\"]==10].sum()[\"acres sum\"]\n",
    "private_treat3=mill[mill[\"owngrpcd\"]==40].sum()[\"acres sum\"]"
   ]
  },
  {
   "cell_type": "code",
   "execution_count": 173,
   "metadata": {
    "ExecuteTime": {
     "end_time": "2017-06-08T22:18:52.978071Z",
     "start_time": "2017-06-08T22:18:52.963561Z"
    },
    "collapsed": false,
    "scrolled": true
   },
   "outputs": [
    {
     "name": "stdout",
     "output_type": "stream",
     "text": [
      "986763.361601\n",
      "317360.870539\n"
     ]
    }
   ],
   "source": [
    "print(fed_treat3)\n",
    "print(private_treat3)"
   ]
  },
  {
   "cell_type": "markdown",
   "metadata": {},
   "source": [
    "Total acres that could be treated by any rx with a net revenue > 0:\n",
    "* **Federal**: 986,763\n",
    "* **Private**: 317,360"
   ]
  },
  {
   "cell_type": "code",
   "execution_count": 174,
   "metadata": {
    "ExecuteTime": {
     "end_time": "2017-06-08T22:18:52.994583Z",
     "start_time": "2017-06-08T22:18:52.986577Z"
    },
    "collapsed": true
   },
   "outputs": [],
   "source": [
    "#total up percent of acres that are able to be treated by an rx by ownertype\n",
    "fed_treat3P=mill[mill[\"owngrpcd\"]==10].sum()[\"percent\"]\n",
    "private_treat3P=mill[mill[\"owngrpcd\"]==40].sum()[\"percent\"]"
   ]
  },
  {
   "cell_type": "code",
   "execution_count": 175,
   "metadata": {
    "ExecuteTime": {
     "end_time": "2017-06-09T16:50:16.611600Z",
     "start_time": "2017-06-09T16:50:16.600092Z"
    },
    "collapsed": false,
    "scrolled": true
   },
   "outputs": [
    {
     "name": "stdout",
     "output_type": "stream",
     "text": [
      "45.8048987994\n",
      "38.0662358147\n"
     ]
    }
   ],
   "source": [
    "print(fed_treat3P)\n",
    "print(private_treat3P)"
   ]
  },
  {
   "cell_type": "markdown",
   "metadata": {},
   "source": [
    "**45% of federal acres** could be effectively treated by one or more of the treatment packages. \n",
    "\n",
    "**38% of private acres** could be effectively treated by one or more of the treatment packages.  \n",
    "\n",
    "Which means that removing these mills from the analysis does not change the number of acres that can be effectively treated which a net revenue greater than 0.  Very interesting. "
   ]
  },
  {
   "cell_type": "markdown",
   "metadata": {
    "ExecuteTime": {
     "end_time": "2017-06-09T16:50:12.985471Z",
     "start_time": "2017-06-09T16:50:12.980969Z"
    },
    "collapsed": true
   },
   "source": [
    "# In that case, how does removing mills change net revenue values? How do harvest costs compare? Does this change the profitability of bioenergy? \n"
   ]
  },
  {
   "cell_type": "code",
   "execution_count": 176,
   "metadata": {
    "collapsed": false
   },
   "outputs": [],
   "source": [
    "#read in the product cost/rev table from core analysis for rxpackage for the 'best' treatments (weighted average for mill scenario)\n",
    "productM = pd.read_excel(open('data/millCompare.xlsx', 'rb'), sheetname='compare', lowmemory=False)"
   ]
  },
  {
   "cell_type": "code",
   "execution_count": 177,
   "metadata": {
    "collapsed": false
   },
   "outputs": [],
   "source": [
    "productM.head(n=5)\n",
    "productM.to_csv('outputs/productM.csv')"
   ]
  },
  {
   "cell_type": "code",
   "execution_count": 178,
   "metadata": {
    "collapsed": false
   },
   "outputs": [],
   "source": [
    "#export to csv for R graphing\n",
    "productMelt = pd.melt(productM, id_vars=['biosum_cond_id'], value_vars=['max_nr_dpa', 'mill_max_nr'])\n",
    "productMelt.to_csv('outputs/productMelt.csv')"
   ]
  },
  {
   "cell_type": "code",
   "execution_count": 179,
   "metadata": {
    "collapsed": false
   },
   "outputs": [
    {
     "data": {
      "text/html": [
       "<img src=\"graphs/mill.png\" width=\"400\" height=\"400\"/>"
      ],
      "text/plain": [
       "<IPython.core.display.Image object>"
      ]
     },
     "execution_count": 179,
     "metadata": {},
     "output_type": "execute_result"
    }
   ],
   "source": [
    "Image(url= \"graphs/mill.png\", width=400, height=400)"
   ]
  },
  {
   "cell_type": "code",
   "execution_count": 180,
   "metadata": {
    "collapsed": false
   },
   "outputs": [
    {
     "data": {
      "text/html": [
       "<img src=\"graphs/mill2.png\" width=\"400\" height=\"250\"/>"
      ],
      "text/plain": [
       "<IPython.core.display.Image object>"
      ]
     },
     "execution_count": 180,
     "metadata": {},
     "output_type": "execute_result"
    }
   ],
   "source": [
    "Image(url= \"graphs/mill2.png\", width=400, height=250)"
   ]
  },
  {
   "cell_type": "raw",
   "metadata": {
    "collapsed": true
   },
   "source": [
    "!jupyter nbconvert --to html \"Explore BM Questions.ipynb"
   ]
  },
  {
   "cell_type": "code",
   "execution_count": 182,
   "metadata": {
    "collapsed": false
   },
   "outputs": [
    {
     "ename": "SyntaxError",
     "evalue": "invalid syntax (<ipython-input-182-e3632db641c1>, line 1)",
     "output_type": "error",
     "traceback": [
      "\u001b[0;36m  File \u001b[0;32m\"<ipython-input-182-e3632db641c1>\"\u001b[0;36m, line \u001b[0;32m1\u001b[0m\n\u001b[0;31m    ipython nbconvert --to pdf Explore BM Questions.ipynb\u001b[0m\n\u001b[0m                    ^\u001b[0m\n\u001b[0;31mSyntaxError\u001b[0m\u001b[0;31m:\u001b[0m invalid syntax\n"
     ]
    }
   ],
   "source": [
    "ipython nbconvert --to pdf Explore BM Questions.ipynb"
   ]
  },
  {
   "cell_type": "code",
   "execution_count": null,
   "metadata": {
    "collapsed": true
   },
   "outputs": [],
   "source": []
  }
 ],
 "metadata": {
  "kernelspec": {
   "display_name": "Python 3",
   "language": "python",
   "name": "python3"
  },
  "language_info": {
   "codemirror_mode": {
    "name": "ipython",
    "version": 3
   },
   "file_extension": ".py",
   "mimetype": "text/x-python",
   "name": "python",
   "nbconvert_exporter": "python",
   "pygments_lexer": "ipython3",
   "version": "3.4.5"
  },
  "toc": {
   "colors": {
    "hover_highlight": "#DAA520",
    "navigate_num": "#000000",
    "navigate_text": "#333333",
    "running_highlight": "#FF0000",
    "selected_highlight": "#FFD700",
    "sidebar_border": "#EEEEEE",
    "wrapper_background": "#FFFFFF"
   },
   "moveMenuLeft": true,
   "nav_menu": {
    "height": "101px",
    "width": "252px"
   },
   "navigate_menu": true,
   "number_sections": true,
   "sideBar": true,
   "threshold": 4,
   "toc_cell": false,
   "toc_position": {
    "height": "844px",
    "left": "0px",
    "right": "1765px",
    "top": "106px",
    "width": "266px"
   },
   "toc_section_display": "block",
   "toc_window_display": true,
   "widenNotebook": false
  }
 },
 "nbformat": 4,
 "nbformat_minor": 2
}
